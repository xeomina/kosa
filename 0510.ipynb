{
 "cells": [
  {
   "cell_type": "markdown",
   "metadata": {},
   "source": [
    "# 02. 입력 input"
   ]
  },
  {
   "cell_type": "code",
   "execution_count": null,
   "metadata": {},
   "outputs": [
    {
     "data": {
      "text/plain": [
       "'12345'"
      ]
     },
     "metadata": {},
     "output_type": "display_data"
    }
   ],
   "source": [
    "input()"
   ]
  },
  {
   "cell_type": "code",
   "execution_count": null,
   "metadata": {},
   "outputs": [],
   "source": [
    "# Introspection\n",
    "# - 주피터 노트북에서 객체 등에 대한 정보/설명을 보여주는 기능\n",
    "# - ? 사용\n",
    "\n",
    "input?\n",
    "function?"
   ]
  },
  {
   "cell_type": "code",
   "execution_count": null,
   "metadata": {},
   "outputs": [
    {
     "data": {
      "text/plain": [
       "'3389'"
      ]
     },
     "metadata": {},
     "output_type": "display_data"
    }
   ],
   "source": [
    "input('값을 입력해 주세요>>')"
   ]
  },
  {
   "cell_type": "code",
   "execution_count": null,
   "metadata": {},
   "outputs": [
    {
     "name": "stdout",
     "output_type": "stream",
     "text": [
      "안녕하세요\n"
     ]
    }
   ],
   "source": [
    "first = input('첫 번째 문자열 입력:')\n",
    "second = input('두 번째 문자열 입력:')\n",
    "print(first + second)"
   ]
  },
  {
   "cell_type": "code",
   "execution_count": null,
   "metadata": {},
   "outputs": [],
   "source": [
    "# 입력 받은 숫자를 문자가 아닌 숫자로 처리하고 싶을 때\n",
    "# 데이터 변환 함수(클래스의 생성자) 사용\n",
    "# 문자열을 정수로 변환 : int() -- 겉보기에는 함수지만 실제로는 클래스 (생성자)"
   ]
  },
  {
   "cell_type": "code",
   "execution_count": null,
   "metadata": {},
   "outputs": [
    {
     "data": {
      "text/plain": [
       "str"
      ]
     },
     "metadata": {},
     "output_type": "display_data"
    }
   ],
   "source": [
    "# type(): 함수처럼 보이지만 실제로는 클래스\n",
    "# - type을 이용하면 객체의 클래스를 알 수 있음\n",
    "type('안녕')"
   ]
  },
  {
   "cell_type": "code",
   "execution_count": null,
   "metadata": {},
   "outputs": [
    {
     "name": "stdout",
     "output_type": "stream",
     "text": [
      "<class 'str'>\n"
     ]
    }
   ],
   "source": [
    "print(type('안녕'))"
   ]
  },
  {
   "cell_type": "code",
   "execution_count": null,
   "metadata": {},
   "outputs": [
    {
     "name": "stdout",
     "output_type": "stream",
     "text": [
      "<class 'type'>\n"
     ]
    }
   ],
   "source": [
    "print(type(type))"
   ]
  },
  {
   "cell_type": "code",
   "execution_count": null,
   "metadata": {},
   "outputs": [
    {
     "name": "stdout",
     "output_type": "stream",
     "text": [
      "<class 'type'>\n"
     ]
    }
   ],
   "source": [
    "print(type(int))"
   ]
  },
  {
   "cell_type": "code",
   "execution_count": null,
   "metadata": {},
   "outputs": [],
   "source": [
    "int('1234')\n",
    "int('123.45')"
   ]
  },
  {
   "cell_type": "code",
   "execution_count": null,
   "metadata": {},
   "outputs": [
    {
     "data": {
      "text/plain": [
       "123.45"
      ]
     },
     "metadata": {},
     "output_type": "display_data"
    }
   ],
   "source": [
    "float('123.45')"
   ]
  },
  {
   "cell_type": "code",
   "execution_count": null,
   "metadata": {},
   "outputs": [
    {
     "name": "stdout",
     "output_type": "stream",
     "text": [
      "579.0\n"
     ]
    }
   ],
   "source": [
    "# 입력 받은 숫자를 문자가 아닌 숫자로 처리하고 싶을 때\n",
    "first  = input('첫 번째 숫자 입력:')\n",
    "second = input('두 번째 숫자 입력:')\n",
    "print(float(first)+float(second))"
   ]
  },
  {
   "cell_type": "code",
   "execution_count": null,
   "metadata": {},
   "outputs": [
    {
     "name": "stdout",
     "output_type": "stream",
     "text": [
      "579.0\n"
     ]
    }
   ],
   "source": [
    "first  = float(input('첫 번째 숫자 입력:'))\n",
    "second = float(input('두 번째 숫자 입력:'))\n",
    "print(first+second)"
   ]
  },
  {
   "cell_type": "markdown",
   "metadata": {},
   "source": [
    "# 03. 변수 - 수자형, 문자형, 소수점형, BOOL형"
   ]
  },
  {
   "cell_type": "code",
   "execution_count": null,
   "metadata": {},
   "outputs": [],
   "source": [
    "# 변수란?\n",
    "# - 값(데이터)를 담는 그릇\n",
    "# - 종류와 크기\n",
    "# - 데이터의 종류와 크키에 따라 데이터 타입이 결정\n",
    "#   이 데이터를 담는 변수의 데이터 타입도 결정"
   ]
  },
  {
   "cell_type": "code",
   "execution_count": null,
   "metadata": {},
   "outputs": [],
   "source": [
    "# 정적(static) vs. 동적(dynamic)\n",
    "# compilation-time vs. run-time"
   ]
  },
  {
   "cell_type": "code",
   "execution_count": null,
   "metadata": {},
   "outputs": [],
   "source": [
    "# 정적 타입 언어 vs. 동적 타입 언어\n",
    "# 동적 타입 언어: 프로그램 실행 중에 변수의 데이터 타입이 변경 가능\n",
    "#                 변수가 특정 데이터 타입으로 결정되지 않음\n",
    "# 정적 타입 언어: 변수에 데이터 타입을 미리 선언\n",
    "#                 그 변수는 해당 데이터 타입만 저장 가능"
   ]
  },
  {
   "cell_type": "code",
   "execution_count": null,
   "metadata": {},
   "outputs": [],
   "source": [
    "# 파이썬: 강타입 언어 & 동적 타입 언어\n",
    "# - 올바른 데이터를 사용하지 않으면 TypeError, ValueError\n",
    "# - 변수는 선언 없이 바로 생성, 대신 초기화 필요\n",
    "# - 즉, 파이썬에서 변수를 사용하여면 변수를 초기화 해야 한다. (선언이 없으므로)"
   ]
  },
  {
   "cell_type": "code",
   "execution_count": null,
   "metadata": {},
   "outputs": [
    {
     "ename": "NameError",
     "evalue": "name 'fn' is not defined",
     "output_type": "error",
     "traceback": [
      "\u001b[1;31m---------------------------------------------------------------------------\u001b[0m\n",
      "\u001b[1;31mNameError\u001b[0m                                 Traceback (most recent call last)\n",
      "\u001b[1;32m~\\AppData\\Local\\Temp/ipykernel_6460/1141245739.py\u001b[0m in \u001b[0;36m<module>\u001b[1;34m\u001b[0m\n",
      "\u001b[1;32m----> 1\u001b[1;33m \u001b[0mprint\u001b[0m\u001b[1;33m(\u001b[0m\u001b[0mfn\u001b[0m\u001b[1;33m)\u001b[0m\u001b[1;33m\u001b[0m\u001b[1;33m\u001b[0m\u001b[0m\n",
      "\u001b[0m\n",
      "\u001b[1;31mNameError\u001b[0m: name 'fn' is not defined"
     ]
    }
   ],
   "source": [
    "print(fn)"
   ]
  },
  {
   "cell_type": "code",
   "execution_count": null,
   "metadata": {},
   "outputs": [],
   "source": [
    "# 파이썬에서 생성한 변수와 객체의 목록을 보고 싶다면\n",
    "# dir() 함수\n",
    "fn = '함수'\n",
    "print(dir())\n",
    "print(fn)"
   ]
  },
  {
   "cell_type": "code",
   "execution_count": null,
   "metadata": {},
   "outputs": [],
   "source": [
    "print(type(fn))\n",
    "fn = 100\n",
    "print(type(fn))"
   ]
  },
  {
   "cell_type": "code",
   "execution_count": null,
   "metadata": {},
   "outputs": [
    {
     "ename": "SyntaxError",
     "evalue": "invalid syntax (Temp/ipykernel_6460/1229109892.py, line 1)",
     "output_type": "error",
     "traceback": [
      "\u001b[1;36m  File \u001b[1;32m\"C:\\Users\\r2com\\AppData\\Local\\Temp/ipykernel_6460/1229109892.py\"\u001b[1;36m, line \u001b[1;32m1\u001b[0m\n",
      "\u001b[1;33m    priht(dir)str\u001b[0m\n",
      "\u001b[1;37m              ^\u001b[0m\n",
      "\u001b[1;31mSyntaxError\u001b[0m\u001b[1;31m:\u001b[0m invalid syntax\n"
     ]
    }
   ],
   "source": [
    "print(dir(str))"
   ]
  },
  {
   "cell_type": "code",
   "execution_count": null,
   "metadata": {},
   "outputs": [],
   "source": [
    "a = b = c = 1234567     # = assignment operator : 오른쪽에서 왼쪽\n",
    "print(a, b, c)\n",
    "# id() : 객체의 id(주소) 반환\n",
    "id(a), id(b), id(c)"
   ]
  },
  {
   "cell_type": "code",
   "execution_count": null,
   "metadata": {},
   "outputs": [],
   "source": [
    "c = 200\n",
    "print(a, b, c)\n",
    "id(a), id(b), id(c)"
   ]
  },
  {
   "cell_type": "code",
   "execution_count": null,
   "metadata": {},
   "outputs": [
    {
     "name": "stdout",
     "output_type": "stream",
     "text": [
      "30\n",
      "2010\n"
     ]
    }
   ],
   "source": [
    "a = 10\n",
    "b = 10\n",
    "c = a + b\n",
    "d = '10'\n",
    "print(c + int(d))\n",
    "print(str(c) + d)"
   ]
  },
  {
   "cell_type": "code",
   "execution_count": null,
   "metadata": {},
   "outputs": [
    {
     "name": "stdout",
     "output_type": "stream",
     "text": [
      "<class 'bool'>\n"
     ]
    }
   ],
   "source": [
    "# boolean type\n",
    "# - 파이썬 볼 리터럴 : True, False (첫글자 대문자에 유의)\n",
    "print(type(True))"
   ]
  },
  {
   "cell_type": "markdown",
   "metadata": {},
   "source": [
    "# 04. 자료형 - 리스트, 튜플, 딕셔너리, 집합"
   ]
  },
  {
   "cell_type": "code",
   "execution_count": null,
   "metadata": {},
   "outputs": [],
   "source": [
    "# Scalar 형\n",
    "# - 단일값: 숫자형(int, float, complex), 불형(bool), None 등\n",
    "\n",
    "# Collection 형\n",
    "# - 다중값 : 원소(element)들로 구성됨\n",
    "# - 시퀀스 : 데이터가 순서대로 저장 (0번부터 시작)\n",
    "#    - immutable(불변): 값 변경 불가 - 문자열, 튜플\n",
    "#    - mutable(가변) : 변경 가능 - 리스트\n",
    "# - 매핑\n",
    "#    - 사전(dictionary): 순서가 없음\n",
    "#                        원소가 (키, 값) 쌍으로 구성, 아이템이라고도 함\n",
    "#                        키는 해시가능한 데이터 타입이어야 함(보통 immutable)\n",
    "# - 집합(set) : 순서가 없음, 중복 불허\n",
    "#               집합 연산자"
   ]
  },
  {
   "cell_type": "code",
   "execution_count": null,
   "metadata": {},
   "outputs": [],
   "source": [
    "# 리스트\n",
    "# - cf.) 배열(array) : 시퀀스, 모든 원소가 같은 타입\n",
    "# - 리스트 리터럴: 대괄호[] 사용\n",
    "# - 리스트 함수(클래스) : list()"
   ]
  },
  {
   "cell_type": "code",
   "execution_count": null,
   "metadata": {},
   "outputs": [
    {
     "name": "stdout",
     "output_type": "stream",
     "text": [
      "[1, 2, 3, 4, 5]\n",
      "1\n",
      "2\n"
     ]
    }
   ],
   "source": [
    "a_list = [1, 2, 3, 4, 5]    # 리스트 리터럴 -> 리스트 객체 생성 -> 변수에 바인딩\n",
    "print(a_list)\n",
    "print(a_list[0])            # 인덱싱\n",
    "print(a_list[1])"
   ]
  },
  {
   "cell_type": "code",
   "execution_count": null,
   "metadata": {},
   "outputs": [],
   "source": [
    "# 인덱싱(indexing) : 색인\n",
    "# - 컬렉션 형에서 원소(아이템)에 접근하는 것\n",
    "# - [] : 대괄호 사용\n",
    "# - 시퀀스 형은 반드시 0부터 시작, 정수형\n",
    "# - 사전은 키로 접근\n",
    "# - 마이너스 인덱싱 : 시퀀스형만 가능, 오른쪽(뒤)에서 접근"
   ]
  },
  {
   "cell_type": "code",
   "execution_count": null,
   "metadata": {},
   "outputs": [
    {
     "data": {
      "text/plain": [
       "2"
      ]
     },
     "metadata": {},
     "output_type": "display_data"
    }
   ],
   "source": [
    "[1, 2, 3, 4, 5][1]    # 리터럴에 직접 인덱싱, 가능하나 의미 없다"
   ]
  },
  {
   "cell_type": "code",
   "execution_count": null,
   "metadata": {},
   "outputs": [
    {
     "name": "stdout",
     "output_type": "stream",
     "text": [
      "5\n",
      "4\n",
      "1\n"
     ]
    }
   ],
   "source": [
    "print(a_list[-1])       # 마지막 원소\n",
    "print(a_list[-2])\n",
    "print(a_list[-0])"
   ]
  },
  {
   "cell_type": "code",
   "execution_count": null,
   "metadata": {},
   "outputs": [],
   "source": [
    "# 다양한 타입의 원소\n",
    "b_list = [1, 3.4, 'hello', False, len]"
   ]
  },
  {
   "cell_type": "code",
   "execution_count": null,
   "metadata": {},
   "outputs": [
    {
     "name": "stdout",
     "output_type": "stream",
     "text": [
      "5\n"
     ]
    }
   ],
   "source": [
    "print(len(b_list))  # 컬렉션에 len() 적용: 길이 즉, 원소 개수, 컬렉션의 사이즈"
   ]
  },
  {
   "cell_type": "code",
   "execution_count": null,
   "metadata": {},
   "outputs": [
    {
     "name": "stdout",
     "output_type": "stream",
     "text": [
      "3.4의 타입은 <class 'float'>\n"
     ]
    }
   ],
   "source": [
    "print(f'{b_list[1]}의 타입은 {type(b_list[1])}')\n",
    "print(f'{b_list[-1]}의 타입은 {type(b_list[-1])}')"
   ]
  },
  {
   "cell_type": "code",
   "execution_count": null,
   "metadata": {},
   "outputs": [],
   "source": [
    "# 슬라이싱\n",
    "# - 시퀀스 형의 원소를 토막을 반환\n",
    "# - 슬라이싱의 결과는 해당 시퀀스 형\n",
    "#   - cf.) 인덱싱의 결과의 타입은 원소의 데이터 타입\n",
    "# - :(콜론) 사용하여 시작위치 및 종료위치 구분, 필요하다면 스텝 간격도 지정 가능\n",
    "#   시작위치 생략 -> 처음부터 / 종료위치 생략 -> 마지막 원소까지 포함\n",
    "# - 종료위치는 포함되지 않음 "
   ]
  },
  {
   "cell_type": "code",
   "execution_count": null,
   "metadata": {},
   "outputs": [
    {
     "name": "stdout",
     "output_type": "stream",
     "text": [
      "[1, 2, 3, 4, 5]\n",
      "[3, 4]\n",
      "[3]\n",
      "[]\n"
     ]
    }
   ],
   "source": [
    "print(a_list)\n",
    "print(a_list[2:4])\n",
    "print(a_list[2:3])\n",
    "print(a_list[2:2])"
   ]
  },
  {
   "cell_type": "code",
   "execution_count": null,
   "metadata": {},
   "outputs": [],
   "source": [
    "# 슬라이싱의 마지막 원소가 포함되지 않는 이유를 짐작\n",
    "# - a_list[2:4] -> 결과의 원소 갯수: 4 - 2 = 2개\n",
    "# - 시퀀스를 분리할 때 편리"
   ]
  },
  {
   "cell_type": "code",
   "execution_count": null,
   "metadata": {},
   "outputs": [
    {
     "name": "stdout",
     "output_type": "stream",
     "text": [
      "20220510\n",
      "cloudy\n"
     ]
    }
   ],
   "source": [
    "data = '20220510cloudy'\n",
    "sep = 8\n",
    "print(data[:sep])   # data[0:sep]과 완전히 동일\n",
    "print(data[sep:])   # data[sep:len(data)+1]"
   ]
  },
  {
   "cell_type": "code",
   "execution_count": null,
   "metadata": {},
   "outputs": [
    {
     "name": "stdout",
     "output_type": "stream",
     "text": [
      "20220510\n",
      "cloudy\n"
     ]
    }
   ],
   "source": [
    "data = '20220510cloudy'\n",
    "sep = 8\n",
    "date = data[:sep]\n",
    "weather = data[sep:]\n",
    "print(date)\n",
    "print(weather)"
   ]
  },
  {
   "cell_type": "code",
   "execution_count": null,
   "metadata": {},
   "outputs": [
    {
     "name": "stdout",
     "output_type": "stream",
     "text": [
      "[] []\n"
     ]
    }
   ],
   "source": [
    "# 빈 리스트 만들기\n",
    "b_list =[]\n",
    "c_list = list()\n",
    "\n",
    "print(b_list, c_list)"
   ]
  },
  {
   "cell_type": "code",
   "execution_count": null,
   "metadata": {},
   "outputs": [
    {
     "name": "stdout",
     "output_type": "stream",
     "text": [
      "[1, 'a', [1, 2, 3, 4, 5]]\n"
     ]
    }
   ],
   "source": [
    "# 리스트의 메서드들\n",
    "b_list.append(1)\n",
    "b_list.append('a')\n",
    "b_list.append(a_list)   # 중첩리스트\n",
    "\n",
    "print(b_list)"
   ]
  },
  {
   "cell_type": "code",
   "execution_count": null,
   "metadata": {},
   "outputs": [
    {
     "name": "stdout",
     "output_type": "stream",
     "text": [
      "3\n",
      "[1, 2, 3, 4, 5]\n",
      "3\n",
      "[3]\n",
      "[3]\n",
      "[3]\n",
      "[3]\n"
     ]
    }
   ],
   "source": [
    "# 중첩 리스트의 원소 접근하기\n",
    "print(len(b_list))\n",
    "print(b_list[-1])\n",
    "print(b_list[-1][2])\n",
    "\n",
    "# 리스트로 반환\n",
    "print(list((b_list[-1][2],)))\n",
    "print(list([b_list[-1][2]]))\n",
    "print([b_list[-1][2]])\n",
    "print(b_list[-1][2:3])"
   ]
  },
  {
   "cell_type": "code",
   "execution_count": null,
   "metadata": {},
   "outputs": [
    {
     "name": "stdout",
     "output_type": "stream",
     "text": [
      "[3, 4]\n",
      "[3, 4]\n"
     ]
    }
   ],
   "source": [
    "print(list([3, 4]))     # 리스트 > 리스트\n",
    "print(list((3, 4)))     # 튜플 > 리스트\n",
    "print(list([3]))      # 리스트 > 리스트\n",
    "print(list((3,)))     # 튜플 > 리스트"
   ]
  },
  {
   "cell_type": "code",
   "execution_count": null,
   "metadata": {},
   "outputs": [
    {
     "name": "stdout",
     "output_type": "stream",
     "text": [
      "[1, 'a', [1, 2, 300, 4, 5]]\n",
      "[True, 'a', [1, 2, 30000, 4, 5]]\n"
     ]
    }
   ],
   "source": [
    "# 원소(요소, 아이템) 변경\n",
    "print(b_list)\n",
    "b_list[0] = True\n",
    "b_list[-1][2] = b_list[-1][2] * 100\n",
    "print(b_list)"
   ]
  },
  {
   "cell_type": "code",
   "execution_count": null,
   "metadata": {},
   "outputs": [],
   "source": [
    "# 표현식(expression, expr) \n",
    "# - 변수 객체 리터럴... = 값\n",
    "# - 평가(evaluate)한 결과가 값이 되는 것"
   ]
  },
  {
   "cell_type": "code",
   "execution_count": null,
   "metadata": {},
   "outputs": [
    {
     "name": "stdout",
     "output_type": "stream",
     "text": [
      "[1, 2, 'a', False] [1, 2, 'a', False]\n",
      "2170683386944 2170683386944\n"
     ]
    }
   ],
   "source": [
    "# 같은 리스트를 두 개 이상의 변수가 바인딩하고 있으면\n",
    "a = b = [1, 2, 'a' , False]\n",
    "print(a, b)\n",
    "print(id(a), id(b))     # 주소 동일"
   ]
  },
  {
   "cell_type": "code",
   "execution_count": null,
   "metadata": {},
   "outputs": [
    {
     "name": "stdout",
     "output_type": "stream",
     "text": [
      "a=[1, 3.14159, 'a', False], b=[1, 3.14159, 'a', False]\n"
     ]
    }
   ],
   "source": [
    "# 어느 한 변수를 이용하여 리스트 원소 변경\n",
    "b[1] = 3.14159\n",
    "print(f'a={a}, b={b}')"
   ]
  },
  {
   "cell_type": "code",
   "execution_count": null,
   "metadata": {},
   "outputs": [],
   "source": [
    "# 튜플(tuple)\n",
    "# - 튜플 리터럴 : 소괄호() 사용\n",
    "# - 튜플 함수(클래스): tuple()\n",
    "# - cf). 리스트와 다른 점 하나: 원소 변경 불가능, 즉 immutable 시퀀스"
   ]
  },
  {
   "cell_type": "code",
   "execution_count": null,
   "metadata": {},
   "outputs": [
    {
     "name": "stdout",
     "output_type": "stream",
     "text": [
      "(1, 2, 3, 4, 5) (1, 2, 3, 4, 5) () () (1, 2, 30000, 4, 5) (1, 2, 3, 4, 5)\n"
     ]
    }
   ],
   "source": [
    "# 튜플 만들기\n",
    "a_tuple = (1, 2, 3, 4, 5)\n",
    "b_tuple = 1, 2, 3, 4, 5     # 괄호 생략가능, 단 콤마 필요, 패킹(packing)\n",
    "c_tuple = tuple()   # 빈 튜플\n",
    "d_tuple = ()        # 빈 튜플\n",
    "e_tuple = tuple(a_list)\n",
    "f_tuple = tuple(a_tuple)\n",
    "print(a_tuple, b_tuple, c_tuple, d_tuple, e_tuple, f_tuple)"
   ]
  },
  {
   "cell_type": "code",
   "execution_count": null,
   "metadata": {},
   "outputs": [
    {
     "name": "stdout",
     "output_type": "stream",
     "text": [
      "(1, 2, 3, 4, 5)\n"
     ]
    },
    {
     "ename": "TypeError",
     "evalue": "'tuple' object does not support item assignment",
     "output_type": "error",
     "traceback": [
      "\u001b[1;31m---------------------------------------------------------------------------\u001b[0m\n",
      "\u001b[1;31mTypeError\u001b[0m                                 Traceback (most recent call last)\n",
      "\u001b[1;32m~\\AppData\\Local\\Temp/ipykernel_13060/1140506831.py\u001b[0m in \u001b[0;36m<module>\u001b[1;34m\u001b[0m\n",
      "\u001b[0;32m      1\u001b[0m \u001b[1;31m# 튜플의 원소 변경 시도\u001b[0m\u001b[1;33m\u001b[0m\u001b[1;33m\u001b[0m\u001b[0m\n",
      "\u001b[0;32m      2\u001b[0m \u001b[0mprint\u001b[0m\u001b[1;33m(\u001b[0m\u001b[0ma_tuple\u001b[0m\u001b[1;33m)\u001b[0m\u001b[1;33m\u001b[0m\u001b[1;33m\u001b[0m\u001b[0m\n",
      "\u001b[1;32m----> 3\u001b[1;33m \u001b[0ma_tuple\u001b[0m\u001b[1;33m[\u001b[0m\u001b[1;36m2\u001b[0m\u001b[1;33m]\u001b[0m \u001b[1;33m=\u001b[0m \u001b[1;36m100\u001b[0m\u001b[1;33m\u001b[0m\u001b[1;33m\u001b[0m\u001b[0m\n",
      "\u001b[0m\u001b[0;32m      4\u001b[0m \u001b[0mprint\u001b[0m\u001b[1;33m(\u001b[0m\u001b[0ma_tuple\u001b[0m\u001b[1;33m)\u001b[0m\u001b[1;33m\u001b[0m\u001b[1;33m\u001b[0m\u001b[0m\n",
      "\n",
      "\u001b[1;31mTypeError\u001b[0m: 'tuple' object does not support item assignment"
     ]
    }
   ],
   "source": [
    "# 튜플의 원소 변경 시도\n",
    "print(a_tuple)\n",
    "a_tuple[2] = 100\n",
    "print(a_tuple)"
   ]
  },
  {
   "cell_type": "code",
   "execution_count": null,
   "metadata": {},
   "outputs": [
    {
     "name": "stdout",
     "output_type": "stream",
     "text": [
      "(1, 2, ['a', 'b', 'c'])\n",
      "(1, 2, ['hello', 'b', 'c'])\n"
     ]
    }
   ],
   "source": [
    "t1 = (1, 2, ['a', 'b', 'c'])\n",
    "print(t1)\n",
    "t1[2][0] = 'hello'\n",
    "print(t1)"
   ]
  },
  {
   "cell_type": "code",
   "execution_count": null,
   "metadata": {},
   "outputs": [
    {
     "ename": "TypeError",
     "evalue": "'tuple' object does not support item assignment",
     "output_type": "error",
     "traceback": [
      "\u001b[1;31m---------------------------------------------------------------------------\u001b[0m\n",
      "\u001b[1;31mTypeError\u001b[0m                                 Traceback (most recent call last)\n",
      "\u001b[1;32m~\\AppData\\Local\\Temp/ipykernel_13060/3583049135.py\u001b[0m in \u001b[0;36m<module>\u001b[1;34m\u001b[0m\n",
      "\u001b[0;32m      1\u001b[0m \u001b[1;31m# Error\u001b[0m\u001b[1;33m\u001b[0m\u001b[1;33m\u001b[0m\u001b[0m\n",
      "\u001b[1;32m----> 2\u001b[1;33m \u001b[0mt1\u001b[0m\u001b[1;33m[\u001b[0m\u001b[1;36m2\u001b[0m\u001b[1;33m]\u001b[0m \u001b[1;33m=\u001b[0m \u001b[1;33m[\u001b[0m\u001b[1;36m100\u001b[0m\u001b[1;33m,\u001b[0m \u001b[1;36m200\u001b[0m\u001b[1;33m,\u001b[0m \u001b[1;36m300\u001b[0m\u001b[1;33m]\u001b[0m\u001b[1;33m\u001b[0m\u001b[1;33m\u001b[0m\u001b[0m\n",
      "\u001b[0m\n",
      "\u001b[1;31mTypeError\u001b[0m: 'tuple' object does not support item assignment"
     ]
    }
   ],
   "source": [
    "# t1 안의 리스트 변경 - error\n",
    "t1[2] = [100, 200, 300]"
   ]
  },
  {
   "cell_type": "code",
   "execution_count": null,
   "metadata": {},
   "outputs": [
    {
     "name": "stdout",
     "output_type": "stream",
     "text": [
      "(1, 2, ['hello', 'b', 'c', 100])\n"
     ]
    }
   ],
   "source": [
    "t1[-1].append(100)  # t1 안의 리스트에 값 추가 - append\n",
    "print(t1)"
   ]
  },
  {
   "cell_type": "code",
   "execution_count": null,
   "metadata": {},
   "outputs": [
    {
     "name": "stdout",
     "output_type": "stream",
     "text": [
      "['__add__', '__class__', '__class_getitem__', '__contains__', '__delattr__', '__dir__', '__doc__', '__eq__', '__format__', '__ge__', '__getattribute__', '__getitem__', '__getnewargs__', '__gt__', '__hash__', '__init__', '__init_subclass__', '__iter__', '__le__', '__len__', '__lt__', '__mul__', '__ne__', '__new__', '__reduce__', '__reduce_ex__', '__repr__', '__rmul__', '__setattr__', '__sizeof__', '__str__', '__subclasshook__', 'count', 'index']\n",
      "1\n"
     ]
    }
   ],
   "source": [
    "# 튜플의 메서드 확인\n",
    "print(dir(t1), '\\n')\n",
    "print(t1.index(2))"
   ]
  },
  {
   "cell_type": "code",
   "execution_count": null,
   "metadata": {},
   "outputs": [
    {
     "name": "stdout",
     "output_type": "stream",
     "text": [
      "10\n",
      "<class 'int'>\n"
     ]
    }
   ],
   "source": [
    "# 원소가 한개인 튜플 만들기\n",
    "t2 = (10)\n",
    "print(t2)\n",
    "print(type(t2))\n",
    "\n",
    "# 원소가 한개인 튜플은 반드시 끝에 콤마가 필요\n",
    "t2 = 10,\n",
    "t3 = (10,)\n",
    "print(f't2={t2},t3={t3}')\n",
    "print(f'type(t2) = {type(t2)}')"
   ]
  },
  {
   "cell_type": "code",
   "execution_count": null,
   "metadata": {},
   "outputs": [],
   "source": [
    "# 사전(dictionary, dict)\n",
    "# - 사전 리터럴: 중괄호{} 사용\n",
    "# - 아이템 키, 값 쌍은 콜론으로 구분\n",
    "# - 순서 없는 자료형\n",
    "# - 같은 키는 존재할 수 없으나 만약 같은 키의 아이템이 입력되면 마지막 키의 값으로 결정"
   ]
  },
  {
   "cell_type": "code",
   "execution_count": null,
   "metadata": {},
   "outputs": [],
   "source": [
    "# cf.) 기호\n",
    "# ~ : tilde, ` : backtick, @ : at, ^ : caret, & : ampersand\n",
    "# * : asterisk, _ : underscore, | : vertical bar, pipe\n",
    "# : : colon, ; : semi-colon, \\ : back-slash"
   ]
  },
  {
   "cell_type": "code",
   "execution_count": null,
   "metadata": {},
   "outputs": [
    {
     "name": "stdout",
     "output_type": "stream",
     "text": [
      "{'a': 1, 'b': 2, 100: '백', ('홍길동', '아버지'): '홍판서'}\n"
     ]
    }
   ],
   "source": [
    "a_dict = {'a': 1, 'b' : 2, 100: '백', ('홍길동', '아버지'): '홍판서'}\n",
    "print(a_dict)"
   ]
  },
  {
   "cell_type": "code",
   "execution_count": null,
   "metadata": {},
   "outputs": [
    {
     "name": "stdout",
     "output_type": "stream",
     "text": [
      "홍판서\n",
      "1\n"
     ]
    }
   ],
   "source": [
    "# 사전의 아이템에 접근: 키로 인덱싱\n",
    "print(a_dict[('홍길동', '아버지')])\n",
    "print(a_dict['a'])\n",
    "\n",
    "print(a_dict[0])    # error"
   ]
  },
  {
   "cell_type": "code",
   "execution_count": null,
   "metadata": {},
   "outputs": [
    {
     "name": "stdout",
     "output_type": "stream",
     "text": [
      "{'a': '에이', 'b': 2, 100: '백'}\n"
     ]
    }
   ],
   "source": [
    "c_dict = {'a' : 1, 'b' : 2, 100 : '백', 'a' : '에이'}\n",
    "print(c_dict)"
   ]
  },
  {
   "cell_type": "code",
   "execution_count": null,
   "metadata": {},
   "outputs": [
    {
     "ename": "TypeError",
     "evalue": "unhashable type: 'list'",
     "output_type": "error",
     "traceback": [
      "\u001b[1;31m---------------------------------------------------------------------------\u001b[0m\n",
      "\u001b[1;31mTypeError\u001b[0m                                 Traceback (most recent call last)\n",
      "\u001b[1;32m~\\AppData\\Local\\Temp/ipykernel_13060/2709803627.py\u001b[0m in \u001b[0;36m<module>\u001b[1;34m\u001b[0m\n",
      "\u001b[0;32m      1\u001b[0m \u001b[1;31m# 사전의 키는 hashable 객체이어야 함. 간단히 말해서 immutable\u001b[0m\u001b[1;33m\u001b[0m\u001b[1;33m\u001b[0m\u001b[0m\n",
      "\u001b[1;32m----> 2\u001b[1;33m \u001b[0mc_dict\u001b[0m \u001b[1;33m=\u001b[0m \u001b[1;33m{\u001b[0m\u001b[1;34m'a'\u001b[0m \u001b[1;33m:\u001b[0m \u001b[1;36m1\u001b[0m\u001b[1;33m,\u001b[0m \u001b[1;36m0\u001b[0m \u001b[1;33m:\u001b[0m \u001b[1;34m'b'\u001b[0m\u001b[1;33m,\u001b[0m \u001b[1;33m(\u001b[0m\u001b[1;36m1\u001b[0m\u001b[1;33m,\u001b[0m \u001b[1;34m'a'\u001b[0m\u001b[1;33m)\u001b[0m \u001b[1;33m:\u001b[0m \u001b[1;36m3\u001b[0m\u001b[1;33m,\u001b[0m \u001b[1;33m[\u001b[0m\u001b[1;36m1\u001b[0m\u001b[1;33m,\u001b[0m \u001b[1;36m2\u001b[0m\u001b[1;33m,\u001b[0m \u001b[1;36m3\u001b[0m\u001b[1;33m]\u001b[0m\u001b[1;33m:\u001b[0m \u001b[1;34m'hello'\u001b[0m\u001b[1;33m}\u001b[0m\u001b[1;33m\u001b[0m\u001b[1;33m\u001b[0m\u001b[0m\n",
      "\u001b[0m\n",
      "\u001b[1;31mTypeError\u001b[0m: unhashable type: 'list'"
     ]
    }
   ],
   "source": [
    "# 사전의 키는 hashable 객체이어야 함. 간단히 말해서 immutable\n",
    "c_dict = {'a' : 1, 0 : 'b', (1, 'a') : 3, [1, 2, 3]: 'hello'}"
   ]
  },
  {
   "cell_type": "code",
   "execution_count": null,
   "metadata": {},
   "outputs": [
    {
     "name": "stdout",
     "output_type": "stream",
     "text": [
      "{'a': 1, 'b': 2, 100: '백', ('홍길동', '아버지'): '홍판서'}\n",
      "{'a': 1, 'b': 2, 100: '백', ('홍길동', '아버지'): '홍판서', '날짜': '20220510'}\n"
     ]
    }
   ],
   "source": [
    "# 사전에 원소 추가\n",
    "print(a_dict)\n",
    "a_dict['날짜'] = '20220510'\n",
    "print(a_dict)"
   ]
  },
  {
   "cell_type": "code",
   "execution_count": null,
   "metadata": {},
   "outputs": [
    {
     "ename": "IndexError",
     "evalue": "list assignment index out of range",
     "output_type": "error",
     "traceback": [
      "\u001b[1;31m---------------------------------------------------------------------------\u001b[0m\n",
      "\u001b[1;31mIndexError\u001b[0m                                Traceback (most recent call last)\n",
      "\u001b[1;32m~\\AppData\\Local\\Temp/ipykernel_13060/1636007134.py\u001b[0m in \u001b[0;36m<module>\u001b[1;34m\u001b[0m\n",
      "\u001b[0;32m      1\u001b[0m \u001b[1;31m# 리스트에 원소 추가\u001b[0m\u001b[1;33m\u001b[0m\u001b[1;33m\u001b[0m\u001b[0m\n",
      "\u001b[0;32m      2\u001b[0m \u001b[0ma_list\u001b[0m \u001b[1;33m=\u001b[0m \u001b[1;33m[\u001b[0m\u001b[1;36m1\u001b[0m\u001b[1;33m,\u001b[0m \u001b[1;36m2\u001b[0m\u001b[1;33m,\u001b[0m \u001b[1;36m3\u001b[0m\u001b[1;33m,\u001b[0m \u001b[1;36m4\u001b[0m\u001b[1;33m,\u001b[0m \u001b[1;36m5\u001b[0m\u001b[1;33m]\u001b[0m\u001b[1;33m\u001b[0m\u001b[1;33m\u001b[0m\u001b[0m\n",
      "\u001b[1;32m----> 3\u001b[1;33m \u001b[0ma_list\u001b[0m\u001b[1;33m[\u001b[0m\u001b[1;36m5\u001b[0m\u001b[1;33m]\u001b[0m \u001b[1;33m=\u001b[0m \u001b[1;36m6\u001b[0m   \u001b[1;31m# error\u001b[0m\u001b[1;33m\u001b[0m\u001b[1;33m\u001b[0m\u001b[0m\n",
      "\u001b[0m\n",
      "\u001b[1;31mIndexError\u001b[0m: list assignment index out of range"
     ]
    }
   ],
   "source": [
    "# 리스트에 원소 추가\n",
    "a_list = [1, 2, 3, 4, 5]\n",
    "a_list[5] = 6   # error"
   ]
  },
  {
   "cell_type": "code",
   "execution_count": null,
   "metadata": {},
   "outputs": [
    {
     "name": "stdout",
     "output_type": "stream",
     "text": [
      "[1, 2, 3, 4, 5, 6]\n"
     ]
    }
   ],
   "source": [
    "# 리스트에 원소 추가 - append\n",
    "a_list.append(6)\n",
    "print(a_list)"
   ]
  },
  {
   "cell_type": "code",
   "execution_count": null,
   "metadata": {},
   "outputs": [
    {
     "name": "stdout",
     "output_type": "stream",
     "text": [
      "[1, 10, 2, 3, 4, 5, 6, 20, 20]\n",
      "[1, 10, 2, 3, 4, 5, 6, 20, 20, 20]\n"
     ]
    }
   ],
   "source": [
    "# 리스트에 원소 추가 - insert\n",
    "a_list.insert(1, 10)\n",
    "\n",
    "print(a_list)\n",
    "\n",
    "a_list.insert(10, 20)\n",
    "\n",
    "print(a_list)"
   ]
  },
  {
   "cell_type": "code",
   "execution_count": null,
   "metadata": {},
   "outputs": [
    {
     "name": "stdout",
     "output_type": "stream",
     "text": [
      "{} {}\n"
     ]
    }
   ],
   "source": [
    "# 빈 사전 만들기\n",
    "b_dict = {}\n",
    "c_dict = dict()\n",
    "print(b_dict, c_dict)       "
   ]
  },
  {
   "cell_type": "code",
   "execution_count": null,
   "metadata": {},
   "outputs": [
    {
     "name": "stdout",
     "output_type": "stream",
     "text": [
      "<class 'dict'>\n"
     ]
    }
   ],
   "source": [
    "print(type(b_dict))"
   ]
  },
  {
   "cell_type": "code",
   "execution_count": null,
   "metadata": {},
   "outputs": [],
   "source": [
    "# 컬렉션 원소 제거\n",
    "# 1) del 명령어 : 객체 제거, namespace에서 해당 이름 삭제\n",
    "# 2) 해당 컬렉션의 메서드 사용"
   ]
  },
  {
   "cell_type": "code",
   "execution_count": null,
   "metadata": {},
   "outputs": [
    {
     "name": "stdout",
     "output_type": "stream",
     "text": [
      "hello world\n",
      "['In', 'Out', '_', '_3', '__', '___', '__builtin__', '__builtins__', '__doc__', '__loader__', '__name__', '__package__', '__spec__', '__vsc_ipynb_file__', '_dh', '_i', '_i1', '_i10', '_i11', '_i12', '_i13', '_i14', '_i15', '_i16', '_i17', '_i18', '_i19', '_i2', '_i20', '_i21', '_i22', '_i23', '_i24', '_i25', '_i26', '_i27', '_i28', '_i29', '_i3', '_i30', '_i31', '_i32', '_i33', '_i34', '_i35', '_i36', '_i37', '_i38', '_i39', '_i4', '_i40', '_i41', '_i42', '_i43', '_i44', '_i45', '_i46', '_i47', '_i48', '_i49', '_i5', '_i50', '_i51', '_i52', '_i53', '_i54', '_i55', '_i56', '_i6', '_i7', '_i8', '_i9', '_ih', '_ii', '_iii', '_oh', 'a', 'a_dict', 'a_list', 'a_tuple', 'b', 'b_dict', 'b_list', 'b_tuple', 'c_dict', 'c_list', 'c_tuple', 'd_tuple', 'data', 'date', 'e_tuple', 'exit', 'f_tuple', 'get_ipython', 'os', 'quit', 'sep', 'sys', 't1', 't2', 't3', 'weather']\n"
     ]
    },
    {
     "ename": "NameError",
     "evalue": "name 'msg' is not defined",
     "output_type": "error",
     "traceback": [
      "\u001b[1;31m---------------------------------------------------------------------------\u001b[0m\n",
      "\u001b[1;31mNameError\u001b[0m                                 Traceback (most recent call last)\n",
      "\u001b[1;32m~\\AppData\\Local\\Temp/ipykernel_13060/3699619136.py\u001b[0m in \u001b[0;36m<module>\u001b[1;34m\u001b[0m\n",
      "\u001b[0;32m      5\u001b[0m \u001b[1;33m\u001b[0m\u001b[0m\n",
      "\u001b[0;32m      6\u001b[0m \u001b[0mprint\u001b[0m\u001b[1;33m(\u001b[0m\u001b[0mdir\u001b[0m\u001b[1;33m(\u001b[0m\u001b[1;33m)\u001b[0m\u001b[1;33m)\u001b[0m\u001b[1;33m\u001b[0m\u001b[1;33m\u001b[0m\u001b[0m\n",
      "\u001b[1;32m----> 7\u001b[1;33m \u001b[0mprint\u001b[0m\u001b[1;33m(\u001b[0m\u001b[0mmsg\u001b[0m\u001b[1;33m)\u001b[0m\u001b[1;33m\u001b[0m\u001b[1;33m\u001b[0m\u001b[0m\n",
      "\u001b[0m\n",
      "\u001b[1;31mNameError\u001b[0m: name 'msg' is not defined"
     ]
    }
   ],
   "source": [
    "# del\n",
    "msg = 'hello world'\n",
    "print(msg)\n",
    "\n",
    "del msg\n",
    "\n",
    "print(msg)"
   ]
  },
  {
   "cell_type": "code",
   "execution_count": null,
   "metadata": {},
   "outputs": [],
   "source": [
    "# 리스트 원소 삭제 - del\n",
    "print(a_list)\n",
    "del a_list[2]\n",
    "print(a_list)"
   ]
  },
  {
   "cell_type": "code",
   "execution_count": null,
   "metadata": {},
   "outputs": [
    {
     "name": "stdout",
     "output_type": "stream",
     "text": [
      "[1, 10, 2, 3, 4, 6, 20, 20, 20]\n"
     ]
    }
   ],
   "source": [
    "# 리스트 원소 삭제 - remove\n",
    "print(a_list)\n",
    "a_list.remove(5)\n",
    "print(a_list)"
   ]
  },
  {
   "cell_type": "code",
   "execution_count": null,
   "metadata": {},
   "outputs": [
    {
     "name": "stdout",
     "output_type": "stream",
     "text": [
      "[1, 10, 2, 3, 4, 6, 20, 20] 20\n",
      "[1, 2, 3, 4, 6, 20, 20] 10\n"
     ]
    }
   ],
   "source": [
    "# 리스트 원소 삭제 - pop\n",
    "result = a_list.pop()   # 값을 안주면 맨 마지막\n",
    "print(a_list, result)   # result : 삭제한 값 반환\n",
    "\n",
    "result = a_list.pop(1)\n",
    "print(a_list, result)"
   ]
  },
  {
   "cell_type": "code",
   "execution_count": null,
   "metadata": {},
   "outputs": [
    {
     "ename": "TypeError",
     "evalue": "'tuple' object doesn't support item deletion",
     "output_type": "error",
     "traceback": [
      "\u001b[1;31m---------------------------------------------------------------------------\u001b[0m\n",
      "\u001b[1;31mTypeError\u001b[0m                                 Traceback (most recent call last)\n",
      "\u001b[1;32m~\\AppData\\Local\\Temp/ipykernel_13060/920801529.py\u001b[0m in \u001b[0;36m<module>\u001b[1;34m\u001b[0m\n",
      "\u001b[0;32m      1\u001b[0m \u001b[1;31m# 튜플 원소 삭제\u001b[0m\u001b[1;33m\u001b[0m\u001b[1;33m\u001b[0m\u001b[0m\n",
      "\u001b[0;32m      2\u001b[0m \u001b[0ma_tuple\u001b[0m \u001b[1;33m=\u001b[0m \u001b[1;33m(\u001b[0m\u001b[1;36m1\u001b[0m\u001b[1;33m,\u001b[0m \u001b[1;36m2\u001b[0m\u001b[1;33m,\u001b[0m \u001b[1;36m3\u001b[0m\u001b[1;33m)\u001b[0m\u001b[1;33m\u001b[0m\u001b[1;33m\u001b[0m\u001b[0m\n",
      "\u001b[1;32m----> 3\u001b[1;33m \u001b[1;32mdel\u001b[0m \u001b[0ma_tuple\u001b[0m\u001b[1;33m[\u001b[0m\u001b[1;36m0\u001b[0m\u001b[1;33m]\u001b[0m      \u001b[1;31m# 튜플은 원소를 삭제할 수 없음\u001b[0m\u001b[1;33m\u001b[0m\u001b[1;33m\u001b[0m\u001b[0m\n",
      "\u001b[0m\u001b[0;32m      4\u001b[0m \u001b[0mprint\u001b[0m\u001b[1;33m(\u001b[0m\u001b[0ma_tuple\u001b[0m\u001b[1;33m)\u001b[0m\u001b[1;33m\u001b[0m\u001b[1;33m\u001b[0m\u001b[0m\n",
      "\n",
      "\u001b[1;31mTypeError\u001b[0m: 'tuple' object doesn't support item deletion"
     ]
    }
   ],
   "source": [
    "# 튜플 원소 삭제\n",
    "a_tuple = (1, 2, 3)\n",
    "del a_tuple[0]      # 튜플은 원소를 삭제할 수 없음\n",
    "print(a_tuple)"
   ]
  },
  {
   "cell_type": "code",
   "execution_count": null,
   "metadata": {},
   "outputs": [
    {
     "name": "stdout",
     "output_type": "stream",
     "text": [
      "{'a': 1, 'b': 2, 100: '백', ('홍길동', '아버지'): '홍판서', '날짜': '20220510'}\n",
      "{'a': 1, 'b': 2, ('홍길동', '아버지'): '홍판서', '날짜': '20220510'}\n"
     ]
    }
   ],
   "source": [
    "# 사전 원소 삭제 - del\n",
    "print(a_dict)\n",
    "del a_dict[100]\n",
    "print(a_dict)"
   ]
  },
  {
   "cell_type": "code",
   "execution_count": null,
   "metadata": {},
   "outputs": [
    {
     "name": "stdout",
     "output_type": "stream",
     "text": [
      "{'a': 1, 'b': 2, ('홍길동', '아버지'): '홍판서', '날짜': '20220510'}\n",
      "{'b': 2, ('홍길동', '아버지'): '홍판서', '날짜': '20220510'} 1\n",
      "{'b': 2, ('홍길동', '아버지'): '홍판서', '날짜': '20220510'} 없음\n"
     ]
    }
   ],
   "source": [
    "# 사전 원소 삭제 - pop\n",
    "print(a_dict)\n",
    "\n",
    "result = a_dict.pop('a')\n",
    "print(a_dict, result)\n",
    "\n",
    "result = a_dict.pop('c', '없음')\n",
    "print(a_dict, result)"
   ]
  },
  {
   "cell_type": "code",
   "execution_count": null,
   "metadata": {},
   "outputs": [
    {
     "name": "stdout",
     "output_type": "stream",
     "text": [
      "<class 'set'>\n",
      "{1, 2, 3, 4}\n"
     ]
    }
   ],
   "source": [
    "# 집합(set)\n",
    "a_set = {1, 2, 3, 4}\n",
    "print(type(a_set))\n",
    "print(a_set)"
   ]
  },
  {
   "cell_type": "code",
   "execution_count": null,
   "metadata": {},
   "outputs": [
    {
     "name": "stdout",
     "output_type": "stream",
     "text": [
      "set()\n"
     ]
    }
   ],
   "source": [
    "# 빈 집합\n",
    "b_set = set()\n",
    "print(b_set)"
   ]
  },
  {
   "cell_type": "code",
   "execution_count": null,
   "metadata": {},
   "outputs": [
    {
     "name": "stdout",
     "output_type": "stream",
     "text": [
      "{1, 2, 3, 4, 5, 6}\n"
     ]
    }
   ],
   "source": [
    "# 중복 허용하지 않음\n",
    "print({1, 2, 3, 4, 1, 2, 6, 5, 4, 1})"
   ]
  },
  {
   "cell_type": "code",
   "execution_count": null,
   "metadata": {},
   "outputs": [
    {
     "ename": "TypeError",
     "evalue": "'set' object is not subscriptable",
     "output_type": "error",
     "traceback": [
      "\u001b[1;31m---------------------------------------------------------------------------\u001b[0m\n",
      "\u001b[1;31mTypeError\u001b[0m                                 Traceback (most recent call last)\n",
      "\u001b[1;32m~\\AppData\\Local\\Temp/ipykernel_13060/4045351867.py\u001b[0m in \u001b[0;36m<module>\u001b[1;34m\u001b[0m\n",
      "\u001b[0;32m      1\u001b[0m \u001b[1;31m#  순서가 없다\u001b[0m\u001b[1;33m\u001b[0m\u001b[1;33m\u001b[0m\u001b[0m\n",
      "\u001b[1;32m----> 2\u001b[1;33m \u001b[0mprint\u001b[0m\u001b[1;33m(\u001b[0m\u001b[0ma_set\u001b[0m\u001b[1;33m[\u001b[0m\u001b[1;36m1\u001b[0m\u001b[1;33m]\u001b[0m\u001b[1;33m)\u001b[0m\u001b[1;33m\u001b[0m\u001b[1;33m\u001b[0m\u001b[0m\n",
      "\u001b[0m\n",
      "\u001b[1;31mTypeError\u001b[0m: 'set' object is not subscriptable"
     ]
    }
   ],
   "source": [
    "#  순서가 없다, 인덱싱 불가\n",
    "print(a_set[1])"
   ]
  },
  {
   "cell_type": "code",
   "execution_count": null,
   "metadata": {},
   "outputs": [
    {
     "name": "stdout",
     "output_type": "stream",
     "text": [
      "{'e', 'w', 'l', 'm', 'h', 't', 'd', 'r', 'o', 'c', ' '}\n"
     ]
    }
   ],
   "source": [
    "# 문자열을 집합형으로 - 순서가 없음, 중복 허용 x\n",
    "c_set = set('welcome to the world')\n",
    "print(c_set)"
   ]
  },
  {
   "cell_type": "code",
   "execution_count": null,
   "metadata": {},
   "outputs": [
    {
     "name": "stdout",
     "output_type": "stream",
     "text": [
      "['w', 'e', 'l', 'c', 'o', 'm', 'e', ' ', 't', 'o', ' ', 'm', 'y', ' ', 'w', 'o', 'r', 'l', 'd']\n",
      "('w', 'e', 'l', 'c', 'o', 'm', 'e', ' ', 't', 'o', ' ', 'm', 'y', ' ', 'w', 'o', 'r', 'l', 'd')\n"
     ]
    }
   ],
   "source": [
    "# 문자열을 리스트 및 튜플로 - 순서가 있음\n",
    "print(list('welcome to my world'))\n",
    "print(tuple('welcome to my world'))"
   ]
  },
  {
   "cell_type": "markdown",
   "metadata": {},
   "source": [
    "# 05. 연산 - 사칙연산, 논리연산, 비교연산"
   ]
  },
  {
   "cell_type": "code",
   "execution_count": null,
   "metadata": {},
   "outputs": [],
   "source": [
    "# 연산자 우선순위 - 검색\n",
    "# 기본은 산술 > (비트) > 비교 > 논리 > 대입"
   ]
  },
  {
   "cell_type": "code",
   "execution_count": null,
   "metadata": {},
   "outputs": [],
   "source": [
    "# 정수\n",
    "a = 17\n",
    "b = 5\n",
    "print(a / b)\n",
    "print(a // b)   # 몫\n",
    "print(a % b)    # modulus 연산자 (나머지)"
   ]
  },
  {
   "cell_type": "code",
   "execution_count": null,
   "metadata": {},
   "outputs": [],
   "source": [
    "# 실수\n",
    "a = 17.0\n",
    "b = 5.0\n",
    "print(a / b)\n",
    "print(a // b)   # 몫\n",
    "print(a % b)    # modulus 연산자 (나머지)"
   ]
  },
  {
   "cell_type": "code",
   "execution_count": null,
   "metadata": {},
   "outputs": [],
   "source": [
    "# 논리 연산\n",
    "\n",
    "# Truth Value Testing\n",
    "# - https://docs.python.org/3/library/stdtypes.html\n",
    "# 데이터를 논리값으로 판단해야 한다면\n",
    "#  1) 값 자체가 False: None, False\n",
    "#  2) 숫자 데이터는 0으로 판명되는 것: 0, 0.0, 0j, Decimal(0), Fraction(0, 1)\n",
    "#  3) 빈 시퀀스 또는 컬렉션: '', (), [], {}, set(), range(0)\n",
    "\n",
    "# 논리 리터럴 True, False가 산술연산에 사용되면\n",
    "#   - True -> 1, False -> 0으로 간주"
   ]
  },
  {
   "cell_type": "code",
   "execution_count": null,
   "metadata": {},
   "outputs": [],
   "source": [
    "print(True + True + False)\n",
    "print(10 + True)"
   ]
  },
  {
   "cell_type": "code",
   "execution_count": null,
   "metadata": {},
   "outputs": [],
   "source": [
    "# short cut evaluation\n",
    "# - and로만 또는 or로만 연결된 논리식에서 \n",
    "# - 앞부분에서 이미 전체 결과가 결정되면 뒷부분은 evaluate 하지 않음\n",
    "# -- False(0) or func_1hour()  : 전체 결과는 1h 후\n",
    "# -- True(1) or func_1hour()  : 이미 true -> func_1hour 실행 x\n",
    "\n",
    "print(0 or 0)\n",
    "print(0 or 1)\n",
    "print(0 and 1)\n",
    "\n",
    "print(100 or 0)\n",
    "\n",
    "print('hello' or 3.2)\n",
    "print(0 or 'hello')"
   ]
  },
  {
   "cell_type": "code",
   "execution_count": null,
   "metadata": {},
   "outputs": [],
   "source": [
    "# 비교연산\n",
    "# 비교연산의 결과는 논리값\n",
    "print(10 == 10)\n",
    "print(10 != 10)\n",
    "print(10 >= 10)\n",
    "print(10 => 10)     # error"
   ]
  },
  {
   "cell_type": "code",
   "execution_count": null,
   "metadata": {},
   "outputs": [],
   "source": [
    "# 멤버십 연산자 : in, not in\n",
    "# - 컬렉션과 함께\n",
    "# list\n",
    "a_list = ['a', 2, 'hello', 3]\n",
    "print('a' in a_list)\n",
    "print(1 in a_list)"
   ]
  },
  {
   "cell_type": "code",
   "execution_count": null,
   "metadata": {},
   "outputs": [],
   "source": [
    "# 멤버십 연산자 : in, not in\n",
    "# tuple\n",
    "a_tuple = tuple(a_list)\n",
    "print('a' not in a_tuple)\n",
    "print(1 not in a_tuple)"
   ]
  },
  {
   "cell_type": "code",
   "execution_count": null,
   "metadata": {},
   "outputs": [],
   "source": [
    "# 사전은 키 값에 대해 멤버십 연산자 적용\n",
    "a_dict = {1: 'one', '이': 'two', 3: '삼'}\n",
    "print(1 in a_dict)\n",
    "print('one' in a_dict)"
   ]
  },
  {
   "cell_type": "code",
   "execution_count": null,
   "metadata": {},
   "outputs": [],
   "source": [
    "# 사전의 값에 대해 멤버십을 사용하려면 - values()\n",
    "print(1 in a_dict.values())\n",
    "print('one' in a_dict.values())"
   ]
  },
  {
   "cell_type": "code",
   "execution_count": null,
   "metadata": {},
   "outputs": [],
   "source": [
    "# values(), keys()\n",
    "print(a_dict.values())\n",
    "print(a_dict.keys())"
   ]
  },
  {
   "cell_type": "code",
   "execution_count": null,
   "metadata": {},
   "outputs": [],
   "source": [
    "# 문자열 비교 - 소문자 > 대문자\n",
    "print('a' > 'A')\n",
    "print('aA' > 'aB')\n",
    "print('aA' > 'aA0')"
   ]
  },
  {
   "cell_type": "code",
   "execution_count": null,
   "metadata": {},
   "outputs": [],
   "source": [
    "# 동등 비교(==)\n",
    "# - 값이 같으냐 비교\n",
    "\n",
    "# 일치(is)\n",
    "# - 객체가 같으냐\n",
    "\n",
    "l1 = [1, 2, 3, 4]\n",
    "l2 = l1             # l2는 l1의 주소값 복사 - 같은 객체\n",
    "l3 = list(l1)       # l3은 l1을 새 리스트로 - 같은 값, 다른 객체\n",
    "\n",
    "print(f'l1 == l2: {l1 == l2}')\n",
    "print(f'l1 == l3: {l1 == l3}')\n",
    "print(f'l1 is l2: {l1 is l2}')\n",
    "print(f'l1 is l3: {l1 is l3}')"
   ]
  },
  {
   "cell_type": "code",
   "execution_count": null,
   "metadata": {},
   "outputs": [],
   "source": [
    "print(id(l1),id(l2),id(l3))"
   ]
  },
  {
   "cell_type": "code",
   "execution_count": null,
   "metadata": {},
   "outputs": [],
   "source": [
    "# 정수\n",
    "a = 256\n",
    "b = a\n",
    "c = 256\n",
    "\n",
    "print(id(a),id(b),id(c))"
   ]
  },
  {
   "cell_type": "code",
   "execution_count": null,
   "metadata": {},
   "outputs": [],
   "source": [
    "# 정수는 257 이상은 별도의 객체로 생성됨\n",
    "a = 257\n",
    "b, c = a, 257   # unpacking\n",
    "\n",
    "print(id(a),id(b),id(c))"
   ]
  },
  {
   "cell_type": "code",
   "execution_count": null,
   "metadata": {},
   "outputs": [],
   "source": [
    "# unpacking 성질을 이용하면\n",
    "# - swap을 한 줄로 구현\n",
    "\n",
    "# 그냥 아무 생각없이  swap 실행\n",
    "a = 10\n",
    "b = 20\n",
    "a = b\n",
    "b = a\n",
    "print(a,b)\n",
    "\n",
    "# 다른 언어라면 a 변수와 b 변수의 값을 서로 바꾸려면 임시 변수 필요\n",
    "a = 10\n",
    "b = 20\n",
    "temp = a\n",
    "a = b\n",
    "b = temp\n",
    "print(a,b)\n",
    "\n",
    "# 파이썬이라면\n",
    "a, b = b, a     # unpacking\n",
    "print(a,b)"
   ]
  },
  {
   "cell_type": "markdown",
   "metadata": {},
   "source": [
    "# 06. 조건문"
   ]
  },
  {
   "cell_type": "code",
   "execution_count": null,
   "metadata": {},
   "outputs": [],
   "source": []
  },
  {
   "cell_type": "markdown",
   "metadata": {},
   "source": [
    "# 07. 조건문"
   ]
  },
  {
   "cell_type": "code",
   "execution_count": null,
   "metadata": {},
   "outputs": [],
   "source": []
  }
 ],
 "metadata": {
  "language_info": {
   "name": "python"
  },
  "orig_nbformat": 4
 },
 "nbformat": 4,
 "nbformat_minor": 2
}
