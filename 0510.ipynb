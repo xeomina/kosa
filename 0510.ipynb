{
 "cells": [
  {
   "cell_type": "markdown",
   "metadata": {},
   "source": [
    "# 02. 입력 input"
   ]
  },
  {
   "cell_type": "code",
   "execution_count": 1,
   "metadata": {},
   "outputs": [
    {
     "data": {
      "text/plain": [
       "'12345'"
      ]
     },
     "execution_count": 1,
     "metadata": {},
     "output_type": "execute_result"
    }
   ],
   "source": [
    "input()"
   ]
  },
  {
   "cell_type": "code",
   "execution_count": 2,
   "metadata": {},
   "outputs": [
    {
     "name": "stdout",
     "output_type": "stream",
     "text": [
      "Object `function` not found.\n"
     ]
    },
    {
     "name": "stdout",
     "output_type": "stream",
     "text": [
      "\u001b[1;31mSignature:\u001b[0m \u001b[0minput\u001b[0m\u001b[1;33m(\u001b[0m\u001b[0mprompt\u001b[0m\u001b[1;33m=\u001b[0m\u001b[1;34m''\u001b[0m\u001b[1;33m)\u001b[0m\u001b[1;33m\u001b[0m\u001b[1;33m\u001b[0m\u001b[0m\n",
      "\u001b[1;31mDocstring:\u001b[0m\n",
      "Forward raw_input to frontends\n",
      "\n",
      "Raises\n",
      "------\n",
      "StdinNotImplementedError if active frontend doesn't support stdin.\n",
      "\u001b[1;31mFile:\u001b[0m      c:\\programdata\\anaconda3\\lib\\site-packages\\ipykernel\\kernelbase.py\n",
      "\u001b[1;31mType:\u001b[0m      method\n"
     ]
    }
   ],
   "source": [
    "# Introspection\n",
    "# - 주피터 노트북에서 객체 등에 대한 정보/설명을 보여주는 기능\n",
    "# - ? 사용\n",
    "\n",
    "input?\n",
    "function?"
   ]
  },
  {
   "cell_type": "code",
   "execution_count": 3,
   "metadata": {},
   "outputs": [
    {
     "data": {
      "text/plain": [
       "'1234'"
      ]
     },
     "execution_count": 3,
     "metadata": {},
     "output_type": "execute_result"
    }
   ],
   "source": [
    "input('값을 입력해 주세요>>')"
   ]
  },
  {
   "cell_type": "code",
   "execution_count": 4,
   "metadata": {},
   "outputs": [
    {
     "name": "stdout",
     "output_type": "stream",
     "text": [
      "100200\n"
     ]
    }
   ],
   "source": [
    "first = input('첫 번째 문자열 입력:')\n",
    "second = input('두 번째 문자열 입력:')\n",
    "print(first + second)"
   ]
  },
  {
   "cell_type": "code",
   "execution_count": 5,
   "metadata": {},
   "outputs": [],
   "source": [
    "# 입력 받은 숫자를 문자가 아닌 숫자로 처리하고 싶을 때\n",
    "# 데이터 변환 함수(클래스의 생성자) 사용\n",
    "# 문자열을 정수로 변환 : int() -- 겉보기에는 함수지만 실제로는 클래스 (생성자)"
   ]
  },
  {
   "cell_type": "code",
   "execution_count": 6,
   "metadata": {},
   "outputs": [
    {
     "data": {
      "text/plain": [
       "str"
      ]
     },
     "execution_count": 6,
     "metadata": {},
     "output_type": "execute_result"
    }
   ],
   "source": [
    "# type(): 함수처럼 보이지만 실제로는 클래스\n",
    "# - type을 이용하면 객체의 클래스를 알 수 있음\n",
    "type('안녕')"
   ]
  },
  {
   "cell_type": "code",
   "execution_count": 7,
   "metadata": {},
   "outputs": [
    {
     "name": "stdout",
     "output_type": "stream",
     "text": [
      "<class 'str'>\n"
     ]
    }
   ],
   "source": [
    "print(type('안녕'))"
   ]
  },
  {
   "cell_type": "code",
   "execution_count": 8,
   "metadata": {},
   "outputs": [
    {
     "name": "stdout",
     "output_type": "stream",
     "text": [
      "<class 'type'>\n"
     ]
    }
   ],
   "source": [
    "print(type(type))"
   ]
  },
  {
   "cell_type": "code",
   "execution_count": 9,
   "metadata": {},
   "outputs": [
    {
     "name": "stdout",
     "output_type": "stream",
     "text": [
      "<class 'type'>\n"
     ]
    }
   ],
   "source": [
    "print(type(int))"
   ]
  },
  {
   "cell_type": "code",
   "execution_count": 10,
   "metadata": {},
   "outputs": [
    {
     "ename": "ValueError",
     "evalue": "invalid literal for int() with base 10: '123.45'",
     "output_type": "error",
     "traceback": [
      "\u001b[1;31m---------------------------------------------------------------------------\u001b[0m",
      "\u001b[1;31mValueError\u001b[0m                                Traceback (most recent call last)",
      "\u001b[1;32m~\\AppData\\Local\\Temp/ipykernel_9244/2295099806.py\u001b[0m in \u001b[0;36m<module>\u001b[1;34m\u001b[0m\n\u001b[0;32m      1\u001b[0m \u001b[0mint\u001b[0m\u001b[1;33m(\u001b[0m\u001b[1;34m'1234'\u001b[0m\u001b[1;33m)\u001b[0m\u001b[1;33m\u001b[0m\u001b[1;33m\u001b[0m\u001b[0m\n\u001b[1;32m----> 2\u001b[1;33m \u001b[0mint\u001b[0m\u001b[1;33m(\u001b[0m\u001b[1;34m'123.45'\u001b[0m\u001b[1;33m)\u001b[0m\u001b[1;33m\u001b[0m\u001b[1;33m\u001b[0m\u001b[0m\n\u001b[0m",
      "\u001b[1;31mValueError\u001b[0m: invalid literal for int() with base 10: '123.45'"
     ]
    }
   ],
   "source": [
    "int('1234')\n",
    "int('123.45')"
   ]
  },
  {
   "cell_type": "code",
   "execution_count": 11,
   "metadata": {},
   "outputs": [
    {
     "data": {
      "text/plain": [
       "123.45"
      ]
     },
     "execution_count": 11,
     "metadata": {},
     "output_type": "execute_result"
    }
   ],
   "source": [
    "float('123.45')"
   ]
  },
  {
   "cell_type": "code",
   "execution_count": 12,
   "metadata": {},
   "outputs": [
    {
     "name": "stdout",
     "output_type": "stream",
     "text": [
      "579.0\n"
     ]
    }
   ],
   "source": [
    "# 입력 받은 숫자를 문자가 아닌 숫자로 처리하고 싶을 때\n",
    "first  = input('첫 번째 숫자 입력:')\n",
    "second = input('두 번째 숫자 입력:')\n",
    "print(float(first)+float(second))"
   ]
  },
  {
   "cell_type": "code",
   "execution_count": 13,
   "metadata": {},
   "outputs": [
    {
     "name": "stdout",
     "output_type": "stream",
     "text": [
      "579.0\n"
     ]
    }
   ],
   "source": [
    "first  = float(input('첫 번째 숫자 입력:'))\n",
    "second = float(input('두 번째 숫자 입력:'))\n",
    "print(first+second)"
   ]
  },
  {
   "cell_type": "markdown",
   "metadata": {},
   "source": [
    "# 03. 변수 - 숫자형, 문자형, 소수점형, BOOL형"
   ]
  },
  {
   "cell_type": "code",
   "execution_count": 14,
   "metadata": {},
   "outputs": [],
   "source": [
    "# 변수란?\n",
    "# - 값(데이터)를 담는 그릇\n",
    "# - 종류와 크기\n",
    "# - 데이터의 종류와 크키에 따라 데이터 타입이 결정\n",
    "#   이 데이터를 담는 변수의 데이터 타입도 결정"
   ]
  },
  {
   "cell_type": "code",
   "execution_count": 15,
   "metadata": {},
   "outputs": [],
   "source": [
    "# 정적(static) vs. 동적(dynamic)\n",
    "# compilation-time vs. run-time"
   ]
  },
  {
   "cell_type": "code",
   "execution_count": 16,
   "metadata": {},
   "outputs": [],
   "source": [
    "# 정적 타입 언어 vs. 동적 타입 언어\n",
    "# 동적 타입 언어: 프로그램 실행 중에 변수의 데이터 타입이 변경 가능\n",
    "#                 변수가 특정 데이터 타입으로 결정되지 않음\n",
    "# 정적 타입 언어: 변수에 데이터 타입을 미리 선언\n",
    "#                 그 변수는 해당 데이터 타입만 저장 가능"
   ]
  },
  {
   "cell_type": "code",
   "execution_count": 17,
   "metadata": {},
   "outputs": [],
   "source": [
    "# 파이썬: 강타입 언어 & 동적 타입 언어\n",
    "# - 올바른 데이터를 사용하지 않으면 TypeError, ValueError\n",
    "# - 변수는 선언 없이 바로 생성, 대신 초기화 필요\n",
    "# - 즉, 파이썬에서 변수를 사용하여면 변수를 초기화 해야 한다. (선언이 없으므로)"
   ]
  },
  {
   "cell_type": "code",
   "execution_count": 18,
   "metadata": {},
   "outputs": [
    {
     "ename": "NameError",
     "evalue": "name 'fn' is not defined",
     "output_type": "error",
     "traceback": [
      "\u001b[1;31m---------------------------------------------------------------------------\u001b[0m",
      "\u001b[1;31mNameError\u001b[0m                                 Traceback (most recent call last)",
      "\u001b[1;32m~\\AppData\\Local\\Temp/ipykernel_9244/1141245739.py\u001b[0m in \u001b[0;36m<module>\u001b[1;34m\u001b[0m\n\u001b[1;32m----> 1\u001b[1;33m \u001b[0mprint\u001b[0m\u001b[1;33m(\u001b[0m\u001b[0mfn\u001b[0m\u001b[1;33m)\u001b[0m\u001b[1;33m\u001b[0m\u001b[1;33m\u001b[0m\u001b[0m\n\u001b[0m",
      "\u001b[1;31mNameError\u001b[0m: name 'fn' is not defined"
     ]
    }
   ],
   "source": [
    "print(fn)"
   ]
  },
  {
   "cell_type": "code",
   "execution_count": 19,
   "metadata": {},
   "outputs": [
    {
     "name": "stdout",
     "output_type": "stream",
     "text": [
      "['In', 'Out', '_', '_1', '_11', '_3', '_6', '__', '___', '__builtin__', '__builtins__', '__doc__', '__loader__', '__name__', '__package__', '__spec__', '__vsc_ipynb_file__', '_dh', '_i', '_i1', '_i10', '_i11', '_i12', '_i13', '_i14', '_i15', '_i16', '_i17', '_i18', '_i19', '_i2', '_i3', '_i4', '_i5', '_i6', '_i7', '_i8', '_i9', '_ih', '_ii', '_iii', '_oh', 'exit', 'first', 'fn', 'get_ipython', 'os', 'quit', 'second', 'sys']\n",
      "함수\n"
     ]
    }
   ],
   "source": [
    "# 파이썬에서 생성한 변수와 객체의 목록을 보고 싶다면\n",
    "# dir() 함수\n",
    "fn = '함수'\n",
    "print(dir())\n",
    "print(fn)"
   ]
  },
  {
   "cell_type": "code",
   "execution_count": 20,
   "metadata": {},
   "outputs": [
    {
     "name": "stdout",
     "output_type": "stream",
     "text": [
      "<class 'str'>\n",
      "<class 'int'>\n"
     ]
    }
   ],
   "source": [
    "print(type(fn))\n",
    "fn = 100\n",
    "print(type(fn))"
   ]
  },
  {
   "cell_type": "code",
   "execution_count": 21,
   "metadata": {},
   "outputs": [
    {
     "name": "stdout",
     "output_type": "stream",
     "text": [
      "['__add__', '__class__', '__contains__', '__delattr__', '__dir__', '__doc__', '__eq__', '__format__', '__ge__', '__getattribute__', '__getitem__', '__getnewargs__', '__gt__', '__hash__', '__init__', '__init_subclass__', '__iter__', '__le__', '__len__', '__lt__', '__mod__', '__mul__', '__ne__', '__new__', '__reduce__', '__reduce_ex__', '__repr__', '__rmod__', '__rmul__', '__setattr__', '__sizeof__', '__str__', '__subclasshook__', 'capitalize', 'casefold', 'center', 'count', 'encode', 'endswith', 'expandtabs', 'find', 'format', 'format_map', 'index', 'isalnum', 'isalpha', 'isascii', 'isdecimal', 'isdigit', 'isidentifier', 'islower', 'isnumeric', 'isprintable', 'isspace', 'istitle', 'isupper', 'join', 'ljust', 'lower', 'lstrip', 'maketrans', 'partition', 'removeprefix', 'removesuffix', 'replace', 'rfind', 'rindex', 'rjust', 'rpartition', 'rsplit', 'rstrip', 'split', 'splitlines', 'startswith', 'strip', 'swapcase', 'title', 'translate', 'upper', 'zfill']\n"
     ]
    }
   ],
   "source": [
    "print(dir(str))"
   ]
  },
  {
   "cell_type": "code",
   "execution_count": 22,
   "metadata": {},
   "outputs": [
    {
     "name": "stdout",
     "output_type": "stream",
     "text": [
      "1234567 1234567 1234567\n"
     ]
    },
    {
     "data": {
      "text/plain": [
       "(1984071684848, 1984071684848, 1984071684848)"
      ]
     },
     "execution_count": 22,
     "metadata": {},
     "output_type": "execute_result"
    }
   ],
   "source": [
    "a = b = c = 1234567     # = assignment operator : 오른쪽에서 왼쪽\n",
    "print(a, b, c)\n",
    "# id() : 객체의 id(주소) 반환\n",
    "id(a), id(b), id(c)"
   ]
  },
  {
   "cell_type": "code",
   "execution_count": 23,
   "metadata": {},
   "outputs": [
    {
     "name": "stdout",
     "output_type": "stream",
     "text": [
      "1234567 1234567 200\n"
     ]
    },
    {
     "data": {
      "text/plain": [
       "(1984071684848, 1984071684848, 1983991603856)"
      ]
     },
     "execution_count": 23,
     "metadata": {},
     "output_type": "execute_result"
    }
   ],
   "source": [
    "c = 200\n",
    "print(a, b, c)\n",
    "id(a), id(b), id(c)"
   ]
  },
  {
   "cell_type": "code",
   "execution_count": 24,
   "metadata": {},
   "outputs": [
    {
     "name": "stdout",
     "output_type": "stream",
     "text": [
      "30\n",
      "2010\n"
     ]
    }
   ],
   "source": [
    "a = 10\n",
    "b = 10\n",
    "c = a + b\n",
    "d = '10'\n",
    "print(c + int(d))\n",
    "print(str(c) + d)"
   ]
  },
  {
   "cell_type": "code",
   "execution_count": 25,
   "metadata": {},
   "outputs": [
    {
     "name": "stdout",
     "output_type": "stream",
     "text": [
      "<class 'bool'>\n"
     ]
    }
   ],
   "source": [
    "# boolean type\n",
    "# - 파이썬 볼 리터럴 : True, False (첫글자 대문자에 유의)\n",
    "print(type(True))"
   ]
  },
  {
   "cell_type": "markdown",
   "metadata": {},
   "source": [
    "# 04. 자료형 - 리스트, 튜플, 딕셔너리, 집합"
   ]
  },
  {
   "cell_type": "code",
   "execution_count": 26,
   "metadata": {},
   "outputs": [],
   "source": [
    "# Scalar 형\n",
    "# - 단일값: 숫자형(int, float, complex), 불형(bool), None 등\n",
    "\n",
    "# Collection 형\n",
    "# - 다중값 : 원소(element)들로 구성됨\n",
    "# - 시퀀스 : 데이터가 순서대로 저장 (0번부터 시작)\n",
    "#    - immutable(불변): 값 변경 불가 - 문자열, 튜플\n",
    "#    - mutable(가변) : 변경 가능 - 리스트\n",
    "# - 매핑\n",
    "#    - 사전(dictionary): 순서가 없음\n",
    "#                        원소가 (키, 값) 쌍으로 구성, 아이템이라고도 함\n",
    "#                        키는 해시가능한 데이터 타입이어야 함(보통 immutable)\n",
    "# - 집합(set) : 순서가 없음, 중복 불허\n",
    "#               집합 연산자"
   ]
  },
  {
   "cell_type": "code",
   "execution_count": 27,
   "metadata": {},
   "outputs": [],
   "source": [
    "# 리스트\n",
    "# - cf.) 배열(array) : 시퀀스, 모든 원소가 같은 타입\n",
    "# - 리스트 리터럴: 대괄호[] 사용\n",
    "# - 리스트 함수(클래스) : list()"
   ]
  },
  {
   "cell_type": "code",
   "execution_count": 28,
   "metadata": {},
   "outputs": [
    {
     "name": "stdout",
     "output_type": "stream",
     "text": [
      "[1, 2, 3, 4, 5]\n",
      "1\n",
      "2\n"
     ]
    }
   ],
   "source": [
    "a_list = [1, 2, 3, 4, 5]    # 리스트 리터럴 -> 리스트 객체 생성 -> 변수에 바인딩\n",
    "print(a_list)\n",
    "print(a_list[0])            # 인덱싱\n",
    "print(a_list[1])"
   ]
  },
  {
   "cell_type": "code",
   "execution_count": 29,
   "metadata": {},
   "outputs": [],
   "source": [
    "# 인덱싱(indexing) : 색인\n",
    "# - 컬렉션 형에서 원소(아이템)에 접근하는 것\n",
    "# - [] : 대괄호 사용\n",
    "# - 시퀀스 형은 반드시 0부터 시작, 정수형\n",
    "# - 사전은 키로 접근\n",
    "# - 마이너스 인덱싱 : 시퀀스형만 가능, 오른쪽(뒤)에서 접근"
   ]
  },
  {
   "cell_type": "code",
   "execution_count": 30,
   "metadata": {},
   "outputs": [
    {
     "data": {
      "text/plain": [
       "2"
      ]
     },
     "execution_count": 30,
     "metadata": {},
     "output_type": "execute_result"
    }
   ],
   "source": [
    "[1, 2, 3, 4, 5][1]    # 리터럴에 직접 인덱싱, 가능하나 의미 없다"
   ]
  },
  {
   "cell_type": "code",
   "execution_count": 31,
   "metadata": {},
   "outputs": [
    {
     "name": "stdout",
     "output_type": "stream",
     "text": [
      "5\n",
      "4\n",
      "1\n"
     ]
    }
   ],
   "source": [
    "print(a_list[-1])       # 마지막 원소\n",
    "print(a_list[-2])\n",
    "print(a_list[-0])"
   ]
  },
  {
   "cell_type": "code",
   "execution_count": 32,
   "metadata": {},
   "outputs": [],
   "source": [
    "# 다양한 타입의 원소\n",
    "b_list = [1, 3.4, 'hello', False, len]"
   ]
  },
  {
   "cell_type": "code",
   "execution_count": 33,
   "metadata": {},
   "outputs": [
    {
     "name": "stdout",
     "output_type": "stream",
     "text": [
      "5\n"
     ]
    }
   ],
   "source": [
    "print(len(b_list))  # 컬렉션에 len() 적용: 길이 즉, 원소 개수, 컬렉션의 사이즈"
   ]
  },
  {
   "cell_type": "code",
   "execution_count": 34,
   "metadata": {},
   "outputs": [
    {
     "name": "stdout",
     "output_type": "stream",
     "text": [
      "3.4의 타입은 <class 'float'>\n",
      "<built-in function len>의 타입은 <class 'builtin_function_or_method'>\n"
     ]
    }
   ],
   "source": [
    "print(f'{b_list[1]}의 타입은 {type(b_list[1])}')\n",
    "print(f'{b_list[-1]}의 타입은 {type(b_list[-1])}')"
   ]
  },
  {
   "cell_type": "code",
   "execution_count": 35,
   "metadata": {},
   "outputs": [],
   "source": [
    "# 슬라이싱\n",
    "# - 시퀀스 형의 원소를 토막을 반환\n",
    "# - 슬라이싱의 결과는 해당 시퀀스 형\n",
    "#   - cf.) 인덱싱의 결과의 타입은 원소의 데이터 타입\n",
    "# - :(콜론) 사용하여 시작위치 및 종료위치 구분, 필요하다면 스텝 간격도 지정 가능\n",
    "#   시작위치 생략 -> 처음부터 / 종료위치 생략 -> 마지막 원소까지 포함\n",
    "# - 종료위치는 포함되지 않음 "
   ]
  },
  {
   "cell_type": "code",
   "execution_count": 36,
   "metadata": {},
   "outputs": [
    {
     "name": "stdout",
     "output_type": "stream",
     "text": [
      "[1, 2, 3, 4, 5]\n",
      "[3, 4]\n",
      "[3]\n",
      "[]\n"
     ]
    }
   ],
   "source": [
    "print(a_list)\n",
    "print(a_list[2:4])\n",
    "print(a_list[2:3])\n",
    "print(a_list[2:2])"
   ]
  },
  {
   "cell_type": "code",
   "execution_count": 37,
   "metadata": {},
   "outputs": [],
   "source": [
    "# 슬라이싱의 마지막 원소가 포함되지 않는 이유를 짐작\n",
    "# - a_list[2:4] -> 결과의 원소 갯수: 4 - 2 = 2개\n",
    "# - 시퀀스를 분리할 때 편리"
   ]
  },
  {
   "cell_type": "code",
   "execution_count": 38,
   "metadata": {},
   "outputs": [
    {
     "name": "stdout",
     "output_type": "stream",
     "text": [
      "20220510\n",
      "cloudy\n"
     ]
    }
   ],
   "source": [
    "data = '20220510cloudy'\n",
    "sep = 8\n",
    "print(data[:sep])   # data[0:sep]과 완전히 동일\n",
    "print(data[sep:])   # data[sep:len(data)+1]"
   ]
  },
  {
   "cell_type": "code",
   "execution_count": 39,
   "metadata": {},
   "outputs": [
    {
     "name": "stdout",
     "output_type": "stream",
     "text": [
      "20220510\n",
      "cloudy\n"
     ]
    }
   ],
   "source": [
    "data = '20220510cloudy'\n",
    "sep = 8\n",
    "date = data[:sep]\n",
    "weather = data[sep:]\n",
    "print(date)\n",
    "print(weather)"
   ]
  },
  {
   "cell_type": "code",
   "execution_count": 40,
   "metadata": {},
   "outputs": [
    {
     "name": "stdout",
     "output_type": "stream",
     "text": [
      "[] []\n"
     ]
    }
   ],
   "source": [
    "# 빈 리스트 만들기\n",
    "b_list =[]\n",
    "c_list = list()\n",
    "\n",
    "print(b_list, c_list)"
   ]
  },
  {
   "cell_type": "code",
   "execution_count": 41,
   "metadata": {},
   "outputs": [
    {
     "name": "stdout",
     "output_type": "stream",
     "text": [
      "[1, 'a', [1, 2, 3, 4, 5]]\n"
     ]
    }
   ],
   "source": [
    "# 리스트의 메서드들\n",
    "b_list.append(1)\n",
    "b_list.append('a')\n",
    "b_list.append(a_list)   # 중첩리스트\n",
    "\n",
    "print(b_list)"
   ]
  },
  {
   "cell_type": "code",
   "execution_count": 42,
   "metadata": {},
   "outputs": [
    {
     "name": "stdout",
     "output_type": "stream",
     "text": [
      "3\n",
      "[1, 2, 3, 4, 5]\n",
      "3\n",
      "[3]\n",
      "[3]\n",
      "[3]\n",
      "[3]\n"
     ]
    }
   ],
   "source": [
    "# 중첩 리스트의 원소 접근하기\n",
    "print(len(b_list))\n",
    "print(b_list[-1])\n",
    "print(b_list[-1][2])\n",
    "\n",
    "# 리스트로 반환\n",
    "print(list((b_list[-1][2],)))\n",
    "print(list([b_list[-1][2]]))\n",
    "print([b_list[-1][2]])\n",
    "print(b_list[-1][2:3])"
   ]
  },
  {
   "cell_type": "code",
   "execution_count": 43,
   "metadata": {},
   "outputs": [
    {
     "name": "stdout",
     "output_type": "stream",
     "text": [
      "[3, 4]\n",
      "[3, 4]\n",
      "[3]\n",
      "[3]\n"
     ]
    }
   ],
   "source": [
    "print(list([3, 4]))     # 리스트 > 리스트\n",
    "print(list((3, 4)))     # 튜플 > 리스트\n",
    "print(list([3]))        # 리스트 > 리스트\n",
    "print(list((3,)))       # 튜플 > 리스트"
   ]
  },
  {
   "cell_type": "code",
   "execution_count": 44,
   "metadata": {},
   "outputs": [
    {
     "name": "stdout",
     "output_type": "stream",
     "text": [
      "[1, 'a', [1, 2, 3, 4, 5]]\n",
      "[True, 'a', [1, 2, 300, 4, 5]]\n"
     ]
    }
   ],
   "source": [
    "# 원소(요소, 아이템) 변경\n",
    "print(b_list)\n",
    "b_list[0] = True\n",
    "b_list[-1][2] = b_list[-1][2] * 100\n",
    "print(b_list)"
   ]
  },
  {
   "cell_type": "code",
   "execution_count": 45,
   "metadata": {},
   "outputs": [],
   "source": [
    "# 표현식(expression, expr) \n",
    "# - 변수 객체 리터럴... = 값\n",
    "# - 평가(evaluate)한 결과가 값이 되는 것"
   ]
  },
  {
   "cell_type": "code",
   "execution_count": 46,
   "metadata": {},
   "outputs": [
    {
     "name": "stdout",
     "output_type": "stream",
     "text": [
      "[1, 2, 'a', False] [1, 2, 'a', False]\n",
      "1984071986432 1984071986432\n"
     ]
    }
   ],
   "source": [
    "# 같은 리스트를 두 개 이상의 변수가 바인딩하고 있으면\n",
    "a = b = [1, 2, 'a' , False]\n",
    "print(a, b)\n",
    "print(id(a), id(b))     # 주소 동일"
   ]
  },
  {
   "cell_type": "code",
   "execution_count": 47,
   "metadata": {},
   "outputs": [
    {
     "name": "stdout",
     "output_type": "stream",
     "text": [
      "a=[1, 3.14159, 'a', False], b=[1, 3.14159, 'a', False]\n"
     ]
    }
   ],
   "source": [
    "# 어느 한 변수를 이용하여 리스트 원소 변경\n",
    "b[1] = 3.14159\n",
    "print(f'a={a}, b={b}')"
   ]
  },
  {
   "cell_type": "code",
   "execution_count": 48,
   "metadata": {},
   "outputs": [],
   "source": [
    "# 튜플(tuple)\n",
    "# - 튜플 리터럴 : 소괄호() 사용\n",
    "# - 튜플 함수(클래스): tuple()\n",
    "# - cf). 리스트와 다른 점 하나: 원소 변경 불가능, 즉 immutable 시퀀스"
   ]
  },
  {
   "cell_type": "code",
   "execution_count": 49,
   "metadata": {},
   "outputs": [
    {
     "name": "stdout",
     "output_type": "stream",
     "text": [
      "(1, 2, 3, 4, 5) (1, 2, 3, 4, 5) () () (1, 2, 300, 4, 5) (1, 2, 3, 4, 5)\n"
     ]
    }
   ],
   "source": [
    "# 튜플 만들기\n",
    "a_tuple = (1, 2, 3, 4, 5)\n",
    "b_tuple = 1, 2, 3, 4, 5     # 괄호 생략가능, 단 콤마 필요, 패킹(packing)\n",
    "c_tuple = tuple()   # 빈 튜플\n",
    "d_tuple = ()        # 빈 튜플\n",
    "e_tuple = tuple(a_list)\n",
    "f_tuple = tuple(a_tuple)\n",
    "print(a_tuple, b_tuple, c_tuple, d_tuple, e_tuple, f_tuple)"
   ]
  },
  {
   "cell_type": "code",
   "execution_count": 50,
   "metadata": {},
   "outputs": [
    {
     "name": "stdout",
     "output_type": "stream",
     "text": [
      "(1, 2, 3, 4, 5)\n"
     ]
    },
    {
     "ename": "TypeError",
     "evalue": "'tuple' object does not support item assignment",
     "output_type": "error",
     "traceback": [
      "\u001b[1;31m---------------------------------------------------------------------------\u001b[0m",
      "\u001b[1;31mTypeError\u001b[0m                                 Traceback (most recent call last)",
      "\u001b[1;32m~\\AppData\\Local\\Temp/ipykernel_9244/2633707720.py\u001b[0m in \u001b[0;36m<module>\u001b[1;34m\u001b[0m\n\u001b[0;32m      1\u001b[0m \u001b[1;31m# 튜플의 원소 변경 시도 - error\u001b[0m\u001b[1;33m\u001b[0m\u001b[1;33m\u001b[0m\u001b[0m\n\u001b[0;32m      2\u001b[0m \u001b[0mprint\u001b[0m\u001b[1;33m(\u001b[0m\u001b[0ma_tuple\u001b[0m\u001b[1;33m)\u001b[0m\u001b[1;33m\u001b[0m\u001b[1;33m\u001b[0m\u001b[0m\n\u001b[1;32m----> 3\u001b[1;33m \u001b[0ma_tuple\u001b[0m\u001b[1;33m[\u001b[0m\u001b[1;36m2\u001b[0m\u001b[1;33m]\u001b[0m \u001b[1;33m=\u001b[0m \u001b[1;36m100\u001b[0m\u001b[1;33m\u001b[0m\u001b[1;33m\u001b[0m\u001b[0m\n\u001b[0m\u001b[0;32m      4\u001b[0m \u001b[0mprint\u001b[0m\u001b[1;33m(\u001b[0m\u001b[0ma_tuple\u001b[0m\u001b[1;33m)\u001b[0m\u001b[1;33m\u001b[0m\u001b[1;33m\u001b[0m\u001b[0m\n",
      "\u001b[1;31mTypeError\u001b[0m: 'tuple' object does not support item assignment"
     ]
    }
   ],
   "source": [
    "# 튜플의 원소 변경 시도 - error\n",
    "print(a_tuple)\n",
    "a_tuple[2] = 100\n",
    "print(a_tuple)"
   ]
  },
  {
   "cell_type": "code",
   "execution_count": 51,
   "metadata": {},
   "outputs": [
    {
     "name": "stdout",
     "output_type": "stream",
     "text": [
      "(1, 2, ['a', 'b', 'c'])\n",
      "(1, 2, ['hello', 'b', 'c'])\n"
     ]
    }
   ],
   "source": [
    "t1 = (1, 2, ['a', 'b', 'c'])\n",
    "print(t1)\n",
    "t1[2][0] = 'hello'\n",
    "print(t1)"
   ]
  },
  {
   "cell_type": "code",
   "execution_count": 52,
   "metadata": {},
   "outputs": [
    {
     "ename": "TypeError",
     "evalue": "'tuple' object does not support item assignment",
     "output_type": "error",
     "traceback": [
      "\u001b[1;31m---------------------------------------------------------------------------\u001b[0m",
      "\u001b[1;31mTypeError\u001b[0m                                 Traceback (most recent call last)",
      "\u001b[1;32m~\\AppData\\Local\\Temp/ipykernel_9244/3638716763.py\u001b[0m in \u001b[0;36m<module>\u001b[1;34m\u001b[0m\n\u001b[0;32m      1\u001b[0m \u001b[1;31m# t1 안의 리스트 변경 - error\u001b[0m\u001b[1;33m\u001b[0m\u001b[1;33m\u001b[0m\u001b[0m\n\u001b[1;32m----> 2\u001b[1;33m \u001b[0mt1\u001b[0m\u001b[1;33m[\u001b[0m\u001b[1;36m2\u001b[0m\u001b[1;33m]\u001b[0m \u001b[1;33m=\u001b[0m \u001b[1;33m[\u001b[0m\u001b[1;36m100\u001b[0m\u001b[1;33m,\u001b[0m \u001b[1;36m200\u001b[0m\u001b[1;33m,\u001b[0m \u001b[1;36m300\u001b[0m\u001b[1;33m]\u001b[0m\u001b[1;33m\u001b[0m\u001b[1;33m\u001b[0m\u001b[0m\n\u001b[0m",
      "\u001b[1;31mTypeError\u001b[0m: 'tuple' object does not support item assignment"
     ]
    }
   ],
   "source": [
    "# t1 안의 리스트 변경 - error\n",
    "t1[2] = [100, 200, 300]"
   ]
  },
  {
   "cell_type": "code",
   "execution_count": 53,
   "metadata": {},
   "outputs": [
    {
     "name": "stdout",
     "output_type": "stream",
     "text": [
      "(1, 2, ['hello', 'b', 'c', 100])\n"
     ]
    }
   ],
   "source": [
    "t1[-1].append(100)  # t1 안의 리스트에 값 추가 - append\n",
    "print(t1)"
   ]
  },
  {
   "cell_type": "code",
   "execution_count": 54,
   "metadata": {},
   "outputs": [
    {
     "name": "stdout",
     "output_type": "stream",
     "text": [
      "['__add__', '__class__', '__class_getitem__', '__contains__', '__delattr__', '__dir__', '__doc__', '__eq__', '__format__', '__ge__', '__getattribute__', '__getitem__', '__getnewargs__', '__gt__', '__hash__', '__init__', '__init_subclass__', '__iter__', '__le__', '__len__', '__lt__', '__mul__', '__ne__', '__new__', '__reduce__', '__reduce_ex__', '__repr__', '__rmul__', '__setattr__', '__sizeof__', '__str__', '__subclasshook__', 'count', 'index'] \n",
      "\n",
      "1\n"
     ]
    }
   ],
   "source": [
    "# 튜플의 메서드 확인\n",
    "print(dir(t1), '\\n')\n",
    "print(t1.index(2))"
   ]
  },
  {
   "cell_type": "code",
   "execution_count": 55,
   "metadata": {},
   "outputs": [
    {
     "name": "stdout",
     "output_type": "stream",
     "text": [
      "10\n",
      "<class 'int'>\n",
      "t2=(10,),t3=(10,)\n",
      "type(t2) = <class 'tuple'>\n"
     ]
    }
   ],
   "source": [
    "# 원소가 한개인 튜플 만들기\n",
    "t2 = (10)\n",
    "print(t2)\n",
    "print(type(t2))\n",
    "\n",
    "# 원소가 한개인 튜플은 반드시 끝에 콤마가 필요\n",
    "t2 = 10,\n",
    "t3 = (10,)\n",
    "print(f't2={t2},t3={t3}')\n",
    "print(f'type(t2) = {type(t2)}')"
   ]
  },
  {
   "cell_type": "code",
   "execution_count": 56,
   "metadata": {},
   "outputs": [],
   "source": [
    "# 사전(dictionary, dict)\n",
    "# - 사전 리터럴: 중괄호{} 사용\n",
    "# - 아이템 키, 값 쌍은 콜론으로 구분\n",
    "# - 순서 없는 자료형\n",
    "# - 같은 키는 존재할 수 없으나 만약 같은 키의 아이템이 입력되면 마지막 키의 값으로 결정"
   ]
  },
  {
   "cell_type": "code",
   "execution_count": 57,
   "metadata": {},
   "outputs": [],
   "source": [
    "# cf.) 기호\n",
    "# ~ : tilde, ` : backtick, @ : at, ^ : caret, & : ampersand\n",
    "# * : asterisk, _ : underscore, | : vertical bar, pipe\n",
    "# : : colon, ; : semi-colon, \\ : back-slash"
   ]
  },
  {
   "cell_type": "code",
   "execution_count": 58,
   "metadata": {},
   "outputs": [
    {
     "name": "stdout",
     "output_type": "stream",
     "text": [
      "{'a': 1, 'b': 2, 100: '백', ('홍길동', '아버지'): '홍판서'}\n"
     ]
    }
   ],
   "source": [
    "a_dict = {'a': 1, 'b' : 2, 100: '백', ('홍길동', '아버지'): '홍판서'}\n",
    "print(a_dict)"
   ]
  },
  {
   "cell_type": "code",
   "execution_count": 59,
   "metadata": {},
   "outputs": [
    {
     "name": "stdout",
     "output_type": "stream",
     "text": [
      "홍판서\n",
      "1\n"
     ]
    },
    {
     "ename": "KeyError",
     "evalue": "0",
     "output_type": "error",
     "traceback": [
      "\u001b[1;31m---------------------------------------------------------------------------\u001b[0m",
      "\u001b[1;31mKeyError\u001b[0m                                  Traceback (most recent call last)",
      "\u001b[1;32m~\\AppData\\Local\\Temp/ipykernel_9244/3475122733.py\u001b[0m in \u001b[0;36m<module>\u001b[1;34m\u001b[0m\n\u001b[0;32m      3\u001b[0m \u001b[0mprint\u001b[0m\u001b[1;33m(\u001b[0m\u001b[0ma_dict\u001b[0m\u001b[1;33m[\u001b[0m\u001b[1;34m'a'\u001b[0m\u001b[1;33m]\u001b[0m\u001b[1;33m)\u001b[0m\u001b[1;33m\u001b[0m\u001b[1;33m\u001b[0m\u001b[0m\n\u001b[0;32m      4\u001b[0m \u001b[1;33m\u001b[0m\u001b[0m\n\u001b[1;32m----> 5\u001b[1;33m \u001b[0mprint\u001b[0m\u001b[1;33m(\u001b[0m\u001b[0ma_dict\u001b[0m\u001b[1;33m[\u001b[0m\u001b[1;36m0\u001b[0m\u001b[1;33m]\u001b[0m\u001b[1;33m)\u001b[0m    \u001b[1;31m# error\u001b[0m\u001b[1;33m\u001b[0m\u001b[1;33m\u001b[0m\u001b[0m\n\u001b[0m",
      "\u001b[1;31mKeyError\u001b[0m: 0"
     ]
    }
   ],
   "source": [
    "# 사전의 아이템에 접근: 키로 인덱싱\n",
    "print(a_dict[('홍길동', '아버지')])\n",
    "print(a_dict['a'])\n",
    "\n",
    "print(a_dict[0])    # error"
   ]
  },
  {
   "cell_type": "code",
   "execution_count": 60,
   "metadata": {},
   "outputs": [
    {
     "name": "stdout",
     "output_type": "stream",
     "text": [
      "{'a': '에이', 'b': 2, 100: '백'}\n"
     ]
    }
   ],
   "source": [
    "c_dict = {'a' : 1, 'b' : 2, 100 : '백', 'a' : '에이'}\n",
    "print(c_dict)"
   ]
  },
  {
   "cell_type": "code",
   "execution_count": 61,
   "metadata": {},
   "outputs": [
    {
     "ename": "TypeError",
     "evalue": "unhashable type: 'list'",
     "output_type": "error",
     "traceback": [
      "\u001b[1;31m---------------------------------------------------------------------------\u001b[0m",
      "\u001b[1;31mTypeError\u001b[0m                                 Traceback (most recent call last)",
      "\u001b[1;32m~\\AppData\\Local\\Temp/ipykernel_9244/2709803627.py\u001b[0m in \u001b[0;36m<module>\u001b[1;34m\u001b[0m\n\u001b[0;32m      1\u001b[0m \u001b[1;31m# 사전의 키는 hashable 객체이어야 함. 간단히 말해서 immutable\u001b[0m\u001b[1;33m\u001b[0m\u001b[1;33m\u001b[0m\u001b[0m\n\u001b[1;32m----> 2\u001b[1;33m \u001b[0mc_dict\u001b[0m \u001b[1;33m=\u001b[0m \u001b[1;33m{\u001b[0m\u001b[1;34m'a'\u001b[0m \u001b[1;33m:\u001b[0m \u001b[1;36m1\u001b[0m\u001b[1;33m,\u001b[0m \u001b[1;36m0\u001b[0m \u001b[1;33m:\u001b[0m \u001b[1;34m'b'\u001b[0m\u001b[1;33m,\u001b[0m \u001b[1;33m(\u001b[0m\u001b[1;36m1\u001b[0m\u001b[1;33m,\u001b[0m \u001b[1;34m'a'\u001b[0m\u001b[1;33m)\u001b[0m \u001b[1;33m:\u001b[0m \u001b[1;36m3\u001b[0m\u001b[1;33m,\u001b[0m \u001b[1;33m[\u001b[0m\u001b[1;36m1\u001b[0m\u001b[1;33m,\u001b[0m \u001b[1;36m2\u001b[0m\u001b[1;33m,\u001b[0m \u001b[1;36m3\u001b[0m\u001b[1;33m]\u001b[0m\u001b[1;33m:\u001b[0m \u001b[1;34m'hello'\u001b[0m\u001b[1;33m}\u001b[0m\u001b[1;33m\u001b[0m\u001b[1;33m\u001b[0m\u001b[0m\n\u001b[0m",
      "\u001b[1;31mTypeError\u001b[0m: unhashable type: 'list'"
     ]
    }
   ],
   "source": [
    "# 사전의 키는 hashable 객체이어야 함. 간단히 말해서 immutable\n",
    "c_dict = {'a' : 1, 0 : 'b', (1, 'a') : 3, [1, 2, 3]: 'hello'}"
   ]
  },
  {
   "cell_type": "code",
   "execution_count": 62,
   "metadata": {},
   "outputs": [
    {
     "name": "stdout",
     "output_type": "stream",
     "text": [
      "{'a': 1, 'b': 2, 100: '백', ('홍길동', '아버지'): '홍판서'}\n",
      "{'a': 1, 'b': 2, 100: '백', ('홍길동', '아버지'): '홍판서', '날짜': '20220510'}\n"
     ]
    }
   ],
   "source": [
    "# 사전에 원소 추가\n",
    "print(a_dict)\n",
    "a_dict['날짜'] = '20220510'\n",
    "print(a_dict)"
   ]
  },
  {
   "cell_type": "code",
   "execution_count": 63,
   "metadata": {},
   "outputs": [
    {
     "ename": "IndexError",
     "evalue": "list assignment index out of range",
     "output_type": "error",
     "traceback": [
      "\u001b[1;31m---------------------------------------------------------------------------\u001b[0m",
      "\u001b[1;31mIndexError\u001b[0m                                Traceback (most recent call last)",
      "\u001b[1;32m~\\AppData\\Local\\Temp/ipykernel_9244/1636007134.py\u001b[0m in \u001b[0;36m<module>\u001b[1;34m\u001b[0m\n\u001b[0;32m      1\u001b[0m \u001b[1;31m# 리스트에 원소 추가\u001b[0m\u001b[1;33m\u001b[0m\u001b[1;33m\u001b[0m\u001b[0m\n\u001b[0;32m      2\u001b[0m \u001b[0ma_list\u001b[0m \u001b[1;33m=\u001b[0m \u001b[1;33m[\u001b[0m\u001b[1;36m1\u001b[0m\u001b[1;33m,\u001b[0m \u001b[1;36m2\u001b[0m\u001b[1;33m,\u001b[0m \u001b[1;36m3\u001b[0m\u001b[1;33m,\u001b[0m \u001b[1;36m4\u001b[0m\u001b[1;33m,\u001b[0m \u001b[1;36m5\u001b[0m\u001b[1;33m]\u001b[0m\u001b[1;33m\u001b[0m\u001b[1;33m\u001b[0m\u001b[0m\n\u001b[1;32m----> 3\u001b[1;33m \u001b[0ma_list\u001b[0m\u001b[1;33m[\u001b[0m\u001b[1;36m5\u001b[0m\u001b[1;33m]\u001b[0m \u001b[1;33m=\u001b[0m \u001b[1;36m6\u001b[0m   \u001b[1;31m# error\u001b[0m\u001b[1;33m\u001b[0m\u001b[1;33m\u001b[0m\u001b[0m\n\u001b[0m",
      "\u001b[1;31mIndexError\u001b[0m: list assignment index out of range"
     ]
    }
   ],
   "source": [
    "# 리스트에 원소 추가\n",
    "a_list = [1, 2, 3, 4, 5]\n",
    "a_list[5] = 6   # error"
   ]
  },
  {
   "cell_type": "code",
   "execution_count": 64,
   "metadata": {},
   "outputs": [
    {
     "name": "stdout",
     "output_type": "stream",
     "text": [
      "[1, 2, 3, 4, 5, 6]\n"
     ]
    }
   ],
   "source": [
    "# 리스트에 원소 추가 - append\n",
    "a_list.append(6)\n",
    "print(a_list)"
   ]
  },
  {
   "cell_type": "code",
   "execution_count": 65,
   "metadata": {},
   "outputs": [
    {
     "name": "stdout",
     "output_type": "stream",
     "text": [
      "[1, 10, 2, 3, 4, 5, 6]\n",
      "[1, 10, 2, 3, 4, 5, 6, 20]\n"
     ]
    }
   ],
   "source": [
    "# 리스트에 원소 추가 - insert\n",
    "a_list.insert(1, 10)\n",
    "\n",
    "print(a_list)\n",
    "\n",
    "a_list.insert(10, 20)\n",
    "\n",
    "print(a_list)"
   ]
  },
  {
   "cell_type": "code",
   "execution_count": 66,
   "metadata": {},
   "outputs": [
    {
     "name": "stdout",
     "output_type": "stream",
     "text": [
      "{} {}\n"
     ]
    }
   ],
   "source": [
    "# 빈 사전 만들기\n",
    "b_dict = {}\n",
    "c_dict = dict()\n",
    "print(b_dict, c_dict)       "
   ]
  },
  {
   "cell_type": "code",
   "execution_count": 67,
   "metadata": {},
   "outputs": [
    {
     "name": "stdout",
     "output_type": "stream",
     "text": [
      "<class 'dict'>\n"
     ]
    }
   ],
   "source": [
    "print(type(b_dict))"
   ]
  },
  {
   "cell_type": "code",
   "execution_count": 68,
   "metadata": {},
   "outputs": [],
   "source": [
    "# 컬렉션 원소 제거\n",
    "# 1) del 명령어 : 객체 제거, namespace에서 해당 이름 삭제\n",
    "# 2) 해당 컬렉션의 메서드 사용"
   ]
  },
  {
   "cell_type": "code",
   "execution_count": 69,
   "metadata": {},
   "outputs": [
    {
     "name": "stdout",
     "output_type": "stream",
     "text": [
      "hello world\n"
     ]
    },
    {
     "ename": "NameError",
     "evalue": "name 'msg' is not defined",
     "output_type": "error",
     "traceback": [
      "\u001b[1;31m---------------------------------------------------------------------------\u001b[0m",
      "\u001b[1;31mNameError\u001b[0m                                 Traceback (most recent call last)",
      "\u001b[1;32m~\\AppData\\Local\\Temp/ipykernel_9244/2163999995.py\u001b[0m in \u001b[0;36m<module>\u001b[1;34m\u001b[0m\n\u001b[0;32m      5\u001b[0m \u001b[1;32mdel\u001b[0m \u001b[0mmsg\u001b[0m\u001b[1;33m\u001b[0m\u001b[1;33m\u001b[0m\u001b[0m\n\u001b[0;32m      6\u001b[0m \u001b[1;33m\u001b[0m\u001b[0m\n\u001b[1;32m----> 7\u001b[1;33m \u001b[0mprint\u001b[0m\u001b[1;33m(\u001b[0m\u001b[0mmsg\u001b[0m\u001b[1;33m)\u001b[0m\u001b[1;33m\u001b[0m\u001b[1;33m\u001b[0m\u001b[0m\n\u001b[0m",
      "\u001b[1;31mNameError\u001b[0m: name 'msg' is not defined"
     ]
    }
   ],
   "source": [
    "# del\n",
    "msg = 'hello world'\n",
    "print(msg)\n",
    "\n",
    "del msg\n",
    "\n",
    "print(msg)"
   ]
  },
  {
   "cell_type": "code",
   "execution_count": 70,
   "metadata": {},
   "outputs": [
    {
     "name": "stdout",
     "output_type": "stream",
     "text": [
      "[1, 10, 2, 3, 4, 5, 6, 20]\n",
      "[1, 10, 3, 4, 5, 6, 20]\n"
     ]
    }
   ],
   "source": [
    "# 리스트 원소 삭제 - del\n",
    "print(a_list)\n",
    "del a_list[2]\n",
    "print(a_list)"
   ]
  },
  {
   "cell_type": "code",
   "execution_count": 71,
   "metadata": {},
   "outputs": [
    {
     "name": "stdout",
     "output_type": "stream",
     "text": [
      "[1, 10, 3, 4, 5, 6, 20]\n",
      "[1, 10, 3, 4, 6, 20]\n"
     ]
    }
   ],
   "source": [
    "# 리스트 원소 삭제 - remove\n",
    "print(a_list)\n",
    "a_list.remove(5)\n",
    "print(a_list)"
   ]
  },
  {
   "cell_type": "code",
   "execution_count": 72,
   "metadata": {},
   "outputs": [
    {
     "name": "stdout",
     "output_type": "stream",
     "text": [
      "[1, 10, 3, 4, 6] 20\n",
      "[1, 3, 4, 6] 10\n"
     ]
    }
   ],
   "source": [
    "# 리스트 원소 삭제 - pop\n",
    "result = a_list.pop()   # 값을 안주면 맨 마지막\n",
    "print(a_list, result)   # result : 삭제한 값 반환\n",
    "\n",
    "result = a_list.pop(1)\n",
    "print(a_list, result)"
   ]
  },
  {
   "cell_type": "code",
   "execution_count": 73,
   "metadata": {},
   "outputs": [
    {
     "ename": "TypeError",
     "evalue": "'tuple' object doesn't support item deletion",
     "output_type": "error",
     "traceback": [
      "\u001b[1;31m---------------------------------------------------------------------------\u001b[0m",
      "\u001b[1;31mTypeError\u001b[0m                                 Traceback (most recent call last)",
      "\u001b[1;32m~\\AppData\\Local\\Temp/ipykernel_9244/920801529.py\u001b[0m in \u001b[0;36m<module>\u001b[1;34m\u001b[0m\n\u001b[0;32m      1\u001b[0m \u001b[1;31m# 튜플 원소 삭제\u001b[0m\u001b[1;33m\u001b[0m\u001b[1;33m\u001b[0m\u001b[0m\n\u001b[0;32m      2\u001b[0m \u001b[0ma_tuple\u001b[0m \u001b[1;33m=\u001b[0m \u001b[1;33m(\u001b[0m\u001b[1;36m1\u001b[0m\u001b[1;33m,\u001b[0m \u001b[1;36m2\u001b[0m\u001b[1;33m,\u001b[0m \u001b[1;36m3\u001b[0m\u001b[1;33m)\u001b[0m\u001b[1;33m\u001b[0m\u001b[1;33m\u001b[0m\u001b[0m\n\u001b[1;32m----> 3\u001b[1;33m \u001b[1;32mdel\u001b[0m \u001b[0ma_tuple\u001b[0m\u001b[1;33m[\u001b[0m\u001b[1;36m0\u001b[0m\u001b[1;33m]\u001b[0m      \u001b[1;31m# 튜플은 원소를 삭제할 수 없음\u001b[0m\u001b[1;33m\u001b[0m\u001b[1;33m\u001b[0m\u001b[0m\n\u001b[0m\u001b[0;32m      4\u001b[0m \u001b[0mprint\u001b[0m\u001b[1;33m(\u001b[0m\u001b[0ma_tuple\u001b[0m\u001b[1;33m)\u001b[0m\u001b[1;33m\u001b[0m\u001b[1;33m\u001b[0m\u001b[0m\n",
      "\u001b[1;31mTypeError\u001b[0m: 'tuple' object doesn't support item deletion"
     ]
    }
   ],
   "source": [
    "# 튜플 원소 삭제\n",
    "a_tuple = (1, 2, 3)\n",
    "del a_tuple[0]      # 튜플은 원소를 삭제할 수 없음\n",
    "print(a_tuple)"
   ]
  },
  {
   "cell_type": "code",
   "execution_count": 74,
   "metadata": {},
   "outputs": [
    {
     "name": "stdout",
     "output_type": "stream",
     "text": [
      "{'a': 1, 'b': 2, 100: '백', ('홍길동', '아버지'): '홍판서', '날짜': '20220510'}\n",
      "{'a': 1, 'b': 2, ('홍길동', '아버지'): '홍판서', '날짜': '20220510'}\n"
     ]
    }
   ],
   "source": [
    "# 사전 원소 삭제 - del\n",
    "print(a_dict)\n",
    "del a_dict[100]\n",
    "print(a_dict)"
   ]
  },
  {
   "cell_type": "code",
   "execution_count": 75,
   "metadata": {},
   "outputs": [
    {
     "name": "stdout",
     "output_type": "stream",
     "text": [
      "{'a': 1, 'b': 2, ('홍길동', '아버지'): '홍판서', '날짜': '20220510'}\n",
      "{'b': 2, ('홍길동', '아버지'): '홍판서', '날짜': '20220510'} 1\n",
      "{'b': 2, ('홍길동', '아버지'): '홍판서', '날짜': '20220510'} 없음\n"
     ]
    }
   ],
   "source": [
    "# 사전 원소 삭제 - pop\n",
    "print(a_dict)\n",
    "\n",
    "result = a_dict.pop('a')\n",
    "print(a_dict, result)\n",
    "\n",
    "result = a_dict.pop('c', '없음')\n",
    "print(a_dict, result)"
   ]
  },
  {
   "cell_type": "code",
   "execution_count": 76,
   "metadata": {},
   "outputs": [
    {
     "name": "stdout",
     "output_type": "stream",
     "text": [
      "<class 'set'>\n",
      "{1, 2, 3, 4}\n"
     ]
    }
   ],
   "source": [
    "# 집합(set)\n",
    "a_set = {1, 2, 3, 4}\n",
    "print(type(a_set))\n",
    "print(a_set)"
   ]
  },
  {
   "cell_type": "code",
   "execution_count": 77,
   "metadata": {},
   "outputs": [
    {
     "name": "stdout",
     "output_type": "stream",
     "text": [
      "set()\n"
     ]
    }
   ],
   "source": [
    "# 빈 집합\n",
    "b_set = set()\n",
    "print(b_set)"
   ]
  },
  {
   "cell_type": "code",
   "execution_count": 78,
   "metadata": {},
   "outputs": [
    {
     "name": "stdout",
     "output_type": "stream",
     "text": [
      "{1, 2, 3, 4, 5, 6}\n"
     ]
    }
   ],
   "source": [
    "# 중복 허용하지 않음\n",
    "print({1, 2, 3, 4, 1, 2, 6, 5, 4, 1})"
   ]
  },
  {
   "cell_type": "code",
   "execution_count": 79,
   "metadata": {},
   "outputs": [
    {
     "ename": "TypeError",
     "evalue": "'set' object is not subscriptable",
     "output_type": "error",
     "traceback": [
      "\u001b[1;31m---------------------------------------------------------------------------\u001b[0m",
      "\u001b[1;31mTypeError\u001b[0m                                 Traceback (most recent call last)",
      "\u001b[1;32m~\\AppData\\Local\\Temp/ipykernel_9244/2936813810.py\u001b[0m in \u001b[0;36m<module>\u001b[1;34m\u001b[0m\n\u001b[0;32m      1\u001b[0m \u001b[1;31m#  순서가 없다, 인덱싱 불가\u001b[0m\u001b[1;33m\u001b[0m\u001b[1;33m\u001b[0m\u001b[0m\n\u001b[1;32m----> 2\u001b[1;33m \u001b[0mprint\u001b[0m\u001b[1;33m(\u001b[0m\u001b[0ma_set\u001b[0m\u001b[1;33m[\u001b[0m\u001b[1;36m1\u001b[0m\u001b[1;33m]\u001b[0m\u001b[1;33m)\u001b[0m\u001b[1;33m\u001b[0m\u001b[1;33m\u001b[0m\u001b[0m\n\u001b[0m",
      "\u001b[1;31mTypeError\u001b[0m: 'set' object is not subscriptable"
     ]
    }
   ],
   "source": [
    "#  순서가 없다, 인덱싱 불가\n",
    "print(a_set[1])"
   ]
  },
  {
   "cell_type": "code",
   "execution_count": 80,
   "metadata": {},
   "outputs": [
    {
     "name": "stdout",
     "output_type": "stream",
     "text": [
      "{'l', 'o', 'r', ' ', 'd', 'c', 'h', 'w', 'm', 'e', 't'}\n"
     ]
    }
   ],
   "source": [
    "# 문자열을 집합형으로 - 순서가 없음, 중복 허용 x\n",
    "c_set = set('welcome to the world')\n",
    "print(c_set)"
   ]
  },
  {
   "cell_type": "code",
   "execution_count": 81,
   "metadata": {},
   "outputs": [
    {
     "name": "stdout",
     "output_type": "stream",
     "text": [
      "['w', 'e', 'l', 'c', 'o', 'm', 'e', ' ', 't', 'o', ' ', 'm', 'y', ' ', 'w', 'o', 'r', 'l', 'd']\n",
      "('w', 'e', 'l', 'c', 'o', 'm', 'e', ' ', 't', 'o', ' ', 'm', 'y', ' ', 'w', 'o', 'r', 'l', 'd')\n"
     ]
    }
   ],
   "source": [
    "# 문자열을 리스트 및 튜플로 - 순서가 있음\n",
    "print(list('welcome to my world'))\n",
    "print(tuple('welcome to my world'))"
   ]
  },
  {
   "cell_type": "markdown",
   "metadata": {},
   "source": [
    "# 05. 연산 - 사칙연산, 논리연산, 비교연산"
   ]
  },
  {
   "cell_type": "code",
   "execution_count": 82,
   "metadata": {},
   "outputs": [],
   "source": [
    "# 연산자 우선순위 - 검색\n",
    "# 기본은 산술 > (비트) > 비교 > 논리 > 대입"
   ]
  },
  {
   "cell_type": "code",
   "execution_count": 83,
   "metadata": {},
   "outputs": [
    {
     "name": "stdout",
     "output_type": "stream",
     "text": [
      "3.4\n",
      "3\n",
      "2\n"
     ]
    }
   ],
   "source": [
    "# 정수\n",
    "a = 17\n",
    "b = 5\n",
    "print(a / b)\n",
    "print(a // b)   # 몫\n",
    "print(a % b)    # modulus 연산자 (나머지)"
   ]
  },
  {
   "cell_type": "code",
   "execution_count": 84,
   "metadata": {},
   "outputs": [
    {
     "name": "stdout",
     "output_type": "stream",
     "text": [
      "3.4\n",
      "3.0\n",
      "2.0\n"
     ]
    }
   ],
   "source": [
    "# 실수\n",
    "a = 17.0\n",
    "b = 5.0\n",
    "print(a / b)\n",
    "print(a // b)   # 몫\n",
    "print(a % b)    # modulus 연산자 (나머지)"
   ]
  },
  {
   "cell_type": "code",
   "execution_count": 85,
   "metadata": {},
   "outputs": [],
   "source": [
    "# 논리 연산\n",
    "\n",
    "# Truth Value Testing\n",
    "# - https://docs.python.org/3/library/stdtypes.html\n",
    "# 데이터를 논리값으로 판단해야 한다면\n",
    "#  1) 값 자체가 False: None, False\n",
    "#  2) 숫자 데이터는 0으로 판명되는 것: 0, 0.0, 0j, Decimal(0), Fraction(0, 1)\n",
    "#  3) 빈 시퀀스 또는 컬렉션: '', (), [], {}, set(), range(0)\n",
    "\n",
    "# 논리 리터럴 True, False가 산술연산에 사용되면\n",
    "#   - True -> 1, False -> 0으로 간주"
   ]
  },
  {
   "cell_type": "code",
   "execution_count": 86,
   "metadata": {},
   "outputs": [
    {
     "name": "stdout",
     "output_type": "stream",
     "text": [
      "2\n",
      "11\n"
     ]
    }
   ],
   "source": [
    "print(True + True + False)\n",
    "print(10 + True)"
   ]
  },
  {
   "cell_type": "code",
   "execution_count": 87,
   "metadata": {},
   "outputs": [
    {
     "name": "stdout",
     "output_type": "stream",
     "text": [
      "0\n",
      "1\n",
      "0\n",
      "100\n",
      "hello\n",
      "hello\n"
     ]
    }
   ],
   "source": [
    "# short cut evaluation\n",
    "# - and로만 또는 or로만 연결된 논리식에서 \n",
    "# - 앞부분에서 이미 전체 결과가 결정되면 뒷부분은 evaluate 하지 않음\n",
    "# -- False(0) or func_1hour()  : 전체 결과는 1h 후\n",
    "# -- True(1) or func_1hour()  : 이미 true -> func_1hour 실행 x\n",
    "\n",
    "print(0 or 0)\n",
    "print(0 or 1)\n",
    "print(0 and 1)\n",
    "\n",
    "print(100 or 0)\n",
    "\n",
    "print('hello' or 3.2)\n",
    "print(0 or 'hello')"
   ]
  },
  {
   "cell_type": "code",
   "execution_count": 88,
   "metadata": {},
   "outputs": [
    {
     "ename": "SyntaxError",
     "evalue": "expression cannot contain assignment, perhaps you meant \"==\"? (Temp/ipykernel_9244/4109359986.py, line 6)",
     "output_type": "error",
     "traceback": [
      "\u001b[1;36m  File \u001b[1;32m\"C:\\Users\\r2com\\AppData\\Local\\Temp/ipykernel_9244/4109359986.py\"\u001b[1;36m, line \u001b[1;32m6\u001b[0m\n\u001b[1;33m    print(10 => 10)     # error\u001b[0m\n\u001b[1;37m          ^\u001b[0m\n\u001b[1;31mSyntaxError\u001b[0m\u001b[1;31m:\u001b[0m expression cannot contain assignment, perhaps you meant \"==\"?\n"
     ]
    }
   ],
   "source": [
    "# 비교연산\n",
    "# 비교연산의 결과는 논리값\n",
    "print(10 == 10)\n",
    "print(10 != 10)\n",
    "print(10 >= 10)\n",
    "print(10 => 10)     # error"
   ]
  },
  {
   "cell_type": "code",
   "execution_count": 89,
   "metadata": {},
   "outputs": [
    {
     "name": "stdout",
     "output_type": "stream",
     "text": [
      "True\n",
      "False\n"
     ]
    }
   ],
   "source": [
    "# 멤버십 연산자 : in, not in\n",
    "# - 컬렉션과 함께\n",
    "# list\n",
    "a_list = ['a', 2, 'hello', 3]\n",
    "print('a' in a_list)\n",
    "print(1 in a_list)"
   ]
  },
  {
   "cell_type": "code",
   "execution_count": 90,
   "metadata": {},
   "outputs": [
    {
     "name": "stdout",
     "output_type": "stream",
     "text": [
      "False\n",
      "True\n"
     ]
    }
   ],
   "source": [
    "# 멤버십 연산자 : in, not in\n",
    "# tuple\n",
    "a_tuple = tuple(a_list)\n",
    "print('a' not in a_tuple)\n",
    "print(1 not in a_tuple)"
   ]
  },
  {
   "cell_type": "code",
   "execution_count": 91,
   "metadata": {},
   "outputs": [
    {
     "name": "stdout",
     "output_type": "stream",
     "text": [
      "True\n",
      "False\n"
     ]
    }
   ],
   "source": [
    "# 사전은 키 값에 대해 멤버십 연산자 적용\n",
    "a_dict = {1: 'one', '이': 'two', 3: '삼'}\n",
    "print(1 in a_dict)\n",
    "print('one' in a_dict)"
   ]
  },
  {
   "cell_type": "code",
   "execution_count": 92,
   "metadata": {},
   "outputs": [
    {
     "name": "stdout",
     "output_type": "stream",
     "text": [
      "False\n",
      "True\n"
     ]
    }
   ],
   "source": [
    "# 사전의 값에 대해 멤버십을 사용하려면 - values()\n",
    "print(1 in a_dict.values())\n",
    "print('one' in a_dict.values())"
   ]
  },
  {
   "cell_type": "code",
   "execution_count": 93,
   "metadata": {},
   "outputs": [
    {
     "name": "stdout",
     "output_type": "stream",
     "text": [
      "dict_values(['one', 'two', '삼'])\n",
      "dict_keys([1, '이', 3])\n"
     ]
    }
   ],
   "source": [
    "# values(), keys()\n",
    "print(a_dict.values())\n",
    "print(a_dict.keys())"
   ]
  },
  {
   "cell_type": "code",
   "execution_count": 94,
   "metadata": {},
   "outputs": [
    {
     "name": "stdout",
     "output_type": "stream",
     "text": [
      "True\n",
      "False\n",
      "False\n"
     ]
    }
   ],
   "source": [
    "# 문자열 비교 - 소문자 > 대문자\n",
    "print('a' > 'A')\n",
    "print('aA' > 'aB')\n",
    "print('aA' > 'aA0')"
   ]
  },
  {
   "cell_type": "code",
   "execution_count": 95,
   "metadata": {},
   "outputs": [
    {
     "name": "stdout",
     "output_type": "stream",
     "text": [
      "l1 == l2: True\n",
      "l1 == l3: True\n",
      "l1 is l2: True\n",
      "l1 is l3: False\n"
     ]
    }
   ],
   "source": [
    "# 동등 비교(==)\n",
    "# - 값이 같으냐 비교\n",
    "\n",
    "# 일치(is)\n",
    "# - 객체가 같으냐\n",
    "\n",
    "l1 = [1, 2, 3, 4]\n",
    "l2 = l1             # l2는 l1의 주소값 복사 - 같은 객체\n",
    "l3 = list(l1)       # l3은 l1을 새 리스트로 - 같은 값, 다른 객체\n",
    "\n",
    "print(f'l1 == l2: {l1 == l2}')\n",
    "print(f'l1 == l3: {l1 == l3}')\n",
    "print(f'l1 is l2: {l1 is l2}')\n",
    "print(f'l1 is l3: {l1 is l3}')"
   ]
  },
  {
   "cell_type": "code",
   "execution_count": 96,
   "metadata": {},
   "outputs": [
    {
     "name": "stdout",
     "output_type": "stream",
     "text": [
      "1984071774272 1984071774272 1984072012928\n"
     ]
    }
   ],
   "source": [
    "print(id(l1),id(l2),id(l3))"
   ]
  },
  {
   "cell_type": "code",
   "execution_count": 97,
   "metadata": {},
   "outputs": [
    {
     "name": "stdout",
     "output_type": "stream",
     "text": [
      "1983991605648 1983991605648 1983991605648\n"
     ]
    }
   ],
   "source": [
    "# 정수\n",
    "a = 256\n",
    "b = a\n",
    "c = 256\n",
    "\n",
    "print(id(a),id(b),id(c))"
   ]
  },
  {
   "cell_type": "code",
   "execution_count": 98,
   "metadata": {},
   "outputs": [
    {
     "name": "stdout",
     "output_type": "stream",
     "text": [
      "1984072862960 1984072862960 1984072863280\n"
     ]
    }
   ],
   "source": [
    "# 정수는 257 이상은 별도의 객체로 생성됨\n",
    "a = 257\n",
    "b, c = a, 257   # unpacking\n",
    "\n",
    "print(id(a),id(b),id(c))"
   ]
  },
  {
   "cell_type": "code",
   "execution_count": 99,
   "metadata": {},
   "outputs": [
    {
     "name": "stdout",
     "output_type": "stream",
     "text": [
      "20 20\n",
      "20 10\n",
      "10 20\n"
     ]
    }
   ],
   "source": [
    "# unpacking 성질을 이용하면\n",
    "# - swap을 한 줄로 구현\n",
    "\n",
    "# 그냥 아무 생각없이  swap 실행\n",
    "a = 10\n",
    "b = 20\n",
    "a = b\n",
    "b = a\n",
    "print(a,b)\n",
    "\n",
    "# 다른 언어라면 a 변수와 b 변수의 값을 서로 바꾸려면 임시 변수 필요\n",
    "a = 10\n",
    "b = 20\n",
    "temp = a\n",
    "a = b\n",
    "b = temp\n",
    "print(a,b)\n",
    "\n",
    "# 파이썬이라면\n",
    "a, b = b, a     # unpacking\n",
    "print(a,b)"
   ]
  },
  {
   "cell_type": "markdown",
   "metadata": {},
   "source": [
    "# 06. 조건문"
   ]
  },
  {
   "cell_type": "code",
   "execution_count": 100,
   "metadata": {},
   "outputs": [],
   "source": [
    "# 흐름 제어(Flow Control)\n",
    "# - 조건문 : if, else, elif\n",
    "# - 반복문 : for, while"
   ]
  },
  {
   "cell_type": "code",
   "execution_count": 101,
   "metadata": {},
   "outputs": [],
   "source": [
    "# 조건문\n",
    "# 조건 : 비교식, 논리값, Truth Value Testing으로 결정"
   ]
  },
  {
   "cell_type": "code",
   "execution_count": 102,
   "metadata": {},
   "outputs": [],
   "source": [
    "# 코드 블록(code block)\n",
    "# - 프로그램 문장을 묶은 것\n",
    "# - 파이썬은 띄어쓰기로 코드 블록을 표현\n",
    "#   cf.) 다른 언어들은 보통 중괄호로 코드를 묶음\n",
    "#        파스칼 같은 언어는 BEGIN, END와 같은 키워드로 코드 블록 표현\n",
    "\n",
    "#       - JAVA\n",
    "#        void say_hi(String msg) {\n",
    "#        ...\n",
    "#        }\n",
    "\n",
    "#       - 파이썬은 코드 블록 직전에 콜론(:)을 사용\n",
    "#         def say_hi(msg):\n",
    "#            ...\n",
    "#            ..."
   ]
  },
  {
   "cell_type": "code",
   "execution_count": 103,
   "metadata": {},
   "outputs": [
    {
     "name": "stdout",
     "output_type": "stream",
     "text": [
      "The Zen of Python, by Tim Peters\n",
      "\n",
      "Beautiful is better than ugly.\n",
      "Explicit is better than implicit.\n",
      "Simple is better than complex.\n",
      "Complex is better than complicated.\n",
      "Flat is better than nested.\n",
      "Sparse is better than dense.\n",
      "Readability counts.\n",
      "Special cases aren't special enough to break the rules.\n",
      "Although practicality beats purity.\n",
      "Errors should never pass silently.\n",
      "Unless explicitly silenced.\n",
      "In the face of ambiguity, refuse the temptation to guess.\n",
      "There should be one-- and preferably only one --obvious way to do it.\n",
      "Although that way may not be obvious at first unless you're Dutch.\n",
      "Now is better than never.\n",
      "Although never is often better than *right* now.\n",
      "If the implementation is hard to explain, it's a bad idea.\n",
      "If the implementation is easy to explain, it may be a good idea.\n",
      "Namespaces are one honking great idea -- let's do more of those!\n"
     ]
    }
   ],
   "source": [
    "# Style Guide for Python Code: PEP 8\n",
    "#  - https://peps.python.org/pep-0008/\n",
    "\n",
    "\n",
    "# Zen of Python: PEP 20\n",
    "# - https://peps.python.org/pep-0020/\n",
    "import this"
   ]
  },
  {
   "cell_type": "code",
   "execution_count": 104,
   "metadata": {},
   "outputs": [
    {
     "name": "stdout",
     "output_type": "stream",
     "text": [
      "두 개의 값은 같습니다.\n",
      "수고하셨습니다.\n",
      "수고하셨습니다.\n",
      "두 개의 값은 같지 않습니다.\n"
     ]
    }
   ],
   "source": [
    "# 조건문\n",
    "# - if 필수\n",
    "# - else 옵션\n",
    "# - elif (else if) 옵션, 필요한 만큼 여러번\n",
    "\n",
    "a = 1\n",
    "b = 1\n",
    "\n",
    "if a == b:\n",
    "    print('두 개의 값은 같습니다.')     # 참일때 실행할 코드 블록\n",
    "print('수고하셨습니다.')\n",
    "\n",
    "a = 1\n",
    "b = 2\n",
    "\n",
    "if a == b:\n",
    "    print('두 개의 값은 같습니다.') \n",
    "print('수고하셨습니다.')\n",
    "\n",
    "if a != b:\n",
    "    print('두 개의 값은 같지 않습니다.')    # 거짓일때 실행할 코드 블록"
   ]
  },
  {
   "cell_type": "code",
   "execution_count": 105,
   "metadata": {},
   "outputs": [
    {
     "name": "stdout",
     "output_type": "stream",
     "text": [
      "두 개의 값은 같지 않습니다.\n"
     ]
    }
   ],
   "source": [
    "# 조건문 - else\n",
    "\n",
    "a = 1\n",
    "b = 2\n",
    "\n",
    "if a == b:\n",
    "    print('두 개의 값은 같습니다.')      # 참일때 실행할 코드 블록\n",
    "else:\n",
    "    print('두 개의 값은 같지 않습니다.') # 거짓일때 실행할 코드 블록"
   ]
  },
  {
   "cell_type": "code",
   "execution_count": 106,
   "metadata": {},
   "outputs": [
    {
     "name": "stdout",
     "output_type": "stream",
     "text": [
      "b 값이 더 큽니다.\n"
     ]
    }
   ],
   "source": [
    "# 조건문\n",
    "\n",
    "a = 1\n",
    "b = 2\n",
    "\n",
    "if a > b:\n",
    "    print('a 값이 더 큽니다.')\n",
    "elif a < b:\n",
    "    print('b 값이 더 큽니다.')\n",
    "else:\n",
    "    print('두 개의 값은 같습니다.')"
   ]
  },
  {
   "cell_type": "code",
   "execution_count": 107,
   "metadata": {},
   "outputs": [
    {
     "name": "stdout",
     "output_type": "stream",
     "text": [
      "안녕하세요\n",
      "안녕하십니까\n"
     ]
    }
   ],
   "source": [
    "# 논리값이 아닌 데이터가 조건에 사용되면\n",
    "\n",
    "test = 'hello'\n",
    "\n",
    "if test:\n",
    "    print('안녕하세요')\n",
    "else:\n",
    "    print('안녕하십니까')\n",
    "\n",
    "test = ''\n",
    "\n",
    "if test:\n",
    "    print('안녕하세요')\n",
    "else:\n",
    "    print('안녕하십니까')"
   ]
  },
  {
   "cell_type": "code",
   "execution_count": 108,
   "metadata": {},
   "outputs": [
    {
     "name": "stdout",
     "output_type": "stream",
     "text": [
      "짝수입니다\n"
     ]
    }
   ],
   "source": [
    "# 문제: \n",
    "# 사용자로부터 정수를 입력받은 후 \n",
    "# 변수의 값이 짝수면 '짝수입니다', 홀수면 '홀수입니다'를 출력하는 파이썬 코드를 작성해보세요.\n",
    "\n",
    "value = int(input('정수를 입력하세요>>'))\n",
    "\n",
    "if value % 2 == 0:\n",
    "    print('짝수입니다')\n",
    "else:\n",
    "    print('홀수입니다')"
   ]
  },
  {
   "cell_type": "code",
   "execution_count": 109,
   "metadata": {},
   "outputs": [
    {
     "name": "stdout",
     "output_type": "stream",
     "text": [
      "입력하신 정수는 홀수입니다.\n"
     ]
    }
   ],
   "source": [
    "value = int(input('정수를 입력하세요>>'))\n",
    "\n",
    "result = '홀수'\n",
    "\n",
    "if value % 2 == 0:\n",
    "    result = '짝수'\n",
    "\n",
    "print(f'입력하신 정수는 {result}입니다.')"
   ]
  },
  {
   "cell_type": "markdown",
   "metadata": {},
   "source": [
    "# 07. 반복문 - while문, for문"
   ]
  },
  {
   "cell_type": "code",
   "execution_count": 110,
   "metadata": {},
   "outputs": [],
   "source": [
    "# for 문 : 반복 횟수 정해져 있음\n",
    "# while 문 : 조건이 거짓이 될 때까지 반복"
   ]
  },
  {
   "cell_type": "code",
   "execution_count": 111,
   "metadata": {},
   "outputs": [
    {
     "name": "stdout",
     "output_type": "stream",
     "text": [
      "\u001b[1;31mInit signature:\u001b[0m \u001b[0mrange\u001b[0m\u001b[1;33m(\u001b[0m\u001b[0mself\u001b[0m\u001b[1;33m,\u001b[0m \u001b[1;33m/\u001b[0m\u001b[1;33m,\u001b[0m \u001b[1;33m*\u001b[0m\u001b[0margs\u001b[0m\u001b[1;33m,\u001b[0m \u001b[1;33m**\u001b[0m\u001b[0mkwargs\u001b[0m\u001b[1;33m)\u001b[0m\u001b[1;33m\u001b[0m\u001b[1;33m\u001b[0m\u001b[0m\n",
      "\u001b[1;31mDocstring:\u001b[0m     \n",
      "range(stop) -> range object\n",
      "range(start, stop[, step]) -> range object\n",
      "\n",
      "Return an object that produces a sequence of integers from start (inclusive)\n",
      "to stop (exclusive) by step.  range(i, j) produces i, i+1, i+2, ..., j-1.\n",
      "start defaults to 0, and stop is omitted!  range(4) produces 0, 1, 2, 3.\n",
      "These are exactly the valid indices for a list of 4 elements.\n",
      "When step is given, it specifies the increment (or decrement).\n",
      "\u001b[1;31mType:\u001b[0m           type\n",
      "\u001b[1;31mSubclasses:\u001b[0m     \n"
     ]
    }
   ],
   "source": [
    "# range\n",
    "range?"
   ]
  },
  {
   "cell_type": "code",
   "execution_count": 112,
   "metadata": {},
   "outputs": [
    {
     "name": "stdout",
     "output_type": "stream",
     "text": [
      "range(0, 10)\n",
      "<class 'range'>\n"
     ]
    }
   ],
   "source": [
    "print(range(10))\n",
    "print(type(range(10)))"
   ]
  },
  {
   "cell_type": "code",
   "execution_count": 113,
   "metadata": {},
   "outputs": [
    {
     "name": "stdout",
     "output_type": "stream",
     "text": [
      "range(0, 10000000)\n",
      "2000000\n"
     ]
    }
   ],
   "source": [
    "print(range(1000_0000))     # 천만개 데이터 자체 x - 그 범위, 설계도\n",
    "                            # 작은 메모리만 소비\n",
    "print(1_000_000 * 2)"
   ]
  },
  {
   "cell_type": "code",
   "execution_count": 114,
   "metadata": {},
   "outputs": [
    {
     "data": {
      "text/plain": [
       "[0, 1, 2, 3, 4, 5, 6, 7, 8, 9]"
      ]
     },
     "execution_count": 114,
     "metadata": {},
     "output_type": "execute_result"
    }
   ],
   "source": [
    "# lazy evaluation <-> eager evaluation\n",
    "# - lazy evaluation : 중간과정 평가 x, 최종적으로만\n",
    "\n",
    "r = range(10) \n",
    "list(r)         # 객체화"
   ]
  },
  {
   "cell_type": "code",
   "execution_count": 115,
   "metadata": {},
   "outputs": [
    {
     "name": "stdout",
     "output_type": "stream",
     "text": [
      "0\n",
      "1\n",
      "2\n",
      "3\n",
      "4\n",
      "5\n",
      "6\n"
     ]
    }
   ],
   "source": [
    "for i in range(7):\n",
    "    print(i)"
   ]
  },
  {
   "cell_type": "code",
   "execution_count": 116,
   "metadata": {},
   "outputs": [
    {
     "name": "stdout",
     "output_type": "stream",
     "text": [
      "5\n",
      "6\n",
      "7\n",
      "8\n",
      "9\n",
      "\n",
      "5\n",
      "6\n",
      "7\n",
      "8\n",
      "9\n"
     ]
    }
   ],
   "source": [
    "for i in range(5, 10):\n",
    "    print(i)\n",
    "\n",
    "print()\n",
    "\n",
    "for i in range(5, 9+1):\n",
    "    print(i)"
   ]
  },
  {
   "cell_type": "code",
   "execution_count": 117,
   "metadata": {},
   "outputs": [
    {
     "name": "stdout",
     "output_type": "stream",
     "text": [
      "10\n",
      "9\n",
      "8\n",
      "7\n",
      "6\n"
     ]
    }
   ],
   "source": [
    "for i in range(10, 6-1, -1):\n",
    "    print(i)"
   ]
  },
  {
   "cell_type": "code",
   "execution_count": 118,
   "metadata": {},
   "outputs": [],
   "source": [
    "for i in range(5, 9+1, -1):\n",
    "    print(i)"
   ]
  },
  {
   "cell_type": "code",
   "execution_count": 119,
   "metadata": {},
   "outputs": [
    {
     "data": {
      "text/plain": [
       "[]"
      ]
     },
     "execution_count": 119,
     "metadata": {},
     "output_type": "execute_result"
    }
   ],
   "source": [
    "list(range(5, 10, -1))"
   ]
  },
  {
   "cell_type": "code",
   "execution_count": 120,
   "metadata": {},
   "outputs": [
    {
     "name": "stdout",
     "output_type": "stream",
     "text": [
      "6\n"
     ]
    }
   ],
   "source": [
    "# for 문에 사용된 변수 (위에서는 i)는\n",
    "# 반복문이 끝난 이후에서 접근 가능하다.\n",
    "print(i)"
   ]
  },
  {
   "cell_type": "code",
   "execution_count": 121,
   "metadata": {},
   "outputs": [
    {
     "name": "stdout",
     "output_type": "stream",
     "text": [
      "1\n",
      "2\n",
      "3\n",
      "4\n",
      "5\n",
      "안녕\n",
      "하세요\n"
     ]
    }
   ],
   "source": [
    "a_list = [1, 2, 3, 4, 5, '안녕', '하세요']\n",
    "\n",
    "for i in a_list:\n",
    "    print(i)"
   ]
  },
  {
   "cell_type": "code",
   "execution_count": 122,
   "metadata": {},
   "outputs": [
    {
     "name": "stdout",
     "output_type": "stream",
     "text": [
      "h\n",
      "e\n",
      "l\n",
      "l\n",
      "o\n",
      " \n",
      "p\n",
      "y\n",
      "t\n",
      "h\n",
      "o\n",
      "n\n"
     ]
    }
   ],
   "source": [
    "a_str = \"hello python\"\n",
    "\n",
    "for i in a_str:\n",
    "    print(i)"
   ]
  },
  {
   "cell_type": "code",
   "execution_count": 123,
   "metadata": {},
   "outputs": [
    {
     "data": {
      "text/plain": [
       "<method-wrapper '__iter__' of str object at 0x000001CDF3E86730>"
      ]
     },
     "execution_count": 123,
     "metadata": {},
     "output_type": "execute_result"
    }
   ],
   "source": [
    "# 문자열의 이터레이터 \n",
    "a_str.__iter__"
   ]
  },
  {
   "cell_type": "code",
   "execution_count": 124,
   "metadata": {},
   "outputs": [
    {
     "data": {
      "text/plain": [
       "<method-wrapper '__iter__' of list object at 0x000001CDF3E755C0>"
      ]
     },
     "execution_count": 124,
     "metadata": {},
     "output_type": "execute_result"
    }
   ],
   "source": [
    "# 리스트의 이터레이터\n",
    "a_list.__iter__"
   ]
  },
  {
   "cell_type": "code",
   "execution_count": 125,
   "metadata": {},
   "outputs": [
    {
     "name": "stdout",
     "output_type": "stream",
     "text": [
      "index= 0  이름= 홍길동\n",
      "index= 1  이름= 장다인\n",
      "index= 2  이름= 김철수\n"
     ]
    }
   ],
   "source": [
    "name_list = [\"홍길동\", \"장다인\", \"김철수\"]\n",
    "\n",
    "for index, name in enumerate(name_list):    # unpacking\n",
    "    print(\"index=\", index, end='  ')\n",
    "    print(\"이름=\", name)"
   ]
  },
  {
   "cell_type": "code",
   "execution_count": 126,
   "metadata": {},
   "outputs": [
    {
     "name": "stdout",
     "output_type": "stream",
     "text": [
      "index= 0  이름= 홍길동\n",
      "index= 1  이름= 장다인\n",
      "index= 2  이름= 김철수\n"
     ]
    }
   ],
   "source": [
    "name_list = [\"홍길동\", \"장다인\", \"김철수\"]\n",
    "\n",
    "for item in enumerate(name_list):     # packing\n",
    "    # print(f'item={item}')\n",
    "    print(\"index=\", item[0], end='  ')\n",
    "    print(\"이름=\", item[1])"
   ]
  },
  {
   "cell_type": "code",
   "execution_count": 127,
   "metadata": {},
   "outputs": [
    {
     "name": "stdout",
     "output_type": "stream",
     "text": [
      "홍길동  500\n",
      "장다인  5\n",
      "김철수  12\n",
      "홍길동  500\n",
      "장다인  5\n",
      "김철수  12\n"
     ]
    }
   ],
   "source": [
    "name_list = [\"홍길동\", \"장다인\", \"김철수\"]\n",
    "age_list = [500, 5, 12]\n",
    "\n",
    "for i, k in enumerate(name_list):\n",
    "    print(k, end='  ')\n",
    "    print(age_list[i])\n",
    "\n",
    "# 넘겨 받는 값이 전혀 사용되지 않는다면\n",
    "# _(밑줄)을 이용하여 그 의도를 명시적으로 나타내는게 좋은 습관입니다.\n",
    "for i, _ in enumerate(name_list):\n",
    "    print(name_list[i], end='  ')\n",
    "    print(age_list[i])"
   ]
  },
  {
   "cell_type": "code",
   "execution_count": 128,
   "metadata": {},
   "outputs": [
    {
     "name": "stdout",
     "output_type": "stream",
     "text": [
      "홍길동  500\n",
      "장다인  5\n",
      "김철수  12\n"
     ]
    }
   ],
   "source": [
    "name_list = [\"홍길동\", \"장다인\", \"김철수\"]\n",
    "age_list = [500, 5, 12]\n",
    "\n",
    "for i in range(len(name_list)):\n",
    "    print(name_list[i], end='  ')\n",
    "    print(age_list[i])"
   ]
  },
  {
   "cell_type": "code",
   "execution_count": 129,
   "metadata": {},
   "outputs": [
    {
     "name": "stdout",
     "output_type": "stream",
     "text": [
      "[('홍길동', 500), ('장다인', 5), ('김철수', 12)]\n",
      "\n",
      "홍길동  500\n",
      "장다인  5\n",
      "김철수  12\n",
      "\n",
      "[('홍길동', 500, 200, 77), ('장다인', 5, 10, 66)]\n"
     ]
    }
   ],
   "source": [
    "# zip() 내장 함수\n",
    "name_list = [\"홍길동\", \"장다인\", \"김철수\"]\n",
    "age_list = [500, 5, 12]\n",
    "\n",
    "print(list(zip(name_list, age_list)))\n",
    "print()\n",
    "\n",
    "for name, age in zip(name_list, age_list):\n",
    "    print(name, end='  ')\n",
    "    print(age)\n",
    "    \n",
    "# 좀 더 zip()\n",
    "print()\n",
    "salaries = (200, 10)\n",
    "scores = [77, 66, 38, 89]\n",
    "print(list(zip(name_list, age_list, salaries, scores)))"
   ]
  },
  {
   "cell_type": "code",
   "execution_count": 130,
   "metadata": {},
   "outputs": [],
   "source": [
    "# 리스트 내포(List Comprehension)\n",
    "# - for 문을 이용하여 리스트 생성하는 방법 \n",
    "# - cf.) 사전 내포(Dictionary Comprehension)\n",
    "# - 반복문 내에서 리스트에 원소를 추가하는 방법보다 훨~씬 빠름"
   ]
  },
  {
   "cell_type": "code",
   "execution_count": 131,
   "metadata": {},
   "outputs": [
    {
     "name": "stdout",
     "output_type": "stream",
     "text": [
      "[8, 23, -2, 7, 11, 8, 23, -2, 7, 11]\n",
      "[16, 46, -4, 14, 22]\n"
     ]
    }
   ],
   "source": [
    "# 문제: 다음 리스트의 각 원소를 2배한 결과를 리스트로 만드세요.\n",
    "values = [8, 23, -2, 7, 11]\n",
    "\n",
    "print(values * 2)   # data + data\n",
    "\n",
    "result = []    # 1) 빈 리스트 준비\n",
    "\n",
    "for value in values:   # 2) 반복문에서\n",
    "    result.append(2 * value)    # 3) 준비한 리스트에 결과 append\n",
    "    \n",
    "print(result)"
   ]
  },
  {
   "cell_type": "code",
   "execution_count": 132,
   "metadata": {},
   "outputs": [
    {
     "name": "stdout",
     "output_type": "stream",
     "text": [
      "['홍길동', '장다인', '김철수', 500, 5, 12]\n",
      "(1, 2, 3, 10, 11, 12)\n",
      "hello월드\n"
     ]
    }
   ],
   "source": [
    "# 리스트 덧셈\n",
    "print(name_list + age_list)\n",
    "# 튜플 덧셈\n",
    "print((1, 2, 3) + (10, 11, 12))\n",
    "# 문자열 덧셈\n",
    "print('hello' + '월드')"
   ]
  },
  {
   "cell_type": "code",
   "execution_count": 133,
   "metadata": {},
   "outputs": [
    {
     "ename": "TypeError",
     "evalue": "'str' object does not support item assignment",
     "output_type": "error",
     "traceback": [
      "\u001b[1;31m---------------------------------------------------------------------------\u001b[0m",
      "\u001b[1;31mTypeError\u001b[0m                                 Traceback (most recent call last)",
      "\u001b[1;32m~\\AppData\\Local\\Temp/ipykernel_9244/200288206.py\u001b[0m in \u001b[0;36m<module>\u001b[1;34m\u001b[0m\n\u001b[0;32m      1\u001b[0m \u001b[1;31m# 문자열은 immutable sequence\u001b[0m\u001b[1;33m\u001b[0m\u001b[1;33m\u001b[0m\u001b[0m\n\u001b[0;32m      2\u001b[0m \u001b[0mhi\u001b[0m \u001b[1;33m=\u001b[0m \u001b[1;34m'hallo'\u001b[0m\u001b[1;33m\u001b[0m\u001b[1;33m\u001b[0m\u001b[0m\n\u001b[1;32m----> 3\u001b[1;33m \u001b[0mhi\u001b[0m\u001b[1;33m[\u001b[0m\u001b[1;36m1\u001b[0m\u001b[1;33m]\u001b[0m \u001b[1;33m=\u001b[0m \u001b[1;34m'e'\u001b[0m\u001b[1;33m\u001b[0m\u001b[1;33m\u001b[0m\u001b[0m\n\u001b[0m",
      "\u001b[1;31mTypeError\u001b[0m: 'str' object does not support item assignment"
     ]
    }
   ],
   "source": [
    "# 문자열은 immutable sequence\n",
    "hi = 'hallo'\n",
    "hi[1] = 'e'"
   ]
  },
  {
   "cell_type": "code",
   "execution_count": 134,
   "metadata": {},
   "outputs": [
    {
     "name": "stdout",
     "output_type": "stream",
     "text": [
      "[16, 46, -4, 14, 22]\n"
     ]
    }
   ],
   "source": [
    "# 위 문제를 리스트 내포를 사용하면 한 줄로 끝\n",
    "# 속도도 엄청 빠름\n",
    "values = [8, 23, -2, 7, 11]\n",
    "\n",
    "result = [2 * value for value in values]\n",
    "print(result)"
   ]
  },
  {
   "cell_type": "code",
   "execution_count": 135,
   "metadata": {},
   "outputs": [
    {
     "name": "stdout",
     "output_type": "stream",
     "text": [
      "(8, -2)\n"
     ]
    }
   ],
   "source": [
    "# 문제: 다음 데이터에서 짝수만 골라서 튜플로 만드세요.\n",
    "values = [8, 23, -2, 7, 11]\n",
    "\n",
    "# for 문 사용해서 풀어보세요\n",
    "result = list()\n",
    "for value in values:\n",
    "    if value % 2 == 0:\n",
    "        result.append(value)\n",
    "\n",
    "result = tuple(result)\n",
    "print(result)"
   ]
  },
  {
   "cell_type": "code",
   "execution_count": 136,
   "metadata": {},
   "outputs": [
    {
     "name": "stdout",
     "output_type": "stream",
     "text": [
      "(8, -2)\n"
     ]
    }
   ],
   "source": [
    "# if 구문이 있는 리스트 내포\n",
    "values = [8, 23, -2, 7, 11]\n",
    "\n",
    "result = tuple([value for value in values if value % 2 == 0])\n",
    "print(result)"
   ]
  },
  {
   "cell_type": "code",
   "execution_count": 137,
   "metadata": {},
   "outputs": [
    {
     "name": "stdout",
     "output_type": "stream",
     "text": [
      "[16, 69, -4, 21, 33]\n"
     ]
    }
   ],
   "source": [
    "# 문제: 아래 데이터에서 짝수는 2배, 홀수는 3배하여 리스트로 만드세요\n",
    "values = [8, 23, -2, 7, 11]\n",
    "\n",
    "result = []\n",
    "for value in values:\n",
    "    if value % 2 == 0:\n",
    "        result.append(2 * value)\n",
    "    else:\n",
    "        result.append(3 * value)\n",
    "\n",
    "print(result)"
   ]
  },
  {
   "cell_type": "code",
   "execution_count": 138,
   "metadata": {},
   "outputs": [
    {
     "ename": "SyntaxError",
     "evalue": "invalid syntax (Temp/ipykernel_9244/3570765352.py, line 5)",
     "output_type": "error",
     "traceback": [
      "\u001b[1;36m  File \u001b[1;32m\"C:\\Users\\r2com\\AppData\\Local\\Temp/ipykernel_9244/3570765352.py\"\u001b[1;36m, line \u001b[1;32m5\u001b[0m\n\u001b[1;33m    result = [2 * value for value in values if value % 2 == 0 else 3 * value]\u001b[0m\n\u001b[1;37m                                                              ^\u001b[0m\n\u001b[1;31mSyntaxError\u001b[0m\u001b[1;31m:\u001b[0m invalid syntax\n"
     ]
    }
   ],
   "source": [
    "# 리스트 내포\n",
    "#  - else 구문은 지원하지 않음: 문법에러\n",
    "values = [8, 23, -2, 7, 11]\n",
    "\n",
    "result = [2 * value for value in values if value % 2 == 0 else 3 * value]"
   ]
  },
  {
   "cell_type": "code",
   "execution_count": 139,
   "metadata": {},
   "outputs": [
    {
     "name": "stdout",
     "output_type": "stream",
     "text": [
      "1234은/는 짝수입니다.\n"
     ]
    }
   ],
   "source": [
    "# 조건부 표현식 (삼항 연산자)\n",
    "# - 표현식1 if 조건식 else 표현식2\n",
    "\n",
    "data = int(input('정수를 입력하세요'))\n",
    "result = '짝수' if data % 2 == 0 else '홀수' \n",
    "print(f'{data}은/는 {result}입니다.')"
   ]
  },
  {
   "cell_type": "code",
   "execution_count": 140,
   "metadata": {},
   "outputs": [
    {
     "name": "stdout",
     "output_type": "stream",
     "text": [
      "[16, 69, -4, 21, 33]\n"
     ]
    }
   ],
   "source": [
    "# 리스트 내포 + 조건부 표현식\n",
    "# 앞선 문제 해결\n",
    "values = [8, 23, -2, 7, 11]\n",
    "\n",
    "result = [2 * value if value % 2 == 0 else 3 * value for value in values]\n",
    "print(result)"
   ]
  },
  {
   "cell_type": "code",
   "execution_count": 141,
   "metadata": {},
   "outputs": [
    {
     "name": "stdout",
     "output_type": "stream",
     "text": [
      "{'홍길동': 500, '장다인': 5, '김철수': 12}\n",
      "{'홍길동': 500, '장다인': 5, '김철수': 12}\n",
      "{'홍길동': 500, '장다인': 5, '김철수': 12}\n"
     ]
    }
   ],
   "source": [
    "# 사전 내포(Dictionary Comprehension)\n",
    "names = [\"홍길동\", \"장다인\", \"김철수\"]\n",
    "ages = [500, 5, 12]\n",
    "\n",
    "# 위 names, ages로부터 사람이름을 키, 나이를 값으로 하는 사전을 만드세요\n",
    "# {'홍길동': 500, '장다인': 5, '김철수': 12}\n",
    "\n",
    "# 1) 근면성실한 방법\n",
    "person = {}\n",
    "person[names[0]] = ages[0]\n",
    "person[names[1]] = ages[1]\n",
    "person[names[2]] = ages[2]\n",
    "print(person)\n",
    "\n",
    "# 2) for 문 사용\n",
    "person = {}\n",
    "for k, v in zip(names, ages):\n",
    "    person[k] = v\n",
    "    \n",
    "print(person)\n",
    "\n",
    "# 3) 사전 내포\n",
    "person = {k: v for k, v in zip(names, ages)}\n",
    "print(person)"
   ]
  },
  {
   "cell_type": "code",
   "execution_count": 142,
   "metadata": {},
   "outputs": [
    {
     "name": "stdout",
     "output_type": "stream",
     "text": [
      "[0, 1, 2, 3, 4, 5, 6, 7, 8, 9]\n",
      "[0, 1, 2, 3, 4, 5, 6, 7, 8, 9]\n"
     ]
    }
   ],
   "source": [
    "test_list = [i for i in range(10)]\n",
    "# test_list = list(range(10))와 동일\n",
    "\n",
    "print(test_list)\n",
    "\n",
    "\n",
    "test2_list = []\n",
    "for i in range(10):\n",
    "    test2_list.append(i)\n",
    "\n",
    "print(test2_list)"
   ]
  },
  {
   "cell_type": "code",
   "execution_count": 143,
   "metadata": {},
   "outputs": [
    {
     "name": "stdout",
     "output_type": "stream",
     "text": [
      "[0, 5, 10, 15, 20, 25, 30, 35, 40, 45]\n",
      "[0, 0, 0, 0, 0, 0, 0, 0, 0, 0]\n"
     ]
    }
   ],
   "source": [
    "test_list = [i * 5 for i in range(10)]\n",
    "\n",
    "print(test_list)\n",
    "\n",
    "# test2_list = [0 for i in range(10)]\n",
    "test2_list = [0 for _ in range(10)]\n",
    "\n",
    "print(test2_list)"
   ]
  },
  {
   "cell_type": "code",
   "execution_count": 144,
   "metadata": {},
   "outputs": [
    {
     "name": "stdout",
     "output_type": "stream",
     "text": [
      "0\n",
      "1\n",
      "2\n",
      "3\n",
      "4\n"
     ]
    }
   ],
   "source": [
    "# while 문을 사용할 때는 반복을 빠져나올 수 있도록\n",
    "# 코드 블록 내에서 비교식이 False가 되는 논리가 필요\n",
    "a = 0\n",
    "while a < 5:\n",
    "    print(a)\n",
    "    a = a + 1"
   ]
  },
  {
   "cell_type": "code",
   "execution_count": 145,
   "metadata": {},
   "outputs": [
    {
     "name": "stdout",
     "output_type": "stream",
     "text": [
      "11\n",
      "12\n",
      "24\n"
     ]
    }
   ],
   "source": [
    "# 복합대입연산자\n",
    "# - 이항연산자 + 대입연산자\n",
    "a = 10\n",
    "a = a + 1\n",
    "print(a)\n",
    "\n",
    "a += 1     # 복합대입연산자\n",
    "print(a)\n",
    "\n",
    "a *= 2    # a = a * 2\n",
    "print(a)"
   ]
  },
  {
   "cell_type": "code",
   "execution_count": 146,
   "metadata": {},
   "outputs": [
    {
     "name": "stdout",
     "output_type": "stream",
     "text": [
      "0\n",
      "1\n",
      "2\n",
      "3\n",
      "4\n"
     ]
    }
   ],
   "source": [
    "# 무한루프\n",
    "# - 반드시 루프를 빠져나오는 논리가 포함되어야 합니다.\n",
    "\n",
    "# break 문\n",
    "# - break 문을 직접 감싸는 코드 블록을 빠져나가게 함\n",
    "\n",
    "a = 0\n",
    "while True:\n",
    "    print(a)\n",
    "    a = a + 1\n",
    "    if a >= 5:\n",
    "        break"
   ]
  },
  {
   "cell_type": "code",
   "execution_count": 147,
   "metadata": {},
   "outputs": [
    {
     "name": "stdout",
     "output_type": "stream",
     "text": [
      "[0, 2, 4, 6, 8]\n",
      "[0, 2, 4, 6, 8]\n"
     ]
    }
   ],
   "source": [
    "# continue 문\n",
    "\n",
    "# 문제: 0부터 9까지 수 중에서 짝수만 리스트에 담아 출력하세요\n",
    "\n",
    "# 1) for\n",
    "result = []\n",
    "for value in range(9+1):\n",
    "    if value % 2 == 0:\n",
    "        result.append(value)\n",
    "        \n",
    "print(result)\n",
    "\n",
    "# 1) for + continue\n",
    "result = []\n",
    "for value in range(10):\n",
    "    if value % 2 == 1:\n",
    "        continue\n",
    "    result.append(value)\n",
    "    \n",
    "print(result)"
   ]
  }
 ],
 "metadata": {
  "interpreter": {
   "hash": "ad2bdc8ecc057115af97d19610ffacc2b4e99fae6737bb82f5d7fb13d2f2c186"
  },
  "kernelspec": {
   "display_name": "Python 3.9.7 ('base')",
   "language": "python",
   "name": "python3"
  },
  "language_info": {
   "codemirror_mode": {
    "name": "ipython",
    "version": 3
   },
   "file_extension": ".py",
   "mimetype": "text/x-python",
   "name": "python",
   "nbconvert_exporter": "python",
   "pygments_lexer": "ipython3",
   "version": "3.9.7"
  },
  "orig_nbformat": 4
 },
 "nbformat": 4,
 "nbformat_minor": 2
}
