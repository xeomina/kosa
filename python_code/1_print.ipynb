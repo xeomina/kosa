{
 "cells": [
  {
   "cell_type": "code",
   "execution_count": 12,
   "metadata": {},
   "outputs": [
    {
     "name": "stdout",
     "output_type": "stream",
     "text": [
      "hello\n"
     ]
    }
   ],
   "source": [
    "print(\"hello\")"
   ]
  },
  {
   "cell_type": "markdown",
   "metadata": {},
   "source": [
    "Escape Sequence: 백슬래시 + 문자\n",
    "- \\', \\\", \\t(tab), \\n(new line), \\\\ (백슬래시)"
   ]
  },
  {
   "cell_type": "code",
   "execution_count": 26,
   "metadata": {},
   "outputs": [
    {
     "name": "stdout",
     "output_type": "stream",
     "text": [
      "철수는 생각했다. '점심 \t\t뭐\\new 점심'\n"
     ]
    }
   ],
   "source": [
    "print('철수는 생각했다. \\'점심 \\t\\t뭐\\\\new 점심\\'')"
   ]
  },
  {
   "cell_type": "code",
   "execution_count": 27,
   "metadata": {},
   "outputs": [
    {
     "name": "stdout",
     "output_type": "stream",
     "text": [
      "86400\n",
      "86400\n"
     ]
    }
   ],
   "source": [
    "# comment(주석)은 #으로 표현\n",
    "# 주석은 파이썬 인터프리터가 무시합니다. \n",
    "# # 이후 줄 끝까지가 주석\n",
    "print(24 * 60 * 60)   # 하루는 몇 초?\n",
    "\n",
    "day_in_hour = 24\n",
    "hour_in_minute = 60\n",
    "minute_in_second = 60\n",
    "seconds_in_a_day = day_in_hour * hour_in_minute * minute_in_second\n",
    "print(seconds_in_a_day)"
   ]
  },
  {
   "cell_type": "code",
   "execution_count": 28,
   "metadata": {},
   "outputs": [
    {
     "name": "stdout",
     "output_type": "stream",
     "text": [
      "안녕 하세요 반갑습니다 여러분 100\n"
     ]
    }
   ],
   "source": [
    "print('안녕', '하세요', '반갑습니다', '여러분', 100)   # 문자 리터럴, 숫자 리터럴"
   ]
  },
  {
   "cell_type": "code",
   "execution_count": 31,
   "metadata": {},
   "outputs": [],
   "source": [
    "hi = '안녕'\n",
    "num = 100"
   ]
  },
  {
   "cell_type": "code",
   "execution_count": 32,
   "metadata": {},
   "outputs": [
    {
     "name": "stdout",
     "output_type": "stream",
     "text": [
      "안녕 하세요 반갑습니다 여러분 100\n"
     ]
    }
   ],
   "source": [
    "print(hi, '하세요', '반갑습니다', '여러분', num)"
   ]
  },
  {
   "cell_type": "code",
   "execution_count": 33,
   "metadata": {},
   "outputs": [
    {
     "name": "stdout",
     "output_type": "stream",
     "text": [
      "안녕 3 반갑습니다 여러분 100\n"
     ]
    }
   ],
   "source": [
    "print(hi, len('하세요'), '반갑습니다', '여러분', num)"
   ]
  },
  {
   "cell_type": "markdown",
   "metadata": {},
   "source": [
    "print 함수는 가변인자를 정의하고 있음"
   ]
  },
  {
   "cell_type": "code",
   "execution_count": 36,
   "metadata": {},
   "outputs": [
    {
     "name": "stdout",
     "output_type": "stream",
     "text": [
      "안녕-3-반갑습니다-여러분-100\n"
     ]
    }
   ],
   "source": [
    "print(hi, len('하세요'), '반갑습니다', '여러분', num, sep='-')"
   ]
  },
  {
   "cell_type": "code",
   "execution_count": 38,
   "metadata": {},
   "outputs": [
    {
     "name": "stdout",
     "output_type": "stream",
     "text": [
      "안녕-3-반갑습니다-여러분-100 : 안녕-3-반갑습니다-여러분-100\n"
     ]
    }
   ],
   "source": [
    "print(hi, len('하세요'), '반갑습니다', '여러분', num, sep='-', end=' : ')\n",
    "print(hi, len('하세요'), '반갑습니다', '여러분', num, sep='-')"
   ]
  },
  {
   "cell_type": "code",
   "execution_count": 39,
   "metadata": {},
   "outputs": [
    {
     "data": {
      "text/plain": [
       "'안녕, 반갑습니다.여러분'"
      ]
     },
     "execution_count": 39,
     "metadata": {},
     "output_type": "execute_result"
    }
   ],
   "source": [
    "hi + ', 반갑습니다.' + '여러분'"
   ]
  },
  {
   "cell_type": "code",
   "execution_count": 40,
   "metadata": {},
   "outputs": [
    {
     "ename": "TypeError",
     "evalue": "can only concatenate str (not \"int\") to str",
     "output_type": "error",
     "traceback": [
      "\u001b[1;31m---------------------------------------------------------------------------\u001b[0m",
      "\u001b[1;31mTypeError\u001b[0m                                 Traceback (most recent call last)",
      "\u001b[1;32m~\\AppData\\Local\\Temp/ipykernel_12568/1635978438.py\u001b[0m in \u001b[0;36m<module>\u001b[1;34m\u001b[0m\n\u001b[1;32m----> 1\u001b[1;33m \u001b[0mhi\u001b[0m \u001b[1;33m+\u001b[0m \u001b[1;36m100\u001b[0m\u001b[1;33m\u001b[0m\u001b[1;33m\u001b[0m\u001b[0m\n\u001b[0m",
      "\u001b[1;31mTypeError\u001b[0m: can only concatenate str (not \"int\") to str"
     ]
    }
   ],
   "source": [
    "hi + 100"
   ]
  },
  {
   "cell_type": "code",
   "execution_count": null,
   "metadata": {},
   "outputs": [],
   "source": [
    "파이썬은 강타입 언어입니다. (Strong Type Languague)\n",
    "  - 강타입 vs. 약타입"
   ]
  },
  {
   "cell_type": "code",
   "execution_count": 59,
   "metadata": {},
   "outputs": [
    {
     "name": "stdout",
     "output_type": "stream",
     "text": [
      "안녕하세요.\n",
      "오늘은 날씨가 좋네요\n"
     ]
    }
   ],
   "source": [
    "# multiline string\n",
    "text = '''안녕하세요.\n",
    "오늘은 날씨가 좋네요'''\n",
    "print(text)"
   ]
  },
  {
   "cell_type": "code",
   "execution_count": 61,
   "metadata": {},
   "outputs": [
    {
     "name": "stdout",
     "output_type": "stream",
     "text": [
      "안녕하세요.오늘은 날씨가 좋네요\n"
     ]
    }
   ],
   "source": [
    "text = '안녕하세요.'\\\n",
    "'오늘은 날씨가 좋네요'\n",
    "print(text)"
   ]
  },
  {
   "cell_type": "code",
   "execution_count": 62,
   "metadata": {},
   "outputs": [
    {
     "data": {
      "text/plain": [
       "'안녕하세요.오늘은 날씨가 좋네요'"
      ]
     },
     "execution_count": 62,
     "metadata": {},
     "output_type": "execute_result"
    }
   ],
   "source": [
    "text"
   ]
  },
  {
   "cell_type": "code",
   "execution_count": 64,
   "metadata": {},
   "outputs": [
    {
     "data": {
      "text/plain": [
       "'helloworld'"
      ]
     },
     "execution_count": 64,
     "metadata": {},
     "output_type": "execute_result"
    }
   ],
   "source": [
    "'hello''world'"
   ]
  },
  {
   "cell_type": "markdown",
   "metadata": {},
   "source": [
    "## 문자열 포매팅\n",
    "- 1) 문자열의 format 메서드 사용하는 방법\n",
    "- 2) f-string"
   ]
  },
  {
   "cell_type": "code",
   "execution_count": 65,
   "metadata": {},
   "outputs": [],
   "source": [
    "msg = '{}님께, 저희 결혼식에 초대합니다.'"
   ]
  },
  {
   "cell_type": "code",
   "execution_count": 66,
   "metadata": {},
   "outputs": [
    {
     "data": {
      "text/plain": [
       "'유지수님께, 저희 결혼식에 초대합니다.'"
      ]
     },
     "execution_count": 66,
     "metadata": {},
     "output_type": "execute_result"
    }
   ],
   "source": [
    "msg.format('유지수')"
   ]
  },
  {
   "cell_type": "code",
   "execution_count": 67,
   "metadata": {},
   "outputs": [
    {
     "data": {
      "text/plain": [
       "'고준성님께, 저희 결혼식에 초대합니다.'"
      ]
     },
     "execution_count": 67,
     "metadata": {},
     "output_type": "execute_result"
    }
   ],
   "source": [
    "msg.format('고준성')"
   ]
  },
  {
   "cell_type": "code",
   "execution_count": 68,
   "metadata": {},
   "outputs": [
    {
     "data": {
      "text/plain": [
       "'유지수 책임님께, 저희 결혼식에 초대합니다. 뻥이지롱!!'"
      ]
     },
     "execution_count": 68,
     "metadata": {},
     "output_type": "execute_result"
    }
   ],
   "source": [
    "'{}님께, 저희 결혼식에 초대합니다. {}'.format('유지수 책임', '뻥이지롱!!')"
   ]
  },
  {
   "cell_type": "markdown",
   "metadata": {},
   "source": [
    "### 문자열 포매팅의 인자 순서(위치)와 이름"
   ]
  },
  {
   "cell_type": "code",
   "execution_count": 69,
   "metadata": {},
   "outputs": [],
   "source": [
    "msg = '''{}님께, 저희 결혼식에 초대합니다.\n",
    "{}\n",
    "감사합니다. {}님'''"
   ]
  },
  {
   "cell_type": "code",
   "execution_count": 71,
   "metadata": {},
   "outputs": [
    {
     "name": "stdout",
     "output_type": "stream",
     "text": [
      "홍길동님께, 저희 결혼식에 초대합니다.\n",
      "뻥이지롱!!\n",
      "감사합니다. 홍길동님\n"
     ]
    }
   ],
   "source": [
    "print(msg.format('홍길동', '뻥이지롱!!', '홍길동'))"
   ]
  },
  {
   "cell_type": "code",
   "execution_count": 84,
   "metadata": {},
   "outputs": [],
   "source": [
    "# 순서 지정\n",
    "msg = '''{0}님께, 저희 결혼식에 초대합니다.\n",
    "{1}\n",
    "감사합니다. {0}님'''"
   ]
  },
  {
   "cell_type": "code",
   "execution_count": 85,
   "metadata": {},
   "outputs": [
    {
     "name": "stdout",
     "output_type": "stream",
     "text": [
      "홍길동님께, 저희 결혼식에 초대합니다.\n",
      "뻥 아닙니다.\n",
      "감사합니다. 홍길동님\n"
     ]
    }
   ],
   "source": [
    "print(msg.format('홍길동', '뻥 아닙니다.'))"
   ]
  },
  {
   "cell_type": "code",
   "execution_count": 91,
   "metadata": {},
   "outputs": [
    {
     "name": "stdout",
     "output_type": "stream",
     "text": [
      "                 홍길동님께, 저희 결혼식에 초대합니다.\n",
      "기체후 일향만강하시나이까\n",
      "감사합니다. 홍길동님\n"
     ]
    }
   ],
   "source": [
    "# 인자 이름 지정\n",
    "msg = '''{name:>20}님께, 저희 결혼식에 초대합니다.\n",
    "{greeting}\n",
    "감사합니다. {name}님'''\n",
    "print(msg.format(name='홍길동', greeting='기체후 일향만강하시나이까'))"
   ]
  },
  {
   "cell_type": "code",
   "execution_count": 88,
   "metadata": {},
   "outputs": [
    {
     "name": "stdout",
     "output_type": "stream",
     "text": [
      "홍길동님께, 저희 결혼식에 초대합니다.\n",
      "기체후 일향만강하시나이까\n",
      "감사합니다. 홍길동님\n"
     ]
    }
   ],
   "source": [
    "# 이름 순서는 무관\n",
    "msg = '''{name}님께, 저희 결혼식에 초대합니다.\n",
    "{greeting}\n",
    "감사합니다. {name}님'''\n",
    "print(msg.format(greeting='기체후 일향만강하시나이까', name='홍길동'))"
   ]
  },
  {
   "cell_type": "markdown",
   "metadata": {},
   "source": [
    "#### f-string (3.6)\n",
    "- format 메서드 사용 X\n",
    "- 문자열 앞에 f를 붙인다\n",
    "- 출력할 내용을 미리 변수에 바인딩해야 함"
   ]
  },
  {
   "cell_type": "code",
   "execution_count": 93,
   "metadata": {},
   "outputs": [],
   "source": [
    "name = '홍길동'\n",
    "greeting = '기체후 일향만강하십니까'"
   ]
  },
  {
   "cell_type": "code",
   "execution_count": 101,
   "metadata": {},
   "outputs": [
    {
     "name": "stdout",
     "output_type": "stream",
     "text": [
      "홍길동님께, 저희 결혼식에 초대합니다.\n",
      "기체후 일향만강하십니까\n",
      "감사합니다. 홍길동님\n"
     ]
    }
   ],
   "source": [
    "msg = f'''{name}님께, 저희 결혼식에 초대합니다.\n",
    "{greeting}\n",
    "감사합니다. {name}님'''\n",
    "print(msg)"
   ]
  },
  {
   "cell_type": "code",
   "execution_count": 100,
   "metadata": {},
   "outputs": [
    {
     "ename": "SyntaxError",
     "evalue": "cannot assign to literal (Temp/ipykernel_12568/2271513907.py, line 1)",
     "output_type": "error",
     "traceback": [
      "\u001b[1;36m  File \u001b[1;32m\"C:\\Users\\r2com\\AppData\\Local\\Temp/ipykernel_12568/2271513907.py\"\u001b[1;36m, line \u001b[1;32m1\u001b[0m\n\u001b[1;33m    0 = '홍길동'   # 객체 이름은 숫자로 시작할 수 없습니다.\u001b[0m\n\u001b[1;37m    ^\u001b[0m\n\u001b[1;31mSyntaxError\u001b[0m\u001b[1;31m:\u001b[0m cannot assign to literal\n"
     ]
    }
   ],
   "source": [
    "0 = '홍길동'   # 객체 이름은 숫자로 시작할 수 없습니다.\n",
    "1 = '기체후'"
   ]
  },
  {
   "cell_type": "code",
   "execution_count": 102,
   "metadata": {},
   "outputs": [
    {
     "name": "stdout",
     "output_type": "stream",
     "text": [
      "0님께, 저희 결혼식에 초대합니다.\n",
      "1\n",
      "감사합니다. 0님\n"
     ]
    }
   ],
   "source": [
    "\n",
    "msg = f'''{0}님께, 저희 결혼식에 초대합니다.\n",
    "{1}\n",
    "감사합니다. {0}님'''\n",
    "print(msg)"
   ]
  },
  {
   "cell_type": "code",
   "execution_count": null,
   "metadata": {},
   "outputs": [],
   "source": []
  }
 ],
 "metadata": {
  "interpreter": {
   "hash": "ad2bdc8ecc057115af97d19610ffacc2b4e99fae6737bb82f5d7fb13d2f2c186"
  },
  "kernelspec": {
   "display_name": "Python 3.9.7 ('base')",
   "language": "python",
   "name": "python3"
  },
  "language_info": {
   "codemirror_mode": {
    "name": "ipython",
    "version": 3
   },
   "file_extension": ".py",
   "mimetype": "text/x-python",
   "name": "python",
   "nbconvert_exporter": "python",
   "pygments_lexer": "ipython3",
   "version": "3.9.7"
  },
  "orig_nbformat": 4
 },
 "nbformat": 4,
 "nbformat_minor": 2
}
