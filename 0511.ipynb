{
 "cells": [
  {
   "cell_type": "markdown",
   "metadata": {},
   "source": [
    "# 파이썬의 기초 문법"
   ]
  },
  {
   "cell_type": "markdown",
   "metadata": {},
   "source": [
    "## 08. 오류 및 예외 처리"
   ]
  },
  {
   "cell_type": "code",
   "execution_count": null,
   "metadata": {},
   "outputs": [],
   "source": [
    "# Error & Exception\n",
    "# 예외(exception) : Run-Time Error\n",
    "\n",
    "# 예외 처리: Exception Handling\n",
    "# - try, except, finally"
   ]
  },
  {
   "cell_type": "code",
   "execution_count": null,
   "metadata": {},
   "outputs": [
    {
     "ename": "NameError",
     "evalue": "name 'dsjafkldsajl' is not defined",
     "output_type": "error",
     "traceback": [
      "\u001b[1;31m---------------------------------------------------------------------------\u001b[0m\n",
      "\u001b[1;31mNameError\u001b[0m                                 Traceback (most recent call last)\n",
      "\u001b[1;32m~\\AppData\\Local\\Temp/ipykernel_7948/4204239216.py\u001b[0m in \u001b[0;36m<module>\u001b[1;34m\u001b[0m\n",
      "\u001b[1;32m----> 1\u001b[1;33m \u001b[0mdsjafkldsajl\u001b[0m\u001b[1;33m\u001b[0m\u001b[1;33m\u001b[0m\u001b[0m\n",
      "\u001b[0m\n",
      "\u001b[1;31mNameError\u001b[0m: name 'dsjafkldsajl' is not defined"
     ]
    }
   ],
   "source": [
    "dsjafkldsajl"
   ]
  },
  {
   "cell_type": "code",
   "execution_count": null,
   "metadata": {},
   "outputs": [
    {
     "name": "stdout",
     "output_type": "stream",
     "text": [
      "예외 발생 전\n",
      "에러발생\n",
      "예외 처리 완료\n"
     ]
    }
   ],
   "source": [
    "try:\n",
    "    print('예외 발생 전')\n",
    "    dsjafkldsajl\n",
    "    print('예외 발생 후')\n",
    "except:\n",
    "    print(\"에러발생\")\n",
    "print('예외 처리 완료')"
   ]
  },
  {
   "cell_type": "code",
   "execution_count": null,
   "metadata": {},
   "outputs": [
    {
     "name": "stdout",
     "output_type": "stream",
     "text": [
      "에러를 무시\n"
     ]
    }
   ],
   "source": [
    "try:\n",
    "    dsjafkldsajl\n",
    "except:\n",
    "    pass\n",
    "\n",
    "print(\"에러를 무시\")"
   ]
  },
  {
   "cell_type": "code",
   "execution_count": null,
   "metadata": {},
   "outputs": [
    {
     "name": "stdout",
     "output_type": "stream",
     "text": [
      "에러발생 원인 name 'dsjafkldsajl' is not defined\n"
     ]
    }
   ],
   "source": [
    "try:\n",
    "    dsjafkldsajl\n",
    "except Exception as e:\n",
    "    print(\"에러발생 원인\",e)"
   ]
  },
  {
   "cell_type": "code",
   "execution_count": null,
   "metadata": {},
   "outputs": [
    {
     "name": "stdout",
     "output_type": "stream",
     "text": [
      "입력하신 숫자는 짝수입니다.\n",
      "입력하신 숫자는 홀수입니다.\n",
      "입력하신 숫자는 짝수입니다.\n"
     ]
    },
    {
     "ename": "ValueError",
     "evalue": "invalid literal for int() with base 10: '한글'",
     "output_type": "error",
     "traceback": [
      "\u001b[1;31m---------------------------------------------------------------------------\u001b[0m\n",
      "\u001b[1;31mValueError\u001b[0m                                Traceback (most recent call last)\n",
      "\u001b[1;32m~\\AppData\\Local\\Temp/ipykernel_7948/1305176974.py\u001b[0m in \u001b[0;36m<module>\u001b[1;34m\u001b[0m\n",
      "\u001b[0;32m      3\u001b[0m \u001b[1;33m\u001b[0m\u001b[0m\n",
      "\u001b[0;32m      4\u001b[0m \u001b[1;32mwhile\u001b[0m \u001b[1;32mTrue\u001b[0m\u001b[1;33m:\u001b[0m\u001b[1;33m\u001b[0m\u001b[1;33m\u001b[0m\u001b[0m\n",
      "\u001b[1;32m----> 5\u001b[1;33m     \u001b[0minteger\u001b[0m \u001b[1;33m=\u001b[0m \u001b[0mint\u001b[0m\u001b[1;33m(\u001b[0m\u001b[0minput\u001b[0m\u001b[1;33m(\u001b[0m\u001b[1;34m'숫자를 입력하세요: '\u001b[0m\u001b[1;33m)\u001b[0m\u001b[1;33m)\u001b[0m\u001b[1;33m\u001b[0m\u001b[1;33m\u001b[0m\u001b[0m\n",
      "\u001b[0m\u001b[0;32m      6\u001b[0m \u001b[1;33m\u001b[0m\u001b[0m\n",
      "\u001b[0;32m      7\u001b[0m     \u001b[1;32mif\u001b[0m \u001b[0minteger\u001b[0m \u001b[1;33m==\u001b[0m \u001b[1;36m999\u001b[0m\u001b[1;33m:\u001b[0m\u001b[1;33m\u001b[0m\u001b[1;33m\u001b[0m\u001b[0m\n",
      "\n",
      "\u001b[1;31mValueError\u001b[0m: invalid literal for int() with base 10: '한글'"
     ]
    }
   ],
   "source": [
    "# 문제 : 사용자로부터 숫자를 입력받아서 홀수인지 짝수인지 화면에 출력하세요.\n",
    "#        999가 입력되지 않으면 계속해서 숫자 입력을 요구합니다.\n",
    "\n",
    "while True:\n",
    "    integer = int(input('숫자를 입력하세요: '))\n",
    "\n",
    "    if integer == 999:\n",
    "        print('프로그램을 종료합니다.')\n",
    "        break\n",
    "\n",
    "    print(f\"입력하신 숫자는 {'짝수' if integer % 2 == 0 else '홀수'}입니다.\")\n",
    "\n",
    "print('-' * 30)\n",
    "print('프로그램이 안전하게 종료되었습니다.')"
   ]
  },
  {
   "cell_type": "code",
   "execution_count": null,
   "metadata": {},
   "outputs": [
    {
     "name": "stdout",
     "output_type": "stream",
     "text": [
      "입력하신 숫자는 짝수입니다.\n",
      "입력하신 숫자는 홀수입니다.\n",
      "*** 숫자가 아닙니다. 숫자를 다시 입력해주세요***\n",
      "입력하신 숫자는 홀수입니다.\n",
      "프로그램을 종료합니다.\n",
      "------------------------------\n",
      "프로그램이 안전하게 종료되었습니다.\n"
     ]
    }
   ],
   "source": [
    "# 위 코드는 예외처리를 하지 않아 숫자가 아닌 값이 입력되면 ValueError 발생\n",
    "# - 프로그램이 중단\n",
    "\n",
    "# 예외처리 추가\n",
    "while True:\n",
    "    try:\n",
    "        integer = int(input('숫자를 입력하세요: '))\n",
    "\n",
    "        if integer == 999:\n",
    "            print('프로그램을 종료합니다.')\n",
    "            break\n",
    "\n",
    "        print(f\"입력하신 숫자는 {'짝수' if integer % 2 == 0 else '홀수'}입니다.\")\n",
    "        \n",
    "    except:\n",
    "        print('*** 숫자가 아닙니다. 숫자를 다시 입력해주세요***')\n",
    "\n",
    "print('-' * 30)\n",
    "print('프로그램이 안전하게 종료되었습니다.')"
   ]
  },
  {
   "cell_type": "markdown",
   "metadata": {},
   "source": [
    "## 09. 함수"
   ]
  },
  {
   "cell_type": "code",
   "execution_count": null,
   "metadata": {},
   "outputs": [],
   "source": [
    "# 함수(function)란?\n",
    "# - 코드 블록에 이름 붙인 것 \n",
    "# - 블랙박스(B/B) : 함수\n",
    "# - 기능\n",
    "# - 값\n",
    "\n",
    "# 서브루틴, 서브프로그램 -> 함수(반환값), 프로시저\n",
    "\n",
    "# 이름을 붙인다는 것의 의미?\n",
    "# - 재사용(reuse)\n",
    "\n",
    "# 변수\n",
    "# - 메모리 주소에 이름 붙인 것"
   ]
  },
  {
   "cell_type": "code",
   "execution_count": null,
   "metadata": {},
   "outputs": [],
   "source": [
    "# 파이썬 함수의 특징\n",
    "# - 1st-class citizen (1급 시민), 1st-class object (1급 객체)\n",
    "#   cf.) 1급 객체 : 1) 변수에 저장되고 2) 함수의 인자로 사용되고 3) 함수로부터 반환 가능한 객체 \n",
    "# - 파라미터에 대해 데이터 타입을 지정하지 않아도 됨\n",
    "# - 반환값의 데이터 타입을 지정하지 않음"
   ]
  },
  {
   "cell_type": "code",
   "execution_count": null,
   "metadata": {},
   "outputs": [
    {
     "name": "stdout",
     "output_type": "stream",
     "text": [
      "안녕하세요\n",
      "파이썬과 40개의 작품들 입니다.\n",
      "None\n"
     ]
    }
   ],
   "source": [
    "def func():\n",
    "    print(\"안녕하세요\")\n",
    "    print(\"파이썬과 40개의 작품들 입니다.\")\n",
    "    \n",
    "print(func())"
   ]
  },
  {
   "cell_type": "code",
   "execution_count": null,
   "metadata": {},
   "outputs": [
    {
     "name": "stdout",
     "output_type": "stream",
     "text": [
      "안녕하세요\n",
      "파이썬과 40개의 작품들 입니다.\n",
      "안녕하세요\n",
      "파이썬과 40개의 작품들 입니다.\n",
      "안녕하세요\n",
      "파이썬과 40개의 작품들 입니다.\n"
     ]
    }
   ],
   "source": [
    "def func():\n",
    "    print(\"안녕하세요\")\n",
    "    print(\"파이썬과 40개의 작품들 입니다.\")\n",
    "\n",
    "# for i in range(3):\n",
    "for _ in range(3):\n",
    "    func()"
   ]
  },
  {
   "cell_type": "code",
   "execution_count": null,
   "metadata": {},
   "outputs": [
    {
     "name": "stdout",
     "output_type": "stream",
     "text": [
      "3\n",
      "3\n",
      "103\n"
     ]
    }
   ],
   "source": [
    "# 파라미터는 함수의 지역 변수(로컬 변수)\n",
    "# 로컬 변수 : 코드 블록 내에서 선언(생성)되고 코드 블록이 종료되면 사라짐\n",
    "# cf.) 글로벌 변수\n",
    "# 변수는 스코프(scope) : 변수의 생애주기\n",
    "\n",
    "def funcAdd(a, b):\n",
    "    return a + b\n",
    "\n",
    "c = funcAdd(1, 2)\n",
    "print(c)\n",
    "\n",
    "a = 1\n",
    "c = funcAdd(a, 2)\n",
    "print(c)\n",
    "\n",
    "def funcAdd(a, b):\n",
    "    return a + b + g    # 로컬 변수 a가 글로벌 변수 a를 가림(shadowing)\n",
    "\n",
    "a = 1       # 글로벌 변수\n",
    "g = 100     # 글로벌 변수\n",
    "c = funcAdd(2, a)   # 글로벌 변수\n",
    "print(c)"
   ]
  },
  {
   "cell_type": "code",
   "execution_count": null,
   "metadata": {},
   "outputs": [],
   "source": [
    "# snake_case, PascalCase, camelCase\n",
    "# 뱀체, 파스칼체, 낙타체\n",
    "# - 식별자(identifier, 이름) 명명 기법\n",
    "\n",
    "# 파이썬 식별자\n",
    "# - 변수, 함수, 메서드 : snake_case\n",
    "# - 클래스 : PascalCase\n",
    "# - 상수 : SNAKE_CASE (대문자)\n",
    "\n",
    "# 변수, 클래스 : 명사 위주\n",
    "# 함수, 메서드 : 동사"
   ]
  },
  {
   "cell_type": "code",
   "execution_count": null,
   "metadata": {},
   "outputs": [
    {
     "name": "stdout",
     "output_type": "stream",
     "text": [
      "6\n",
      "------------------------------\n",
      "<function funcMux at 0x000002D13BF024C0>\n",
      "6\n"
     ]
    }
   ],
   "source": [
    "def funcMux(a,b):\n",
    "    mux = a * b\n",
    "    return mux\n",
    "\n",
    "c = funcMux(2,3)    #()는 호출자\n",
    "print(c)\n",
    "\n",
    "print('-' * 30)\n",
    "print(funcMux)\n",
    "print(funcMux(2,3))\n"
   ]
  },
  {
   "cell_type": "code",
   "execution_count": null,
   "metadata": {},
   "outputs": [
    {
     "name": "stdout",
     "output_type": "stream",
     "text": [
      "4 3\n",
      "(30, 200)\n"
     ]
    }
   ],
   "source": [
    "def funcAddMux(a,b):\n",
    "    add = a + b\n",
    "    mux = a * b\n",
    "    return add,mux\n",
    "\n",
    "a,b = funcAddMux(1,3)\n",
    "\n",
    "print(a,b)\n",
    "print(funcAddMux(10, 20))"
   ]
  },
  {
   "cell_type": "code",
   "execution_count": null,
   "metadata": {},
   "outputs": [
    {
     "name": "stdout",
     "output_type": "stream",
     "text": [
      "3\n"
     ]
    }
   ],
   "source": [
    "def funcAddMux(a,b):\n",
    "    add = a + b\n",
    "    mux = a * b\n",
    "    return add,mux\n",
    "\n",
    "_,b = funcAddMux(1,3)\n",
    "\n",
    "print(b)"
   ]
  },
  {
   "cell_type": "code",
   "execution_count": null,
   "metadata": {},
   "outputs": [],
   "source": [
    "# 인자/인수(Arguments)\n",
    "# - 1) 위치 인자 (positional args.) : 순서 중요\n",
    "# - 2) 키워드 인자 (keyword args.) : 순서 무관\n",
    "# - default 값 -> Default Parameter"
   ]
  },
  {
   "cell_type": "code",
   "execution_count": null,
   "metadata": {},
   "outputs": [
    {
     "name": "stdout",
     "output_type": "stream",
     "text": [
      "[p1, p2, p,3, p4] = [1, 2, 3, 4]\n",
      "[p1, p2, p,3, p4] = [1, 3, 4, 2]\n",
      "[p1, p2, p,3, p4] = [100, 200, 300, 400]\n",
      "[p1, p2, p,3, p4] = [100, 200, 300, 400]\n"
     ]
    }
   ],
   "source": [
    "def my_func(p1, p2, p3, p4):\n",
    "    print(f'[p1, p2, p,3, p4] = [{p1}, {p2}, {p3}, {p4}]')\n",
    "\n",
    "my_func(1, 2, 3, 4)    # 위치 인자로 입력\n",
    "my_func(1, 3, 4, 2)    # 위와 결과 다름\n",
    "my_func(p1 = 100, p2 = 200, p3 = 300, p4 = 400)   # 키워드 인자 입력\n",
    "my_func(p1 = 100, p3 = 300, p2 = 200, p4 = 400)   # 위와 결과 동일"
   ]
  },
  {
   "cell_type": "code",
   "execution_count": null,
   "metadata": {},
   "outputs": [
    {
     "name": "stdout",
     "output_type": "stream",
     "text": [
      "[p1, p2, p,3, p4] = [1, 2, 3, 4]\n"
     ]
    }
   ],
   "source": [
    "# 위치 인자 방식과 키워드 인자 방식의 혼용\n",
    "# : 위치 인자를 먼저 기술하고 키워드 인자는 나중에\n",
    "\n",
    "def my_func(p1, p2, p3, p4):\n",
    "    print(f'[p1, p2, p,3, p4] = [{p1}, {p2}, {p3}, {p4}]')\n",
    "\n",
    "my_func(1, 2, p4 = 4, p3 = 3)"
   ]
  },
  {
   "cell_type": "code",
   "execution_count": null,
   "metadata": {},
   "outputs": [
    {
     "ename": "TypeError",
     "evalue": "my_func() got multiple values for argument 'p1'",
     "output_type": "error",
     "traceback": [
      "\u001b[1;31m---------------------------------------------------------------------------\u001b[0m\n",
      "\u001b[1;31mTypeError\u001b[0m                                 Traceback (most recent call last)\n",
      "\u001b[1;32m~\\AppData\\Local\\Temp/ipykernel_13652/2836796783.py\u001b[0m in \u001b[0;36m<module>\u001b[1;34m\u001b[0m\n",
      "\u001b[1;32m----> 1\u001b[1;33m \u001b[0mmy_func\u001b[0m\u001b[1;33m(\u001b[0m\u001b[1;36m1\u001b[0m\u001b[1;33m,\u001b[0m \u001b[1;36m2\u001b[0m\u001b[1;33m,\u001b[0m \u001b[0mp1\u001b[0m \u001b[1;33m=\u001b[0m \u001b[1;36m100\u001b[0m\u001b[1;33m,\u001b[0m \u001b[0mp4\u001b[0m \u001b[1;33m=\u001b[0m \u001b[1;36m4\u001b[0m\u001b[1;33m,\u001b[0m \u001b[0mp3\u001b[0m \u001b[1;33m=\u001b[0m \u001b[1;36m3\u001b[0m\u001b[1;33m)\u001b[0m   \u001b[1;31m# multiple error\u001b[0m\u001b[1;33m\u001b[0m\u001b[1;33m\u001b[0m\u001b[0m\n",
      "\u001b[0m\n",
      "\u001b[1;31mTypeError\u001b[0m: my_func() got multiple values for argument 'p1'"
     ]
    }
   ],
   "source": [
    "my_func(1, 2, p1 = 100, p4 = 4, p3 = 3)   # multiple error"
   ]
  },
  {
   "cell_type": "code",
   "execution_count": null,
   "metadata": {},
   "outputs": [
    {
     "ename": "SyntaxError",
     "evalue": "positional argument follows keyword argument (Temp/ipykernel_13652/324105174.py, line 1)",
     "output_type": "error",
     "traceback": [
      "\u001b[1;36m  File \u001b[1;32m\"C:\\Users\\r2com\\AppData\\Local\\Temp/ipykernel_13652/324105174.py\"\u001b[1;36m, line \u001b[1;32m1\u001b[0m\n",
      "\u001b[1;33m    my_func(1, p4 = 4, 2, p3 = 3)   # positional error\u001b[0m\n",
      "\u001b[1;37m                                ^\u001b[0m\n",
      "\u001b[1;31mSyntaxError\u001b[0m\u001b[1;31m:\u001b[0m positional argument follows keyword argument\n"
     ]
    }
   ],
   "source": [
    "my_func(1, p4 = 4, 2, p3 = 3)   # positional error"
   ]
  },
  {
   "cell_type": "code",
   "execution_count": null,
   "metadata": {},
   "outputs": [
    {
     "name": "stdout",
     "output_type": "stream",
     "text": [
      "[p1, p2, p,3, p4] = [2, 1, 3, 10]\n",
      "[p1, p2, p,3, p4] = [2, hello, 100, 10]\n"
     ]
    }
   ],
   "source": [
    "# Default Parameter\n",
    "#  - 함수 호출 시 해당 파라미터 생략 가능\n",
    "#  - Default Parameter가 아닌 파라미터는 반드시 값이 주어져야 한다.\n",
    "#  - 함수 호출 시 인자를 생략하면 디폴트 값이 주어짐\n",
    "#  - 키워드 인자로 사용될 때 특히 유용\n",
    "\n",
    "def my_func(p1, p2, p3, p4 = 10):\n",
    "    print(f'[p1, p2, p,3, p4] = [{p1}, {p2}, {p3}, {p4}]')\n",
    "\n",
    "my_func(2, 1, 3)\n",
    "my_func(p3 = 100, p1 = 2, p2 = 'hello')"
   ]
  },
  {
   "cell_type": "code",
   "execution_count": null,
   "metadata": {},
   "outputs": [
    {
     "ename": "SyntaxError",
     "evalue": "non-default argument follows default argument (Temp/ipykernel_13652/1993692769.py, line 3)",
     "output_type": "error",
     "traceback": [
      "\u001b[1;36m  File \u001b[1;32m\"C:\\Users\\r2com\\AppData\\Local\\Temp/ipykernel_13652/1993692769.py\"\u001b[1;36m, line \u001b[1;32m3\u001b[0m\n",
      "\u001b[1;33m    def my_func(p1='abc', p2, p3=0, p4=10):\u001b[0m\n",
      "\u001b[1;37m                              ^\u001b[0m\n",
      "\u001b[1;31mSyntaxError\u001b[0m\u001b[1;31m:\u001b[0m non-default argument follows default argument\n"
     ]
    }
   ],
   "source": [
    "# Default Parameter는 후반부에 기술\n",
    "#  - 필수 파라미터를 먼저 기술하고 디폴트는 나중에 기술\n",
    "def my_func(p1='abc', p2, p3=0, p4=10):\n",
    "    print(f'[p1, p2, p3, p4] = [{p1}, {p2}, {p3}, {p4}]')"
   ]
  },
  {
   "cell_type": "code",
   "execution_count": null,
   "metadata": {},
   "outputs": [
    {
     "name": "stdout",
     "output_type": "stream",
     "text": [
      "30\n"
     ]
    },
    {
     "ename": "TypeError",
     "evalue": "sum() takes 2 positional arguments but 3 were given",
     "output_type": "error",
     "traceback": [
      "\u001b[1;31m---------------------------------------------------------------------------\u001b[0m\n",
      "\u001b[1;31mTypeError\u001b[0m                                 Traceback (most recent call last)\n",
      "\u001b[1;32m~\\AppData\\Local\\Temp/ipykernel_13652/1765729252.py\u001b[0m in \u001b[0;36m<module>\u001b[1;34m\u001b[0m\n",
      "\u001b[0;32m      5\u001b[0m \u001b[1;33m\u001b[0m\u001b[0m\n",
      "\u001b[0;32m      6\u001b[0m \u001b[0mprint\u001b[0m\u001b[1;33m(\u001b[0m\u001b[0msum\u001b[0m\u001b[1;33m(\u001b[0m\u001b[1;36m10\u001b[0m\u001b[1;33m,\u001b[0m \u001b[1;36m20\u001b[0m\u001b[1;33m)\u001b[0m\u001b[1;33m)\u001b[0m\u001b[1;33m\u001b[0m\u001b[1;33m\u001b[0m\u001b[0m\n",
      "\u001b[1;32m----> 7\u001b[1;33m \u001b[0mprint\u001b[0m\u001b[1;33m(\u001b[0m\u001b[0msum\u001b[0m\u001b[1;33m(\u001b[0m\u001b[1;36m10\u001b[0m\u001b[1;33m,\u001b[0m \u001b[1;36m20\u001b[0m\u001b[1;33m,\u001b[0m \u001b[1;36m30\u001b[0m\u001b[1;33m)\u001b[0m\u001b[1;33m)\u001b[0m\u001b[1;33m\u001b[0m\u001b[1;33m\u001b[0m\u001b[0m\n",
      "\u001b[0m\n",
      "\u001b[1;31mTypeError\u001b[0m: sum() takes 2 positional arguments but 3 were given"
     ]
    }
   ],
   "source": [
    "# 가변 인자, 가변 키워드 인자\n",
    "# - *, **\n",
    "def sum(v1, v2):\n",
    "    return v1 + v2\n",
    "    \n",
    "print(sum(10, 20))\n",
    "print(sum(10, 20, 30))"
   ]
  },
  {
   "cell_type": "code",
   "execution_count": null,
   "metadata": {},
   "outputs": [
    {
     "name": "stdout",
     "output_type": "stream",
     "text": [
      "(1, 2, 3, 4, 5, 'hello', 'world')\n",
      "<class 'tuple'>\n",
      "(100, 200, 300)\n",
      "<class 'tuple'>\n"
     ]
    }
   ],
   "source": [
    "# 가변 인자: 파라미터 이름 왼쪽에 *\n",
    "#  - tuple로 packing\n",
    "def sum(*values):\n",
    "    print(values)\n",
    "    print(type(values))\n",
    "\n",
    "sum(1, 2, 3, 4, 5, 'hello', 'world')\n",
    "sum(100, 200, 300)"
   ]
  },
  {
   "cell_type": "code",
   "execution_count": null,
   "metadata": {},
   "outputs": [
    {
     "name": "stdout",
     "output_type": "stream",
     "text": [
      "15\n",
      "600\n"
     ]
    }
   ],
   "source": [
    "def sum(*values):\n",
    "    sum = 0\n",
    "    for value in values:\n",
    "        sum += value\n",
    "        \n",
    "    return sum\n",
    "\n",
    "print(sum(1, 2, 3, 4, 5))\n",
    "print(sum(100, 200, 300))"
   ]
  },
  {
   "cell_type": "code",
   "execution_count": null,
   "metadata": {},
   "outputs": [
    {
     "name": "stdout",
     "output_type": "stream",
     "text": [
      "{'a': 10, 'name': '홍길동', 'age': 22, 'addr': '한양'}\n",
      "<class 'dict'>\n",
      "{'x': 10, 'y': 20, 'z': 30}\n",
      "<class 'dict'>\n"
     ]
    }
   ],
   "source": [
    "# 가변 키워드 파라미터: **\n",
    "#  - 사전으로 packing\n",
    "def show(**kwargs):\n",
    "    print(kwargs)\n",
    "    print(type(kwargs))\n",
    "    \n",
    "show(a=10, name='홍길동', age=22, addr='한양')\n",
    "show(x=10, y=20, z=30)"
   ]
  },
  {
   "cell_type": "code",
   "execution_count": null,
   "metadata": {},
   "outputs": [
    {
     "name": "stdout",
     "output_type": "stream",
     "text": [
      "홍길동 22\n",
      "('hello', 'world')\n",
      "{'addr': '한양', 'gender': '남'}\n"
     ]
    },
    {
     "ename": "TypeError",
     "evalue": "show() got multiple values for argument 'age'",
     "output_type": "error",
     "traceback": [
      "\u001b[1;31m---------------------------------------------------------------------------\u001b[0m\n",
      "\u001b[1;31mTypeError\u001b[0m                                 Traceback (most recent call last)\n",
      "\u001b[1;32m~\\AppData\\Local\\Temp/ipykernel_13652/2917931704.py\u001b[0m in \u001b[0;36m<module>\u001b[1;34m\u001b[0m\n",
      "\u001b[0;32m      7\u001b[0m \u001b[1;33m\u001b[0m\u001b[0m\n",
      "\u001b[0;32m      8\u001b[0m \u001b[0mshow\u001b[0m\u001b[1;33m(\u001b[0m\u001b[1;34m'홍길동'\u001b[0m\u001b[1;33m,\u001b[0m \u001b[1;36m22\u001b[0m\u001b[1;33m,\u001b[0m \u001b[1;34m'hello'\u001b[0m\u001b[1;33m,\u001b[0m \u001b[1;34m'world'\u001b[0m\u001b[1;33m,\u001b[0m \u001b[0maddr\u001b[0m\u001b[1;33m=\u001b[0m\u001b[1;34m'한양'\u001b[0m\u001b[1;33m,\u001b[0m \u001b[0mgender\u001b[0m\u001b[1;33m=\u001b[0m\u001b[1;34m'남'\u001b[0m\u001b[1;33m)\u001b[0m\u001b[1;33m\u001b[0m\u001b[1;33m\u001b[0m\u001b[0m\n",
      "\u001b[1;32m----> 9\u001b[1;33m \u001b[0mshow\u001b[0m\u001b[1;33m(\u001b[0m\u001b[1;34m'홍길동'\u001b[0m\u001b[1;33m,\u001b[0m \u001b[1;34m'hello'\u001b[0m\u001b[1;33m,\u001b[0m \u001b[1;34m'world'\u001b[0m\u001b[1;33m,\u001b[0m \u001b[0mage\u001b[0m\u001b[1;33m=\u001b[0m\u001b[1;36m22\u001b[0m\u001b[1;33m,\u001b[0m \u001b[0maddr\u001b[0m\u001b[1;33m=\u001b[0m\u001b[1;34m'한양'\u001b[0m\u001b[1;33m,\u001b[0m \u001b[0mgender\u001b[0m\u001b[1;33m=\u001b[0m\u001b[1;34m'남'\u001b[0m\u001b[1;33m)\u001b[0m\u001b[1;33m\u001b[0m\u001b[1;33m\u001b[0m\u001b[0m\n",
      "\u001b[0m\n",
      "\u001b[1;31mTypeError\u001b[0m: show() got multiple values for argument 'age'"
     ]
    }
   ],
   "source": [
    "# 위치 인자, 키워드 인자, 가변 인자와 가변 키워드 인자 혼용\n",
    "#  - 반드시 가변 인자 먼저 기술\n",
    "def show(name, age, *args, **kwargs):\n",
    "    print(name, age)\n",
    "    print(args)\n",
    "    print(kwargs)\n",
    "    \n",
    "show('홍길동', 22, 'hello', 'world', addr='한양', gender='남')\n",
    "show('홍길동', 'hello', 'world', age=22, addr='한양', gender='남')\n"
   ]
  },
  {
   "cell_type": "code",
   "execution_count": null,
   "metadata": {},
   "outputs": [
    {
     "name": "stdout",
     "output_type": "stream",
     "text": [
      "주소:  서울시\n",
      "{'name': '이순신', 'age': '33'}\n",
      "이름은 이순신, 나이는 33 입니다.\n"
     ]
    }
   ],
   "source": [
    "# 가변 키워드 인자의 효과적 사용\n",
    "def describe(name, age):\n",
    "    print(f'이름은 {name}, 나이는 {age} 입니다.')\n",
    "\n",
    "def print_profile(addr, **kwargs):  # PACKING\n",
    "    print('주소: ', addr)\n",
    "    print(kwargs)\n",
    "    describe(kwargs['name'], kwargs['age'])\n",
    "\n",
    "print_profile('서울시', name = '이순신', age = '33')"
   ]
  },
  {
   "cell_type": "code",
   "execution_count": null,
   "metadata": {},
   "outputs": [
    {
     "name": "stdout",
     "output_type": "stream",
     "text": [
      "이름은 홍길동, 나이는 22 입니다.\n",
      "이름은 홍길동, 나이는 22 입니다.\n",
      "이름은 이순신, 나이는 33 입니다.\n"
     ]
    }
   ],
   "source": [
    "# 함수 호출시 인자 UNPACKING\n",
    "def describe(name, age):\n",
    "    print(f'이름은 {name}, 나이는 {age} 입니다.')\n",
    "    \n",
    "args = ['홍길동', 22]   # 또는 리스트 ['홍길동', 22]\n",
    "describe(args[0], args[1])\n",
    "\n",
    "describe(*args)     # UNPACKING - 순서에 맞춰\n",
    "\n",
    "kwargs = {'age': 33, 'name': '이순신'}\n",
    "describe(**kwargs)"
   ]
  },
  {
   "cell_type": "markdown",
   "metadata": {},
   "source": [
    "## 10. 클래스"
   ]
  },
  {
   "cell_type": "code",
   "execution_count": null,
   "metadata": {},
   "outputs": [
    {
     "name": "stdout",
     "output_type": "stream",
     "text": [
      "학생이름: 홍길동, 나이: 22세, 학점: A\n",
      "학생이름: 이순신, 나이: 33세, 학점: D\n",
      "학생이름: 신사임당, 나이: 30세, 학점: A+\n"
     ]
    }
   ],
   "source": [
    "# 클래스(객체지향기법) 사용 전\n",
    "def show_student(name, age, score):\n",
    "    print(f'학생이름: {name}, 나이: {age}세, 학점: {score}')\n",
    "\n",
    "student1_name = '홍길동'\n",
    "student1_age = 22\n",
    "student1_score = 'A'\n",
    "\n",
    "show_student(student1_name, student1_age, student1_score)\n",
    "\n",
    "student2_name = '이순신'\n",
    "student2_age = 33\n",
    "student2_score = 'D'\n",
    "\n",
    "show_student(student2_name, student2_age, student2_score)\n",
    "\n",
    "student3_name = '신사임당'\n",
    "student3_age = 30\n",
    "student3_score = 'A+'\n",
    "\n",
    "show_student(student3_name, student3_age, student3_score)"
   ]
  },
  {
   "cell_type": "code",
   "execution_count": null,
   "metadata": {},
   "outputs": [],
   "source": [
    "# object, instance\n",
    "# 클래스로부터 객체를 만드는 과정을 인스턴스화(instanciation)\n",
    "# object method 용어는 안쓰고 instance method\n",
    "# instance method vs. class method\n",
    "# special method : 밑줄 두개로 메서드 이름을 감싸는 형태"
   ]
  },
  {
   "cell_type": "code",
   "execution_count": null,
   "metadata": {},
   "outputs": [
    {
     "name": "stdout",
     "output_type": "stream",
     "text": [
      "이름 : 홍길동, 나이 : 22세 , 학점 : A\n",
      "이름 : 이순신, 나이 : 33세 , 학점 : D\n",
      "이름 : 신사임당, 나이 : 30세 , 학점 : A+\n",
      "\n",
      "이름 : 홍길동, 나이 : 22세 , 학점 : A\n",
      "이름 : 이순신, 나이 : 33세 , 학점 : D\n",
      "이름 : 신사임당, 나이 : 30세 , 학점 : A+\n",
      "\n",
      "A\n",
      "이름 : 홍길동, 나이 : 22세 , 학점 : F\n"
     ]
    }
   ],
   "source": [
    "# 클래스 사용\n",
    "# - 코드의 재사용성을 높임, 함수와 데이터를 하나로 묶어 효율적으로 관리\n",
    "\n",
    "class Student():\n",
    "    count = 0       # 클래스 변수\n",
    "\n",
    "# 생성자\n",
    "# def __new__ (초기화 메서드)와 비슷 \n",
    "    def __init__(self, name, age, score):    # 인스턴스 메서드는 첫번째 인자가 자동적으로 객체 자신이 대입됨\n",
    "        self.name = name                     # 초기화 -> 변수 생성 (self.name : 인스턴스 내 생성)\n",
    "        self.age = age\n",
    "        self.score = score\n",
    "\n",
    "    def show(self):\n",
    "        print(f'이름 : {self.name}, 나이 : {self.age}세 , 학점 : {self.score}')\n",
    "\n",
    "# 인스턴스(객체) 생성\n",
    "student1 = Student('홍길동', 22, 'A')\n",
    "student2 = Student('이순신', 33, 'D')\n",
    "student3 = Student('신사임당', 30, 'A+')\n",
    "\n",
    "student1.show()\n",
    "student2.show()\n",
    "student3.show()\n",
    "\n",
    "print()\n",
    "\n",
    "students = [student1, student2, student3]\n",
    "for student in students:\n",
    "    student.show()\n",
    "\n",
    "print()\n",
    "\n",
    "# 원래 인스턴스의 속성은 직접 접근에서는 안되지만\n",
    "# 파이썬은 이름을 알면 직접 접근해서 읽거나 수정 가능\n",
    "print(student1.score)\n",
    "student1.score = 'F'\n",
    "student1.show()\n",
    "student1.parents = '홍판서'"
   ]
  },
  {
   "cell_type": "code",
   "execution_count": null,
   "metadata": {},
   "outputs": [
    {
     "name": "stdout",
     "output_type": "stream",
     "text": [
      "hello\n",
      "hi\n",
      "hello\n",
      "hi\n"
     ]
    }
   ],
   "source": [
    "class Greet():\n",
    "    def hello(self):\n",
    "        print(\"hello\")\n",
    "    \n",
    "    def hi(self):\n",
    "        print(\"hi\")\n",
    "\n",
    "human1 = Greet()\n",
    "human2 = Greet()\n",
    "\n",
    "human1.hello()\n",
    "human1.hi()\n",
    "\n",
    "human2.hello()\n",
    "human2.hi()"
   ]
  },
  {
   "cell_type": "code",
   "execution_count": null,
   "metadata": {},
   "outputs": [
    {
     "name": "stdout",
     "output_type": "stream",
     "text": [
      "이름:김철수, 나이:17, 좋아하는것:축구\n",
      "이름:장다인, 나이:5, 좋아하는것:헬로카봇\n"
     ]
    }
   ],
   "source": [
    "class Student():\n",
    "    def __init__(self,name,age,like):\n",
    "        self.name = name\n",
    "        self.age = age\n",
    "        self.like = like\n",
    "\n",
    "    def studentInfo(self):\n",
    "        print(f\"이름:{self.name}, 나이:{self.age}, 좋아하는것:{self.like}\")\n",
    "\n",
    "\n",
    "김철수 = Student(\"김철수\",17,\"축구\")\n",
    "장다인 = Student(\"장다인\",5,\"헬로카봇\")\n",
    "\n",
    "김철수.studentInfo()\n",
    "장다인.studentInfo()"
   ]
  },
  {
   "cell_type": "code",
   "execution_count": null,
   "metadata": {},
   "outputs": [],
   "source": [
    "# 상속(Inheritance)\n",
    "# - 확장한다(extend)\n",
    "# - 상위 클래스로 갈수록 추상, 일반화, 공통의 특성(속성)/행위(메서드)\n",
    "# - 코드 재사용성 높임\n",
    "\n",
    "# - 파이썬 상속\n",
    "# - 별도의 키워드는 없고\n",
    "# - 클래스 괄호 안에 상위 클래스 이름을 명기\n",
    "\n",
    "# 다중 상속(Multiple Inheritance)\n",
    "# - 파이썬 지원"
   ]
  },
  {
   "cell_type": "code",
   "execution_count": null,
   "metadata": {},
   "outputs": [
    {
     "name": "stdout",
     "output_type": "stream",
     "text": [
      "엄마는\n",
      "키가 크다.\n",
      "공부를 잘한다.\n",
      "딸은\n",
      "키가 크다.\n",
      "공부를 잘한다.\n",
      "운동을 잘한다.\n"
     ]
    }
   ],
   "source": [
    "class Mother():\n",
    "    def characteristic(self):\n",
    "        print(\"키가 크다.\")\n",
    "        print(\"공부를 잘한다.\")\n",
    "\n",
    "class Daughter(Mother):\n",
    "    def characteristic(self):\n",
    "        super().characteristic()    # super : 상위 클래스\n",
    "        print(\"운동을 잘한다.\")\n",
    "\n",
    "엄마 = Mother()\n",
    "딸 = Daughter()\n",
    "\n",
    "print(\"엄마는\")\n",
    "엄마.characteristic()\n",
    "print(\"딸은\")\n",
    "딸.characteristic()"
   ]
  },
  {
   "cell_type": "code",
   "execution_count": null,
   "metadata": {},
   "outputs": [
    {
     "name": "stdout",
     "output_type": "stream",
     "text": [
      "엄마는\n",
      "키가 크다.\n",
      "공부를 잘한다.\n",
      "딸은\n",
      "키가 크다.\n",
      "공부를 잘한다.\n",
      "운동을 잘한다.\n"
     ]
    }
   ],
   "source": [
    "class Mother():\n",
    "    def __init__(self):\n",
    "        print(\"키가 크다.\")\n",
    "        print(\"공부를 잘한다.\")\n",
    "\n",
    "class Daughter(Mother):\n",
    "    def __init__(self):\n",
    "        super().__init__()\n",
    "        print(\"운동을 잘한다.\")\n",
    "\n",
    "print(\"엄마는\")\n",
    "엄마 = Mother()\n",
    "print(\"딸은\")\n",
    "딸 = Daughter()\n"
   ]
  },
  {
   "cell_type": "markdown",
   "metadata": {},
   "source": [
    "## 11. 주석"
   ]
  },
  {
   "cell_type": "code",
   "execution_count": null,
   "metadata": {},
   "outputs": [
    {
     "name": "stdout",
     "output_type": "stream",
     "text": [
      "hello\n"
     ]
    }
   ],
   "source": [
    "#주석입니다.\n",
    "#사용자 설명 코드 입니다.\n",
    "\n",
    "print(\"hello\") # 코드의 줄 끝에 사용할수 있습니다."
   ]
  },
  {
   "cell_type": "code",
   "execution_count": null,
   "metadata": {},
   "outputs": [
    {
     "name": "stdout",
     "output_type": "stream",
     "text": [
      "hi\n"
     ]
    }
   ],
   "source": [
    "#print(\"hello\")\n",
    "print(\"hi\")"
   ]
  },
  {
   "cell_type": "code",
   "execution_count": null,
   "metadata": {},
   "outputs": [
    {
     "data": {
      "text/plain": [
       "'\\n여러줄을 입력할때는 \\n쌍따옴표 3개로 시작하고 \\n쌍따옴표 3개로 종료하면 \\n여러줄을 입력할 수 있습니다.\\n'"
      ]
     },
     "metadata": {},
     "output_type": "display_data"
    }
   ],
   "source": [
    "\"\"\"\n",
    "여러줄을 입력할때는 \n",
    "쌍따옴표 3개로 시작하고 \n",
    "쌍따옴표 3개로 종료하면 \n",
    "여러줄을 입력할 수 있습니다.\n",
    "\"\"\""
   ]
  },
  {
   "cell_type": "code",
   "execution_count": null,
   "metadata": {},
   "outputs": [
    {
     "data": {
      "text/plain": [
       "'\\n또는 여러줄을 입력할때는 \\n따옴표 3개로 시작하고 \\n따옴표 3개로 종료하면 \\n여러줄을 입력할 수 있습니다.\\n'"
      ]
     },
     "metadata": {},
     "output_type": "display_data"
    }
   ],
   "source": [
    "'''\n",
    "또는 여러줄을 입력할때는 \n",
    "따옴표 3개로 시작하고 \n",
    "따옴표 3개로 종료하면 \n",
    "여러줄을 입력할 수 있습니다.\n",
    "'''"
   ]
  },
  {
   "cell_type": "code",
   "execution_count": null,
   "metadata": {},
   "outputs": [
    {
     "name": "stdout",
     "output_type": "stream",
     "text": [
      "\n",
      "여러줄의\n",
      "문자열을 입력할때도 \n",
      "쌍따옴표 또는 따옴표 \n",
      "3개를 사용할수 있습니다.\n",
      "\n"
     ]
    }
   ],
   "source": [
    "a_str = \"\"\"\n",
    "여러줄의\n",
    "문자열을 입력할때도 \n",
    "쌍따옴표 또는 따옴표 \n",
    "3개를 사용할수 있습니다.\n",
    "\"\"\"\n",
    "print(a_str)"
   ]
  },
  {
   "cell_type": "code",
   "execution_count": null,
   "metadata": {},
   "outputs": [
    {
     "name": "stdout",
     "output_type": "stream",
     "text": [
      "3\n"
     ]
    }
   ],
   "source": [
    "#여러줄을 마우스로 드래그 하여 선택 후 [컨트롤 + /] 로 주석처리 할수 있습니다.\n",
    "#다시 주석을 해제할때는 # 주석처리된 코드에서 [컨트롤 + /] 로 주석을 해제 할수 있습니다.\n",
    "\n",
    "# a = 1\n",
    "# b = 2\n",
    "# print(a + b)"
   ]
  },
  {
   "cell_type": "markdown",
   "metadata": {},
   "source": [
    "## 12. import"
   ]
  },
  {
   "cell_type": "code",
   "execution_count": null,
   "metadata": {},
   "outputs": [],
   "source": [
    "# 모듈 (파일)\n",
    "#  - 확장자 py인 텍스트 파일(소스 파일)\n",
    "\n",
    "# cf.) 패키지"
   ]
  },
  {
   "cell_type": "code",
   "execution_count": null,
   "metadata": {},
   "outputs": [
    {
     "name": "stdout",
     "output_type": "stream",
     "text": [
      "36\n"
     ]
    }
   ],
   "source": [
    "import random\n",
    "\n",
    "print(random.randint(1, 100))   # 100 포함"
   ]
  },
  {
   "cell_type": "code",
   "execution_count": null,
   "metadata": {},
   "outputs": [],
   "source": [
    "print(random.random())   # random 모듈 안의 random 함수"
   ]
  },
  {
   "cell_type": "code",
   "execution_count": null,
   "metadata": {},
   "outputs": [],
   "source": [
    "# 임포트를 하면 해당 모듈 또는 함수, 클래스 이름이 이름 공간에 등록\n",
    "print(dir())\n",
    "\n",
    "print()\n",
    "\n",
    "import random as rd\n",
    "\n",
    "print(dir())\n"
   ]
  },
  {
   "cell_type": "code",
   "execution_count": null,
   "metadata": {},
   "outputs": [
    {
     "name": "stdout",
     "output_type": "stream",
     "text": [
      "52\n"
     ]
    }
   ],
   "source": [
    "import random as rd\n",
    "\n",
    "print(rd.randint(1, 100))"
   ]
  },
  {
   "cell_type": "code",
   "execution_count": null,
   "metadata": {},
   "outputs": [
    {
     "name": "stdout",
     "output_type": "stream",
     "text": [
      "23\n"
     ]
    }
   ],
   "source": [
    "from random import randint  # 특정\n",
    "\n",
    "print(randint(1, 100))"
   ]
  },
  {
   "cell_type": "code",
   "execution_count": null,
   "metadata": {},
   "outputs": [],
   "source": [
    "print(dir())    # randint ns에 등록 -> random. 안붙여도 사용 가능"
   ]
  },
  {
   "cell_type": "code",
   "execution_count": null,
   "metadata": {},
   "outputs": [
    {
     "name": "stdout",
     "output_type": "stream",
     "text": [
      "95\n"
     ]
    }
   ],
   "source": [
    "from random import *\n",
    "\n",
    "print(randint(1, 100))"
   ]
  },
  {
   "cell_type": "markdown",
   "metadata": {},
   "source": [
    "# 아나콘다를 이용한 파이썬 가상 환경 만들고 다루기\n",
    "## - conda cheat sheet\n",
    "### - [링크](https://docs.conda.io/projects/conda/en/4.6.0/_downloads/52a95608c49671267e40c689e0bc00ca/conda-cheatsheet.pdf)"
   ]
  },
  {
   "cell_type": "code",
   "execution_count": null,
   "metadata": {
    "vscode": {
     "languageId": "shellscript"
    }
   },
   "outputs": [],
   "source": [
    "conda info\n",
    "conda update conda\n",
    "conda activate base\n",
    "conda deactivate\n",
    "conda env list\n",
    "python --version\n",
    "conda create -n forty python=3.10"
   ]
  },
  {
   "cell_type": "code",
   "execution_count": null,
   "metadata": {
    "vscode": {
     "languageId": "shellscript"
    }
   },
   "outputs": [],
   "source": [
    "done\n",
    "#\n",
    "# To activate this environment, use\n",
    "#\n",
    "#     $ conda activate forty\n",
    "#\n",
    "# To deactivate an active environment, use\n",
    "#\n",
    "#     $ conda deactivate\n",
    "\n",
    "\n",
    "C:\\Users\\r2com>conda env list\n",
    "# conda environments:\n",
    "#\n",
    "base                  *  C:\\ProgramData\\Anaconda3\n",
    "forty                    C:\\Users\\r2com\\.conda\\envs\\forty\n",
    "\n",
    "\n",
    "C:\\Users\\r2com>conda activate forty\n",
    "\n",
    "(forty) C:\\Users\\r2com>python --version\n",
    "Python 3.10.4\n",
    "\n",
    "(forty) C:\\Users\\r2com>conda env list\n",
    "# conda environments:\n",
    "#\n",
    "base                     C:\\ProgramData\\Anaconda3\n",
    "forty                 *  C:\\Users\\r2com\\.conda\\envs\\forty\n",
    "\n",
    "\n",
    "(forty) C:\\Users\\r2com>conda activate base\n",
    "\n",
    "(base) C:\\Users\\r2com>conda deactivate\n",
    "\n",
    "(forty) C:\\Users\\r2com>conda list\n",
    "# packages in environment at C:\\Users\\r2com\\.conda\\envs\\forty:\n",
    "#\n",
    "# Name                    Version                   Build  Channel\n",
    "bzip2                     1.0.8                he774522_0\n",
    "ca-certificates           2022.4.26            haa95532_0\n",
    "certifi                   2020.6.20          pyhd3eb1b0_3\n",
    "libffi                    3.4.2                h604cdb4_1\n",
    "openssl                   1.1.1o               h2bbff1b_0\n",
    "pip                       21.2.4          py310haa95532_0\n",
    "python                    3.10.4               hbb2ffb3_0\n",
    "setuptools                61.2.0          py310haa95532_0\n",
    "sqlite                    3.38.3               h2bbff1b_0\n",
    "tk                        8.6.11               h2bbff1b_1\n",
    "tzdata                    2022a                hda174b7_0\n",
    "vc                        14.2                 h21ff451_1\n",
    "vs2015_runtime            14.27.29016          h5e58377_2\n",
    "wheel                     0.37.1             pyhd3eb1b0_0\n",
    "wincertstore              0.2             py310haa95532_2\n",
    "xz                        5.2.5                h8cc25b3_1\n",
    "zlib                      1.2.12               h8cc25b3_2\n",
    "\n",
    "(forty) C:\\Users\\r2com>conda list --revisions\n",
    "2022-05-11 16:48:02  (rev 0)\n",
    "    +bzip2-1.0.8 (defaults/win-64)\n",
    "    +ca-certificates-2022.4.26 (defaults/win-64)\n",
    "    +certifi-2020.6.20 (defaults/noarch)\n",
    "    +libffi-3.4.2 (defaults/win-64)\n",
    "    +openssl-1.1.1o (defaults/win-64)\n",
    "    +pip-21.2.4 (defaults/win-64)\n",
    "    +python-3.10.4 (defaults/win-64)\n",
    "    +setuptools-61.2.0 (defaults/win-64)\n",
    "    +sqlite-3.38.3 (defaults/win-64)\n",
    "    +tk-8.6.11 (defaults/win-64)\n",
    "    +tzdata-2022a (defaults/noarch)\n",
    "    +vc-14.2 (defaults/win-64)\n",
    "    +vs2015_runtime-14.27.29016 (defaults/win-64)\n",
    "    +wheel-0.37.1 (defaults/noarch)\n",
    "    +wincertstore-0.2 (defaults/win-64)\n",
    "    +xz-5.2.5 (defaults/win-64)\n",
    "    +zlib-1.2.12 (defaults/win-64)\n",
    "\n",
    "\n",
    "(forty) C:\\Users\\r2com>conda list --explicit\n",
    "# This file may be used to create an environment using:\n",
    "# $ conda create --name <env> --file <this file>\n",
    "# platform: win-64\n",
    "@EXPLICIT\n",
    "https://repo.anaconda.com/pkgs/main/win-64/ca-certificates-2022.4.26-haa95532_0.conda\n",
    "https://repo.anaconda.com/pkgs/main/noarch/tzdata-2022a-hda174b7_0.conda\n",
    "https://repo.anaconda.com/pkgs/main/win-64/vs2015_runtime-14.27.29016-h5e58377_2.conda\n",
    "https://repo.anaconda.com/pkgs/main/win-64/vc-14.2-h21ff451_1.conda\n",
    "https://repo.anaconda.com/pkgs/main/win-64/bzip2-1.0.8-he774522_0.conda\n",
    "https://repo.anaconda.com/pkgs/main/win-64/libffi-3.4.2-h604cdb4_1.conda\n",
    "https://repo.anaconda.com/pkgs/main/win-64/openssl-1.1.1o-h2bbff1b_0.conda\n",
    "https://repo.anaconda.com/pkgs/main/win-64/sqlite-3.38.3-h2bbff1b_0.conda\n",
    "https://repo.anaconda.com/pkgs/main/win-64/tk-8.6.11-h2bbff1b_1.conda\n",
    "https://repo.anaconda.com/pkgs/main/win-64/xz-5.2.5-h8cc25b3_1.conda\n",
    "https://repo.anaconda.com/pkgs/main/win-64/zlib-1.2.12-h8cc25b3_2.conda\n",
    "https://repo.anaconda.com/pkgs/main/win-64/python-3.10.4-hbb2ffb3_0.tar.bz2\n",
    "https://repo.anaconda.com/pkgs/main/noarch/certifi-2020.6.20-pyhd3eb1b0_3.conda\n",
    "https://repo.anaconda.com/pkgs/main/noarch/wheel-0.37.1-pyhd3eb1b0_0.conda\n",
    "https://repo.anaconda.com/pkgs/main/win-64/wincertstore-0.2-py310haa95532_2.conda\n",
    "https://repo.anaconda.com/pkgs/main/win-64/setuptools-61.2.0-py310haa95532_0.conda\n",
    "https://repo.anaconda.com/pkgs/main/win-64/pip-21.2.4-py310haa95532_0.conda\n",
    "\n",
    "(forty) C:\\Users\\r2com>conda list --explicit > forty-env.txt\n",
    "\n",
    "(forty) C:\\Users\\r2com>dir\n",
    " C 드라이브의 볼륨에는 이름이 없습니다.\n",
    " 볼륨 일련 번호: BE33-2B37\n",
    "\n",
    " C:\\Users\\r2com 디렉터리\n",
    "\n",
    "2022-05-11  오후 05:07    <DIR>          .\n",
    "2022-05-11  오후 05:07    <DIR>          ..\n",
    "2022-05-11  오후 04:47    <DIR>          .conda\n",
    "2022-05-09  오후 04:12                25 .condarc\n",
    "2022-05-09  오후 04:12    <DIR>          .continuum\n",
    "2022-04-26  오전 11:01               200 .gitconfig\n",
    "2022-05-09  오후 04:27    <DIR>          .ipython\n",
    "2022-05-09  오후 02:10               103 .python_history\n",
    "2022-04-18  오전 09:35    <DIR>          .ssh\n",
    "2022-04-29  오후 05:48    <DIR>          .VirtualBox\n",
    "2022-05-09  오후 02:36    <DIR>          .vscode\n",
    "2021-08-18  오전 09:33    <DIR>          3D Objects\n",
    "2021-08-18  오전 09:33    <DIR>          Contacts\n",
    "2022-05-10  오후 03:39    <DIR>          Desktop\n",
    "2022-05-11  오후 02:18    <DIR>          Documents\n",
    "2022-05-11  오후 04:29    <DIR>          Downloads\n",
    "2021-08-18  오전 09:33    <DIR>          Favorites\n",
    "2022-05-11  오후 05:07             1,446 forty-env.txt\n",
    "2021-08-18  오전 09:33    <DIR>          Links\n",
    "2021-08-18  오전 09:33    <DIR>          Music\n",
    "2021-08-18  오전 09:50    <DIR>          OneDrive\n",
    "2021-08-18  오전 09:34    <DIR>          Pictures\n",
    "2021-08-18  오전 09:33    <DIR>          Saved Games\n",
    "2021-08-18  오전 09:34    <DIR>          Searches\n",
    "2022-04-22  오후 05:18    <DIR>          SQL_Dump\n",
    "2022-05-09  오후 03:37                79 test.py\n",
    "2022-04-05  오전 10:30    <DIR>          Videos\n",
    "               5개 파일               1,853 바이트\n",
    "              22개 디렉터리  27,409,608,704 바이트 남음\n",
    "\n",
    "(forty) C:\\Users\\r2com>notepad forty-env.txt\n",
    "\n",
    "(forty) C:\\Users\\r2com>conda install -n forty ipykernel --update-deps --force-reinstall"
   ]
  },
  {
   "cell_type": "code",
   "execution_count": null,
   "metadata": {
    "vscode": {
     "languageId": "shellscript"
    }
   },
   "outputs": [],
   "source": [
    "done\n",
    "\n",
    "(forty) C:\\Users\\r2com>conda list --revisions\n",
    "2022-05-11 16:48:02  (rev 0)\n",
    "    +bzip2-1.0.8 (defaults/win-64)\n",
    "    +ca-certificates-2022.4.26 (defaults/win-64)\n",
    "    +certifi-2020.6.20 (defaults/noarch)\n",
    "    +libffi-3.4.2 (defaults/win-64)\n",
    "    +openssl-1.1.1o (defaults/win-64)\n",
    "    +pip-21.2.4 (defaults/win-64)\n",
    "    +python-3.10.4 (defaults/win-64)\n",
    "    +setuptools-61.2.0 (defaults/win-64)\n",
    "    +sqlite-3.38.3 (defaults/win-64)\n",
    "    +tk-8.6.11 (defaults/win-64)\n",
    "    +tzdata-2022a (defaults/noarch)\n",
    "    +vc-14.2 (defaults/win-64)\n",
    "    +vs2015_runtime-14.27.29016 (defaults/win-64)\n",
    "    +wheel-0.37.1 (defaults/noarch)\n",
    "    +wincertstore-0.2 (defaults/win-64)\n",
    "    +xz-5.2.5 (defaults/win-64)\n",
    "    +zlib-1.2.12 (defaults/win-64)\n",
    "\n",
    "2022-05-11 17:18:40  (rev 1)\n",
    "    +asttokens-2.0.5 (defaults/noarch)\n",
    "    +backcall-0.2.0 (defaults/noarch)\n",
    "    +colorama-0.4.4 (defaults/noarch)\n",
    "    +debugpy-1.5.1 (defaults/win-64)\n",
    "    +decorator-5.1.1 (defaults/noarch)\n",
    "    +entrypoints-0.4 (defaults/win-64)\n",
    "    +executing-0.8.3 (defaults/noarch)\n",
    "    +ipykernel-6.9.1 (defaults/win-64)\n",
    "    +ipython-8.3.0 (defaults/win-64)\n",
    "    +jedi-0.18.1 (defaults/win-64)\n",
    "    +jupyter_client-7.2.2 (defaults/win-64)\n",
    "    +jupyter_core-4.10.0 (defaults/win-64)\n",
    "    +matplotlib-inline-0.1.2 (defaults/noarch)\n",
    "    +nest-asyncio-1.5.5 (defaults/win-64)\n",
    "    +parso-0.8.3 (defaults/noarch)\n",
    "    +pickleshare-0.7.5 (defaults/noarch)\n",
    "    +prompt-toolkit-3.0.20 (defaults/noarch)\n",
    "    +pure_eval-0.2.2 (defaults/noarch)\n",
    "    +pygments-2.11.2 (defaults/noarch)\n",
    "    +python-dateutil-2.8.2 (defaults/noarch)\n",
    "    +pywin32-302 (defaults/win-64)\n",
    "    +pyzmq-22.3.0 (defaults/win-64)\n",
    "    +six-1.16.0 (defaults/noarch)\n",
    "    +stack_data-0.2.0 (defaults/noarch)\n",
    "    +tornado-6.1 (defaults/win-64)\n",
    "    +traitlets-5.1.1 (defaults/noarch)\n",
    "    +wcwidth-0.2.5 (defaults/noarch)\n",
    "\n",
    "\n",
    "(forty) C:\\Users\\r2com>"
   ]
  },
  {
   "cell_type": "markdown",
   "metadata": {},
   "source": [
    "# 기초 프로그램 만들기"
   ]
  },
  {
   "cell_type": "markdown",
   "metadata": {},
   "source": [
    "## 00. 로또 번호 생성기"
   ]
  },
  {
   "cell_type": "code",
   "execution_count": null,
   "metadata": {},
   "outputs": [
    {
     "name": "stdout",
     "output_type": "stream",
     "text": [
      "[5, 1, 2, 2, 5, 8, 6, 1, 9, 2]\n",
      "[7, 6, 8, 6, 4, 1, 7, 8, 8, 2]\n"
     ]
    }
   ],
   "source": [
    "# random\n",
    "\n",
    "import random\n",
    "\n",
    "random.random()\n",
    "\n",
    "random.uniform(0.0, 20.2)\n",
    "\n",
    "print([random.randrange(1,10) for _ in range(10)])\n",
    "print([random.randint(1,10) for _ in range(10)])"
   ]
  },
  {
   "cell_type": "code",
   "execution_count": null,
   "metadata": {},
   "outputs": [
    {
     "data": {
      "text/plain": [
       "30"
      ]
     },
     "metadata": {},
     "output_type": "display_data"
    }
   ],
   "source": [
    "random.choice(range(20, 30))\n",
    "random.choice([0, 30, 'hello', -12, 33])"
   ]
  },
  {
   "cell_type": "code",
   "execution_count": null,
   "metadata": {},
   "outputs": [
    {
     "name": "stdout",
     "output_type": "stream",
     "text": [
      "\n",
      "[6, 7, 39, 43, 28, 31]\n"
     ]
    }
   ],
   "source": [
    "# lotto 생성기\n",
    "\n",
    "from random import choice\n",
    "\n",
    "[choice(range(1, 45+1)) for _ in range(6)]  # 중복된 수 \n",
    "\n",
    "print()\n",
    "\n",
    "lotto = []\n",
    "\n",
    "while True:\n",
    "    lotto.append(choice(range(1,45+1)))\n",
    "    lotto = list(set(lotto))\n",
    "    if len(lotto) >= 6:\n",
    "        print(lotto)\n",
    "        break"
   ]
  },
  {
   "cell_type": "code",
   "execution_count": null,
   "metadata": {},
   "outputs": [
    {
     "name": "stdout",
     "output_type": "stream",
     "text": [
      "이번 주 로또 1등 번호는 [31, 41, 13, 32, 12, 6]\n"
     ]
    }
   ],
   "source": [
    "lotto_numbers = list(range(1, 45+1))\n",
    "\n",
    "lotto = []\n",
    "for _ in range(6):\n",
    "    selected = choice(lotto_numbers)\n",
    "    lotto_numbers.remove(selected)\n",
    "    lotto.append(selected)\n",
    "\n",
    "print(f'이번 주 로또 1등 번호는 {lotto}')"
   ]
  },
  {
   "cell_type": "code",
   "execution_count": null,
   "metadata": {},
   "outputs": [
    {
     "name": "stdout",
     "output_type": "stream",
     "text": [
      "이번 주 로또 1등 번호는 [23, 1, 31, 9, 25, 30]\n"
     ]
    }
   ],
   "source": [
    "lotto_numbers = list(range(1, 45+1))\n",
    "\n",
    "lotto = []\n",
    "for _ in range(6):\n",
    "\n",
    "    lotto.append(lotto_numbers.pop(                     # pop : 위치(index) 지정\n",
    "        lotto_numbers.index(choice(lotto_numbers))))    # 이미 뽑힌 값을 lotto_numbers 리스트에서 제거 > lotto 리스트에 append\n",
    "\n",
    "\n",
    "print(f'이번 주 로또 1등 번호는 {lotto}')"
   ]
  },
  {
   "cell_type": "code",
   "execution_count": null,
   "metadata": {},
   "outputs": [],
   "source": [
    "from random import choice\n",
    "\n",
    "class Lotto():\n",
    "    def __init__(self, size):\n",
    "        self.size = size\n",
    "        \n",
    "    def run(self):\n",
    "        for _ in range(self.size):\n",
    "            lotto = [] \n",
    "            while True:\n",
    "                lotto.append(choice(range(1, 45+1)))\n",
    "                lotto = list(set(lotto))\n",
    "                if len(lotto) >= 6:\n",
    "                    break\n",
    "                \n",
    "            print(f'이번 주 로또 1등 번호는 {lotto}')\n",
    "        "
   ]
  },
  {
   "cell_type": "code",
   "execution_count": null,
   "metadata": {},
   "outputs": [
    {
     "name": "stdout",
     "output_type": "stream",
     "text": [
      "이번 주 로또 1등 번호는 [34, 4, 7, 45, 14, 27]\n",
      "이번 주 로또 1등 번호는 [33, 8, 44, 16, 18, 27]\n",
      "이번 주 로또 1등 번호는 [33, 2, 3, 39, 11, 19]\n",
      "이번 주 로또 1등 번호는 [37, 39, 12, 44, 23, 30]\n",
      "이번 주 로또 1등 번호는 [32, 3, 41, 11, 22, 28]\n"
     ]
    }
   ],
   "source": [
    "my_lotto = Lotto(5)\n",
    "my_lotto.run()"
   ]
  },
  {
   "cell_type": "markdown",
   "metadata": {},
   "source": [
    "## 01. 숫자 맞추기 게임 만들기"
   ]
  },
  {
   "cell_type": "code",
   "execution_count": 28,
   "metadata": {},
   "outputs": [
    {
     "name": "stdout",
     "output_type": "stream",
     "text": [
      "다운\n",
      "다운\n",
      "다운\n",
      "다운\n",
      "다운\n",
      "다운\n",
      "다운\n",
      "축하합니다.8회 만에 맞췄습니다\n"
     ]
    }
   ],
   "source": [
    "import random\n",
    "\n",
    "random_number = random.randint(1, 100)\n",
    "\n",
    "#print(random_number)\n",
    "\n",
    "game_count = 1\n",
    "\n",
    "while True:\n",
    "    my_number = int(input(\"1~100 사이의 숫자를 입력하세요:\"))\n",
    "    \n",
    "    if my_number > random_number:\n",
    "        print(\"다운\")\n",
    "    elif my_number < random_number:\n",
    "        print(\"업\")\n",
    "#    elif my_number == random_number:\n",
    "    else:\n",
    "        print(f\"축하합니다.{game_count}회 만에 맞췄습니다\")\n",
    "        break\n",
    "    \n",
    "    game_count = game_count + 1\n"
   ]
  },
  {
   "cell_type": "markdown",
   "metadata": {},
   "source": [
    "## 02. 컴퓨터의 외부 및 내부 IP 확인"
   ]
  },
  {
   "cell_type": "code",
   "execution_count": 8,
   "metadata": {},
   "outputs": [
    {
     "name": "stdout",
     "output_type": "stream",
     "text": [
      "192.168.56.1\n"
     ]
    }
   ],
   "source": [
    "import socket\n",
    "\n",
    "in_addr = socket.gethostbyname(socket.gethostname())\n",
    "\n",
    "print(in_addr)"
   ]
  },
  {
   "cell_type": "code",
   "execution_count": null,
   "metadata": {},
   "outputs": [],
   "source": [
    "import socket\n",
    "\n",
    "in_addr = socket.socket(socket.AF_INET, socket.SOCK_STREAM)\n",
    "in_addr.connect((\"www.google.co.kr\", 443))\n",
    "print(in_addr.getsockname()[0])"
   ]
  },
  {
   "cell_type": "code",
   "execution_count": null,
   "metadata": {},
   "outputs": [],
   "source": [
    "import requests\n",
    "import re\n",
    "\n",
    "req = requests.get(\"http://ipconfig.kr\")\n",
    "out_addr = re.search(r'IP Address : (\\d{1,3}\\.\\d{1,3}\\.\\d{1,3}\\.\\d{1,3})', req.text)[1]\n",
    "print(out_addr)"
   ]
  }
 ],
 "metadata": {
  "interpreter": {
   "hash": "ad2bdc8ecc057115af97d19610ffacc2b4e99fae6737bb82f5d7fb13d2f2c186"
  },
  "kernelspec": {
   "display_name": "Python 3.9.7 ('base')",
   "language": "python",
   "name": "python3"
  },
  "language_info": {
   "codemirror_mode": {
    "name": "ipython",
    "version": 3
   },
   "file_extension": ".py",
   "mimetype": "text/x-python",
   "name": "python",
   "nbconvert_exporter": "python",
   "pygments_lexer": "ipython3",
   "version": "3.9.7"
  },
  "orig_nbformat": 4
 },
 "nbformat": 4,
 "nbformat_minor": 2
}
